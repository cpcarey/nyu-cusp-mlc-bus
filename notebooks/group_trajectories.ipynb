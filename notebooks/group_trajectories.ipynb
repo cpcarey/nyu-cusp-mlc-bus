{
 "cells": [
  {
   "cell_type": "code",
   "execution_count": 1,
   "id": "ethical-virtue",
   "metadata": {},
   "outputs": [],
   "source": [
    "import osmnx as ox\n",
    "import geopandas as gpd\n",
    "import numpy as npm\n",
    "import matplotlib\n",
    "import matplotlib.pyplot as plt\n",
    "import pandas as pd\n",
    "from shapely.geometry import Point\n",
    "from shapely.geometry import LineString\n",
    "from shapely.geometry import MultiLineString\n",
    "from collections import deque\n",
    "import datetime\n",
    "\n",
    "import warnings\n",
    "warnings.filterwarnings('ignore')\n",
    "%matplotlib inline"
   ]
  },
  {
   "cell_type": "code",
   "execution_count": 2,
   "id": "wicked-exposure",
   "metadata": {},
   "outputs": [],
   "source": [
    "CRS_PLOT = 'EPSG:4326'\n",
    "DATA_DIR = '../data'\n",
    "EXPORTS_DIR = f'{DATA_DIR}/exports'"
   ]
  },
  {
   "cell_type": "code",
   "execution_count": 3,
   "id": "consistent-video",
   "metadata": {},
   "outputs": [],
   "source": [
    "bus_df = pd.read_csv(f'{DATA_DIR}/MTA_bus(1).csv')\n",
    "bus_gdf = gpd.GeoDataFrame(bus_df, geometry=gpd.points_from_xy(bus_df['longitude'], bus_df['latitude'])).set_crs(CRS_PLOT)"
   ]
  },
  {
   "cell_type": "code",
   "execution_count": 4,
   "id": "incomplete-queens",
   "metadata": {},
   "outputs": [],
   "source": [
    "b25_gdf = bus_gdf[bus_gdf['route'].str.contains('B25')]"
   ]
  },
  {
   "cell_type": "code",
   "execution_count": 5,
   "id": "colored-jurisdiction",
   "metadata": {},
   "outputs": [],
   "source": [
    "b25_gdf = b25_gdf[['bus_id', 'x', 'datetime', 'latitude', 'longitude', 'geometry']]\n",
    "b25_gdf['datetime'] = pd.to_datetime(b25_gdf['datetime']) - datetime.timedelta(hours=12)"
   ]
  },
  {
   "cell_type": "code",
   "execution_count": 6,
   "id": "running-girlfriend",
   "metadata": {},
   "outputs": [],
   "source": [
    "b25_gdf = b25_gdf.sort_values(by=['bus_id', 'datetime'])"
   ]
  },
  {
   "cell_type": "code",
   "execution_count": 7,
   "id": "written-legend",
   "metadata": {},
   "outputs": [],
   "source": [
    "b25_gdf.to_csv(f'{EXPORTS_DIR}/b25_all_trajectories.csv', index=False)"
   ]
  },
  {
   "cell_type": "code",
   "execution_count": 8,
   "id": "physical-midwest",
   "metadata": {},
   "outputs": [
    {
     "data": {
      "text/plain": [
       "<AxesSubplot:>"
      ]
     },
     "execution_count": 8,
     "metadata": {},
     "output_type": "execute_result"
    },
    {
     "data": {
      "image/png": "[encoded data removed]",
      "text/plain": [
       "<Figure size 432x288 with 1 Axes>"
      ]
     },
     "metadata": {
      "needs_background": "light"
     },
     "output_type": "display_data"
    }
   ],
   "source": [
    "b25_gdf.plot()"
   ]
  },
  {
   "cell_type": "code",
   "execution_count": null,
   "id": "pending-british",
   "metadata": {},
   "outputs": [],
   "source": []
  },
  {
   "cell_type": "code",
   "execution_count": null,
   "id": "attempted-russia",
   "metadata": {},
   "outputs": [],
   "source": []
  }
 ],
 "metadata": {
  "kernelspec": {
   "display_name": "Python 3",
   "language": "python",
   "name": "python3"
  },
  "language_info": {
   "codemirror_mode": {
    "name": "ipython",
    "version": 3
   },
   "file_extension": ".py",
   "mimetype": "text/x-python",
   "name": "python",
   "nbconvert_exporter": "python",
   "pygments_lexer": "ipython3",
   "version": "3.7.6"
  }
 },
 "nbformat": 4,
 "nbformat_minor": 5
}
