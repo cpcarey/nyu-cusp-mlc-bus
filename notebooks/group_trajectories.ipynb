{
 "cells": [
  {
   "cell_type": "code",
   "execution_count": 1,
   "id": "rotary-checklist",
   "metadata": {},
   "outputs": [],
   "source": [
    "import osmnx as ox\n",
    "import geopandas as gpd\n",
    "import numpy as npm\n",
    "import matplotlib\n",
    "import matplotlib.pyplot as plt\n",
    "import pandas as pd\n",
    "from shapely.geometry import Point\n",
    "from shapely.geometry import LineString\n",
    "from shapely.geometry import MultiLineString\n",
    "from collections import deque\n",
    "import datetime\n",
    "\n",
    "import warnings\n",
    "warnings.filterwarnings('ignore')\n",
    "%matplotlib inline"
   ]
  },
  {
   "cell_type": "code",
   "execution_count": 2,
   "id": "younger-happiness",
   "metadata": {},
   "outputs": [],
   "source": [
    "CRS_PLOT = 'EPSG:4326'\n",
    "DATA_DIR = '../data'\n",
    "EXPORTS_DIR = f'{DATA_DIR}/exports'\n",
    "ROUTE = 'B26'\n",
    "COLUMNS = ['route', 'x', 'latitude', 'longitude', 'bus_id', 'datetime']"
   ]
  },
  {
   "cell_type": "code",
   "execution_count": 3,
   "id": "experimental-appeal",
   "metadata": {},
   "outputs": [],
   "source": [
    "bus_df = pd.read_csv(f'{DATA_DIR}/MTA-Bus-2021-7-5.csv', names=COLUMNS)\n",
    "bus_gdf = gpd.GeoDataFrame(bus_df, geometry=gpd.points_from_xy(bus_df['longitude'], bus_df['latitude'])).set_crs(CRS_PLOT)"
   ]
  },
  {
   "cell_type": "code",
   "execution_count": 4,
   "id": "involved-migration",
   "metadata": {},
   "outputs": [
    {
     "data": {
      "text/html": [
       "<div>\n",
       "<style scoped>\n",
       "    .dataframe tbody tr th:only-of-type {\n",
       "        vertical-align: middle;\n",
       "    }\n",
       "\n",
       "    .dataframe tbody tr th {\n",
       "        vertical-align: top;\n",
       "    }\n",
       "\n",
       "    .dataframe thead th {\n",
       "        text-align: right;\n",
       "    }\n",
       "</style>\n",
       "<table border=\"1\" class=\"dataframe\">\n",
       "  <thead>\n",
       "    <tr style=\"text-align: right;\">\n",
       "      <th></th>\n",
       "      <th>route</th>\n",
       "      <th>x</th>\n",
       "      <th>latitude</th>\n",
       "      <th>longitude</th>\n",
       "      <th>bus_id</th>\n",
       "      <th>datetime</th>\n",
       "      <th>geometry</th>\n",
       "    </tr>\n",
       "  </thead>\n",
       "  <tbody>\n",
       "    <tr>\n",
       "      <th>183</th>\n",
       "      <td>MTA NYCT_B26</td>\n",
       "      <td>1</td>\n",
       "      <td>40.682503</td>\n",
       "      <td>-73.943588</td>\n",
       "      <td>MTA NYCT_4407</td>\n",
       "      <td>Sun Jul 04 23:44:38 CST 2021</td>\n",
       "      <td>POINT (-73.94359 40.68250)</td>\n",
       "    </tr>\n",
       "    <tr>\n",
       "      <th>186</th>\n",
       "      <td>MTA NYCT_B26</td>\n",
       "      <td>0</td>\n",
       "      <td>40.695408</td>\n",
       "      <td>-73.987160</td>\n",
       "      <td>MTA NYCT_4442</td>\n",
       "      <td>Sun Jul 04 23:44:48 CST 2021</td>\n",
       "      <td>POINT (-73.98716 40.69541)</td>\n",
       "    </tr>\n",
       "    <tr>\n",
       "      <th>213</th>\n",
       "      <td>MTA NYCT_B26</td>\n",
       "      <td>0</td>\n",
       "      <td>40.682083</td>\n",
       "      <td>-73.960258</td>\n",
       "      <td>MTA NYCT_4447</td>\n",
       "      <td>Sun Jul 04 23:44:50 CST 2021</td>\n",
       "      <td>POINT (-73.96026 40.68208)</td>\n",
       "    </tr>\n",
       "    <tr>\n",
       "      <th>1007</th>\n",
       "      <td>MTA NYCT_B26</td>\n",
       "      <td>1</td>\n",
       "      <td>40.691322</td>\n",
       "      <td>-73.909714</td>\n",
       "      <td>MTA NYCT_7802</td>\n",
       "      <td>Sun Jul 04 23:44:46 CST 2021</td>\n",
       "      <td>POINT (-73.90971 40.69132)</td>\n",
       "    </tr>\n",
       "    <tr>\n",
       "      <th>1041</th>\n",
       "      <td>MTA NYCT_B26</td>\n",
       "      <td>0</td>\n",
       "      <td>40.699467</td>\n",
       "      <td>-73.910934</td>\n",
       "      <td>MTA NYCT_7819</td>\n",
       "      <td>Sun Jul 04 23:44:48 CST 2021</td>\n",
       "      <td>POINT (-73.91093 40.69947)</td>\n",
       "    </tr>\n",
       "  </tbody>\n",
       "</table>\n",
       "</div>"
      ],
      "text/plain": [
       "             route  x   latitude  longitude         bus_id  \\\n",
       "183   MTA NYCT_B26  1  40.682503 -73.943588  MTA NYCT_4407   \n",
       "186   MTA NYCT_B26  0  40.695408 -73.987160  MTA NYCT_4442   \n",
       "213   MTA NYCT_B26  0  40.682083 -73.960258  MTA NYCT_4447   \n",
       "1007  MTA NYCT_B26  1  40.691322 -73.909714  MTA NYCT_7802   \n",
       "1041  MTA NYCT_B26  0  40.699467 -73.910934  MTA NYCT_7819   \n",
       "\n",
       "                          datetime                    geometry  \n",
       "183   Sun Jul 04 23:44:38 CST 2021  POINT (-73.94359 40.68250)  \n",
       "186   Sun Jul 04 23:44:48 CST 2021  POINT (-73.98716 40.69541)  \n",
       "213   Sun Jul 04 23:44:50 CST 2021  POINT (-73.96026 40.68208)  \n",
       "1007  Sun Jul 04 23:44:46 CST 2021  POINT (-73.90971 40.69132)  \n",
       "1041  Sun Jul 04 23:44:48 CST 2021  POINT (-73.91093 40.69947)  "
      ]
     },
     "execution_count": 4,
     "metadata": {},
     "output_type": "execute_result"
    }
   ],
   "source": [
    "b_gdf = bus_gdf[bus_gdf['route'].str.contains(ROUTE)]\n",
    "b_gdf.head()"
   ]
  },
  {
   "cell_type": "code",
   "execution_count": 5,
   "id": "cathedral-column",
   "metadata": {},
   "outputs": [],
   "source": [
    "b_gdf = b_gdf[['bus_id', 'x', 'datetime', 'latitude', 'longitude', 'geometry']]\n",
    "b_gdf['datetime'] = pd.to_datetime(b_gdf['datetime']) - datetime.timedelta(hours=12)"
   ]
  },
  {
   "cell_type": "code",
   "execution_count": 6,
   "id": "right-massachusetts",
   "metadata": {},
   "outputs": [],
   "source": [
    "b_gdf = b_gdf.sort_values(by=['bus_id', 'datetime'])"
   ]
  },
  {
   "cell_type": "code",
   "execution_count": 7,
   "id": "characteristic-litigation",
   "metadata": {},
   "outputs": [],
   "source": [
    "b_gdf.to_csv(f'{EXPORTS_DIR}/{ROUTE.lower()}_all_trajectories.csv', index=False)"
   ]
  },
  {
   "cell_type": "code",
   "execution_count": 8,
   "id": "imported-center",
   "metadata": {},
   "outputs": [
    {
     "data": {
      "text/plain": [
       "<AxesSubplot:>"
      ]
     },
     "execution_count": 8,
     "metadata": {},
     "output_type": "execute_result"
    },
    {
     "data": {
      "image/png": "[encoded data removed]",
      "text/plain": [
       "<Figure size 432x288 with 1 Axes>"
      ]
     },
     "metadata": {
      "needs_background": "light"
     },
     "output_type": "display_data"
    }
   ],
   "source": [
    "b_gdf.plot()"
   ]
  },
  {
   "cell_type": "code",
   "execution_count": null,
   "id": "needed-cleveland",
   "metadata": {},
   "outputs": [],
   "source": []
  }
 ],
 "metadata": {
  "kernelspec": {
   "display_name": "Python 3",
   "language": "python",
   "name": "python3"
  },
  "language_info": {
   "codemirror_mode": {
    "name": "ipython",
    "version": 3
   },
   "file_extension": ".py",
   "mimetype": "text/x-python",
   "name": "python",
   "nbconvert_exporter": "python",
   "pygments_lexer": "ipython3",
   "version": "3.7.6"
  }
 },
 "nbformat": 4,
 "nbformat_minor": 5
}
