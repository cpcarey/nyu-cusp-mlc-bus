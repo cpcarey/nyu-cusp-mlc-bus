{
 "cells": [
  {
   "cell_type": "code",
   "execution_count": 37,
   "id": "proof-disaster",
   "metadata": {},
   "outputs": [],
   "source": [
    "import osmnx as ox\n",
    "import networkx as nx\n",
    "import geopandas as gpd\n",
    "import numpy as np\n",
    "import matplotlib\n",
    "import matplotlib.pyplot as plt\n",
    "import pandas as pd\n",
    "from shapely.geometry import Point\n",
    "from shapely.geometry import LineString\n",
    "from shapely.geometry import MultiLineString\n",
    "from collections import deque\n",
    "import datetime\n",
    "from datetime import timedelta\n",
    "from tqdm import tqdm\n",
    "\n",
    "import warnings\n",
    "warnings.filterwarnings('ignore')\n",
    "%matplotlib inline"
   ]
  },
  {
   "cell_type": "code",
   "execution_count": 38,
   "id": "opening-scoop",
   "metadata": {},
   "outputs": [],
   "source": [
    "DATA_DIR = '../data'"
   ]
  },
  {
   "cell_type": "code",
   "execution_count": 53,
   "id": "adjusted-aircraft",
   "metadata": {},
   "outputs": [],
   "source": [
    "df = pd.read_csv(f'{DATA_DIR}/stats_performance.csv')"
   ]
  },
  {
   "cell_type": "code",
   "execution_count": 118,
   "id": "forbidden-calendar",
   "metadata": {},
   "outputs": [],
   "source": [
    "def plot(X, Y, xlabel, ylabel):\n",
    "    fig, ax = plt.subplots(figsize=(6, 4))\n",
    "    m, b = np.polyfit(X, Y, 1)\n",
    "    x = np.linspace(X.min(), X.max(), 10)\n",
    "    ax.plot(x, m*x+b, 'k--', c='#999', zorder=1)\n",
    "    ax.scatter(X, Y, c='#57068c', zorder=2)\n",
    "    ax.set_xlabel(xlabel)\n",
    "    ax.set_ylabel(ylabel)\n",
    "    plt.show()"
   ]
  },
  {
   "cell_type": "code",
   "execution_count": 119,
   "id": "marked-cathedral",
   "metadata": {},
   "outputs": [
    {
     "data": {
      "image/png": "[encoded data removed]",
      "text/plain": [
       "<Figure size 432x288 with 1 Axes>"
      ]
     },
     "metadata": {
      "needs_background": "light"
     },
     "output_type": "display_data"
    }
   ],
   "source": [
    "plot(df['path_length'], df['running_time'], 'Path length', 'Running time (s)')"
   ]
  },
  {
   "cell_type": "code",
   "execution_count": 120,
   "id": "equipped-imagination",
   "metadata": {},
   "outputs": [
    {
     "data": {
      "image/png": "[encoded data removed]",
      "text/plain": [
       "<Figure size 432x288 with 1 Axes>"
      ]
     },
     "metadata": {
      "needs_background": "light"
     },
     "output_type": "display_data"
    }
   ],
   "source": [
    "plot(df['point_count'], df['running_time'], 'Number of Trajectory Points', 'Running time (s)')"
   ]
  },
  {
   "cell_type": "code",
   "execution_count": null,
   "id": "vanilla-average",
   "metadata": {},
   "outputs": [],
   "source": []
  },
  {
   "cell_type": "code",
   "execution_count": 99,
   "id": "unexpected-forestry",
   "metadata": {},
   "outputs": [
    {
     "data": {
      "text/html": [
       "<table class=\"simpletable\">\n",
       "<caption>OLS Regression Results</caption>\n",
       "<tr>\n",
       "  <th>Dep. Variable:</th>      <td>running_time</td>   <th>  R-squared:         </th> <td>   0.674</td>\n",
       "</tr>\n",
       "<tr>\n",
       "  <th>Model:</th>                   <td>OLS</td>       <th>  Adj. R-squared:    </th> <td>   0.633</td>\n",
       "</tr>\n",
       "<tr>\n",
       "  <th>Method:</th>             <td>Least Squares</td>  <th>  F-statistic:       </th> <td>   16.53</td>\n",
       "</tr>\n",
       "<tr>\n",
       "  <th>Date:</th>             <td>Sun, 22 Aug 2021</td> <th>  Prob (F-statistic):</th> <td>0.000128</td>\n",
       "</tr>\n",
       "<tr>\n",
       "  <th>Time:</th>                 <td>00:17:23</td>     <th>  Log-Likelihood:    </th> <td> -111.40</td>\n",
       "</tr>\n",
       "<tr>\n",
       "  <th>No. Observations:</th>      <td>    19</td>      <th>  AIC:               </th> <td>   228.8</td>\n",
       "</tr>\n",
       "<tr>\n",
       "  <th>Df Residuals:</th>          <td>    16</td>      <th>  BIC:               </th> <td>   231.6</td>\n",
       "</tr>\n",
       "<tr>\n",
       "  <th>Df Model:</th>              <td>     2</td>      <th>                     </th>     <td> </td>   \n",
       "</tr>\n",
       "<tr>\n",
       "  <th>Covariance Type:</th>      <td>nonrobust</td>    <th>                     </th>     <td> </td>   \n",
       "</tr>\n",
       "</table>\n",
       "<table class=\"simpletable\">\n",
       "<tr>\n",
       "       <td></td>          <th>coef</th>     <th>std err</th>      <th>t</th>      <th>P>|t|</th>  <th>[0.025</th>    <th>0.975]</th>  \n",
       "</tr>\n",
       "<tr>\n",
       "  <th>Intercept</th>   <td>  134.7307</td> <td>   65.645</td> <td>    2.052</td> <td> 0.057</td> <td>   -4.431</td> <td>  273.893</td>\n",
       "</tr>\n",
       "<tr>\n",
       "  <th>path_length</th> <td>    0.4135</td> <td>    0.477</td> <td>    0.867</td> <td> 0.399</td> <td>   -0.598</td> <td>    1.425</td>\n",
       "</tr>\n",
       "<tr>\n",
       "  <th>point_count</th> <td>    0.0098</td> <td>    0.002</td> <td>    4.223</td> <td> 0.001</td> <td>    0.005</td> <td>    0.015</td>\n",
       "</tr>\n",
       "</table>\n",
       "<table class=\"simpletable\">\n",
       "<tr>\n",
       "  <th>Omnibus:</th>       <td> 0.398</td> <th>  Durbin-Watson:     </th> <td>   2.286</td>\n",
       "</tr>\n",
       "<tr>\n",
       "  <th>Prob(Omnibus):</th> <td> 0.820</td> <th>  Jarque-Bera (JB):  </th> <td>   0.516</td>\n",
       "</tr>\n",
       "<tr>\n",
       "  <th>Skew:</th>          <td>-0.056</td> <th>  Prob(JB):          </th> <td>   0.773</td>\n",
       "</tr>\n",
       "<tr>\n",
       "  <th>Kurtosis:</th>      <td> 2.201</td> <th>  Cond. No.          </th> <td>7.71e+04</td>\n",
       "</tr>\n",
       "</table><br/><br/>Notes:<br/>[1] Standard Errors assume that the covariance matrix of the errors is correctly specified.<br/>[2] The condition number is large, 7.71e+04. This might indicate that there are<br/>strong multicollinearity or other numerical problems."
      ],
      "text/plain": [
       "<class 'statsmodels.iolib.summary.Summary'>\n",
       "\"\"\"\n",
       "                            OLS Regression Results                            \n",
       "==============================================================================\n",
       "Dep. Variable:           running_time   R-squared:                       0.674\n",
       "Model:                            OLS   Adj. R-squared:                  0.633\n",
       "Method:                 Least Squares   F-statistic:                     16.53\n",
       "Date:                Sun, 22 Aug 2021   Prob (F-statistic):           0.000128\n",
       "Time:                        00:17:23   Log-Likelihood:                -111.40\n",
       "No. Observations:                  19   AIC:                             228.8\n",
       "Df Residuals:                      16   BIC:                             231.6\n",
       "Df Model:                           2                                         \n",
       "Covariance Type:            nonrobust                                         \n",
       "===============================================================================\n",
       "                  coef    std err          t      P>|t|      [0.025      0.975]\n",
       "-------------------------------------------------------------------------------\n",
       "Intercept     134.7307     65.645      2.052      0.057      -4.431     273.893\n",
       "path_length     0.4135      0.477      0.867      0.399      -0.598       1.425\n",
       "point_count     0.0098      0.002      4.223      0.001       0.005       0.015\n",
       "==============================================================================\n",
       "Omnibus:                        0.398   Durbin-Watson:                   2.286\n",
       "Prob(Omnibus):                  0.820   Jarque-Bera (JB):                0.516\n",
       "Skew:                          -0.056   Prob(JB):                        0.773\n",
       "Kurtosis:                       2.201   Cond. No.                     7.71e+04\n",
       "==============================================================================\n",
       "\n",
       "Notes:\n",
       "[1] Standard Errors assume that the covariance matrix of the errors is correctly specified.\n",
       "[2] The condition number is large, 7.71e+04. This might indicate that there are\n",
       "strong multicollinearity or other numerical problems.\n",
       "\"\"\""
      ]
     },
     "metadata": {},
     "output_type": "display_data"
    }
   ],
   "source": [
    "import statsmodels.formula.api as smf\n",
    "lm = smf.ols(formula=f'running_time~path_length+point_count', data=df).fit()\n",
    "display(lm.summary())\n"
   ]
  },
  {
   "cell_type": "code",
   "execution_count": 100,
   "id": "actual-earth",
   "metadata": {},
   "outputs": [
    {
     "data": {
      "image/png": "[encoded data removed]",
      "text/plain": [
       "<Figure size 576x576 with 1 Axes>"
      ]
     },
     "metadata": {
      "needs_background": "light"
     },
     "output_type": "display_data"
    }
   ],
   "source": [
    "X = 0.4135* df['path_length'] + 0.0098*df['point_count'] + 134.7307\n",
    "Y = df['running_time']\n",
    "fig, ax = plt.subplots(figsize=(8, 8))\n",
    "m, b = np.polyfit(X, Y, 1)\n",
    "x = np.linspace(X.min(), X.max(), 10)\n",
    "ax.plot(x, m*x+b, 'k--')\n",
    "ax.scatter(X, Y)\n",
    "plt.show()"
   ]
  },
  {
   "cell_type": "code",
   "execution_count": 122,
   "id": "literary-chuck",
   "metadata": {},
   "outputs": [
    {
     "data": {
      "text/plain": [
       "426401"
      ]
     },
     "execution_count": 122,
     "metadata": {},
     "output_type": "execute_result"
    }
   ],
   "source": [
    "df['point_count'].sum()"
   ]
  },
  {
   "cell_type": "code",
   "execution_count": 125,
   "id": "atomic-clone",
   "metadata": {},
   "outputs": [
    {
     "data": {
      "text/plain": [
       "6.986842105263158"
      ]
     },
     "execution_count": 125,
     "metadata": {},
     "output_type": "execute_result"
    }
   ],
   "source": [
    "df['running_time'].mean() / 60.0"
   ]
  },
  {
   "cell_type": "code",
   "execution_count": null,
   "id": "celtic-astrology",
   "metadata": {},
   "outputs": [],
   "source": []
  }
 ],
 "metadata": {
  "kernelspec": {
   "display_name": "Python 3",
   "language": "python",
   "name": "python3"
  },
  "language_info": {
   "codemirror_mode": {
    "name": "ipython",
    "version": 3
   },
   "file_extension": ".py",
   "mimetype": "text/x-python",
   "name": "python",
   "nbconvert_exporter": "python",
   "pygments_lexer": "ipython3",
   "version": "3.7.6"
  }
 },
 "nbformat": 4,
 "nbformat_minor": 5
}
