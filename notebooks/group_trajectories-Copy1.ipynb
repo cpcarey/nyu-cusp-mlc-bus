{
 "cells": [
  {
   "cell_type": "code",
   "execution_count": 1,
   "id": "labeled-welsh",
   "metadata": {},
   "outputs": [],
   "source": [
    "import osmnx as ox\n",
    "import geopandas as gpd\n",
    "import numpy as npm\n",
    "import matplotlib\n",
    "import matplotlib.pyplot as plt\n",
    "import pandas as pd\n",
    "from shapely.geometry import Point\n",
    "from shapely.geometry import LineString\n",
    "from shapely.geometry import MultiLineString\n",
    "from collections import deque\n",
    "import datetime\n",
    "\n",
    "import warnings\n",
    "warnings.filterwarnings('ignore')\n",
    "%matplotlib inline"
   ]
  },
  {
   "cell_type": "code",
   "execution_count": 2,
   "id": "fantastic-fight",
   "metadata": {},
   "outputs": [],
   "source": [
    "CRS_PLOT = 'EPSG:4326'\n",
    "DATA_DIR = '../data'\n",
    "EXPORTS_DIR = f'{DATA_DIR}/exports'\n",
    "ROUTE = 'B61'\n",
    "COLUMNS = ['route', 'x', 'latitude', 'longitude', 'bus_id', 'datetime']"
   ]
  },
  {
   "cell_type": "code",
   "execution_count": 3,
   "id": "premier-processor",
   "metadata": {},
   "outputs": [],
   "source": [
    "bus_df = pd.read_csv(f'{DATA_DIR}/MTA-Bus-2021-7-5.csv', names=COLUMNS)\n",
    "bus_gdf = gpd.GeoDataFrame(bus_df, geometry=gpd.points_from_xy(bus_df['longitude'], bus_df['latitude'])).set_crs(CRS_PLOT)"
   ]
  },
  {
   "cell_type": "code",
   "execution_count": 4,
   "id": "removable-agent",
   "metadata": {},
   "outputs": [
    {
     "data": {
      "text/html": [
       "<div>\n",
       "<style scoped>\n",
       "    .dataframe tbody tr th:only-of-type {\n",
       "        vertical-align: middle;\n",
       "    }\n",
       "\n",
       "    .dataframe tbody tr th {\n",
       "        vertical-align: top;\n",
       "    }\n",
       "\n",
       "    .dataframe thead th {\n",
       "        text-align: right;\n",
       "    }\n",
       "</style>\n",
       "<table border=\"1\" class=\"dataframe\">\n",
       "  <thead>\n",
       "    <tr style=\"text-align: right;\">\n",
       "      <th></th>\n",
       "      <th>route</th>\n",
       "      <th>x</th>\n",
       "      <th>latitude</th>\n",
       "      <th>longitude</th>\n",
       "      <th>bus_id</th>\n",
       "      <th>datetime</th>\n",
       "      <th>geometry</th>\n",
       "    </tr>\n",
       "  </thead>\n",
       "  <tbody>\n",
       "    <tr>\n",
       "      <th>390</th>\n",
       "      <td>MTA NYCT_B61</td>\n",
       "      <td>1</td>\n",
       "      <td>40.689148</td>\n",
       "      <td>-73.990646</td>\n",
       "      <td>MTA NYCT_236</td>\n",
       "      <td>Sun Jul 04 23:43:50 CST 2021</td>\n",
       "      <td>POINT (-73.99065 40.68915)</td>\n",
       "    </tr>\n",
       "    <tr>\n",
       "      <th>898</th>\n",
       "      <td>MTA NYCT_B61</td>\n",
       "      <td>1</td>\n",
       "      <td>40.673813</td>\n",
       "      <td>-74.004936</td>\n",
       "      <td>MTA NYCT_410</td>\n",
       "      <td>Sun Jul 04 23:44:32 CST 2021</td>\n",
       "      <td>POINT (-74.00494 40.67381)</td>\n",
       "    </tr>\n",
       "    <tr>\n",
       "      <th>954</th>\n",
       "      <td>MTA NYCT_B61</td>\n",
       "      <td>1</td>\n",
       "      <td>40.657711</td>\n",
       "      <td>-73.982948</td>\n",
       "      <td>MTA NYCT_450</td>\n",
       "      <td>Sun Jul 04 23:42:07 CST 2021</td>\n",
       "      <td>POINT (-73.98295 40.65771)</td>\n",
       "    </tr>\n",
       "    <tr>\n",
       "      <th>1797</th>\n",
       "      <td>MTA NYCT_B61</td>\n",
       "      <td>1</td>\n",
       "      <td>40.689148</td>\n",
       "      <td>-73.990646</td>\n",
       "      <td>MTA NYCT_236</td>\n",
       "      <td>Sun Jul 04 23:43:50 CST 2021</td>\n",
       "      <td>POINT (-73.99065 40.68915)</td>\n",
       "    </tr>\n",
       "    <tr>\n",
       "      <th>2306</th>\n",
       "      <td>MTA NYCT_B61</td>\n",
       "      <td>1</td>\n",
       "      <td>40.673508</td>\n",
       "      <td>-74.003830</td>\n",
       "      <td>MTA NYCT_410</td>\n",
       "      <td>Sun Jul 04 23:45:33 CST 2021</td>\n",
       "      <td>POINT (-74.00383 40.67351)</td>\n",
       "    </tr>\n",
       "  </tbody>\n",
       "</table>\n",
       "</div>"
      ],
      "text/plain": [
       "             route  x   latitude  longitude        bus_id  \\\n",
       "390   MTA NYCT_B61  1  40.689148 -73.990646  MTA NYCT_236   \n",
       "898   MTA NYCT_B61  1  40.673813 -74.004936  MTA NYCT_410   \n",
       "954   MTA NYCT_B61  1  40.657711 -73.982948  MTA NYCT_450   \n",
       "1797  MTA NYCT_B61  1  40.689148 -73.990646  MTA NYCT_236   \n",
       "2306  MTA NYCT_B61  1  40.673508 -74.003830  MTA NYCT_410   \n",
       "\n",
       "                          datetime                    geometry  \n",
       "390   Sun Jul 04 23:43:50 CST 2021  POINT (-73.99065 40.68915)  \n",
       "898   Sun Jul 04 23:44:32 CST 2021  POINT (-74.00494 40.67381)  \n",
       "954   Sun Jul 04 23:42:07 CST 2021  POINT (-73.98295 40.65771)  \n",
       "1797  Sun Jul 04 23:43:50 CST 2021  POINT (-73.99065 40.68915)  \n",
       "2306  Sun Jul 04 23:45:33 CST 2021  POINT (-74.00383 40.67351)  "
      ]
     },
     "execution_count": 4,
     "metadata": {},
     "output_type": "execute_result"
    }
   ],
   "source": [
    "b_gdf = bus_gdf[(bus_gdf['route'].str.contains(ROUTE)) & (bus_gdf['x'] == 1)]\n",
    "b_gdf.head()"
   ]
  },
  {
   "cell_type": "code",
   "execution_count": 5,
   "id": "respective-button",
   "metadata": {},
   "outputs": [],
   "source": [
    "b_gdf = b_gdf[['bus_id', 'x', 'datetime', 'latitude', 'longitude', 'geometry']]\n",
    "b_gdf['datetime'] = pd.to_datetime(b_gdf['datetime']) - datetime.timedelta(hours=12)"
   ]
  },
  {
   "cell_type": "code",
   "execution_count": 6,
   "id": "aggressive-patrol",
   "metadata": {},
   "outputs": [],
   "source": [
    "b_gdf = b_gdf.sort_values(by=['bus_id', 'datetime'])"
   ]
  },
  {
   "cell_type": "code",
   "execution_count": 7,
   "id": "referenced-longitude",
   "metadata": {},
   "outputs": [],
   "source": [
    "b_gdf.to_csv(f'{EXPORTS_DIR}/{ROUTE.lower()}_all_trajectories.csv', index=False)"
   ]
  },
  {
   "cell_type": "code",
   "execution_count": 8,
   "id": "controversial-johnston",
   "metadata": {},
   "outputs": [
    {
     "data": {
      "text/plain": [
       "<AxesSubplot:>"
      ]
     },
     "execution_count": 8,
     "metadata": {},
     "output_type": "execute_result"
    },
    {
     "data": {
      "image/png": "[encoded data removed]",
      "text/plain": [
       "<Figure size 432x288 with 1 Axes>"
      ]
     },
     "metadata": {
      "needs_background": "light"
     },
     "output_type": "display_data"
    }
   ],
   "source": [
    "b_gdf.plot()"
   ]
  },
  {
   "cell_type": "code",
   "execution_count": null,
   "id": "genuine-officer",
   "metadata": {},
   "outputs": [],
   "source": []
  }
 ],
 "metadata": {
  "kernelspec": {
   "display_name": "Python 3",
   "language": "python",
   "name": "python3"
  },
  "language_info": {
   "codemirror_mode": {
    "name": "ipython",
    "version": 3
   },
   "file_extension": ".py",
   "mimetype": "text/x-python",
   "name": "python",
   "nbconvert_exporter": "python",
   "pygments_lexer": "ipython3",
   "version": "3.7.6"
  }
 },
 "nbformat": 4,
 "nbformat_minor": 5
}
