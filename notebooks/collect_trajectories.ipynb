{
 "cells": [
  {
   "cell_type": "code",
   "execution_count": 1,
   "id": "adjustable-shift",
   "metadata": {},
   "outputs": [],
   "source": [
    "from collections import deque\n",
    "from rtree.index import Index as RTreeIndex\n",
    "from shapely.geometry import LineString\n",
    "from shapely.geometry import MultiLineString\n",
    "from shapely.geometry import Point\n",
    "from tqdm import tqdm\n",
    "import datetime\n",
    "import geopandas as gpd\n",
    "import matplotlib\n",
    "import matplotlib.pyplot as plt\n",
    "import networkx as nx\n",
    "import numpy as np\n",
    "import numpy as npm\n",
    "import osmnx as ox\n",
    "import pandas as pd\n",
    "\n",
    "import warnings\n",
    "warnings.filterwarnings('ignore')\n",
    "%matplotlib inline"
   ]
  },
  {
   "cell_type": "code",
   "execution_count": 22,
   "id": "twelve-found",
   "metadata": {},
   "outputs": [],
   "source": [
    "COLUMNS_CSV = ['route', 'x', 'latitude', 'longitude', 'bus_id', 'datetime']\n",
    "COLUMNS_DF = ['bus_id', 'x', 'datetime', 'latitude', 'longitude']\n",
    "CRS = 'EPSG:4326'\n",
    "DATA_DIR = '../data'\n",
    "EXPORTS_DIR = f'{DATA_DIR}/exports'\n",
    "ROUTES = [\n",
    "    'b3',\n",
    "    'b6',\n",
    "    'b8',\n",
    "    'b9',\n",
    "    'b11',\n",
    "    'b12',\n",
    "    'b16',\n",
    "    'b25',\n",
    "    'b26',\n",
    "    'b35',\n",
    "    'b37',\n",
    "    'b43',\n",
    "    'b44',\n",
    "    'b48',\n",
    "    'b52',\n",
    "    'b61',\n",
    "    'b63',\n",
    "    'b65',\n",
    "    'b68',\n",
    "    'b82',\n",
    "]"
   ]
  },
  {
   "cell_type": "code",
   "execution_count": 23,
   "id": "hybrid-checkout",
   "metadata": {},
   "outputs": [],
   "source": [
    "def collect_trajectories(route):\n",
    "    bus_df = pd.read_csv(f'{DATA_DIR}/MTA-Bus-2021-7-18.csv', names=COLUMNS_CSV)\n",
    "    bus_df = bus_df[bus_df['route'].str.endswith(route.upper())]\n",
    "    bus_df = bus_df[COLUMNS_DF]\n",
    "    bus_df['datetime'] = pd.to_datetime(bus_df['datetime']).dt.tz_localize(None)\n",
    "    bus_df = bus_df.sort_values(by=['bus_id', 'datetime'])\n",
    "    \n",
    "    bus_gdf = gpd.GeoDataFrame(bus_df, geometry=gpd.points_from_xy(bus_df['longitude'], bus_df['latitude'])).set_crs(CRS)\n",
    "    bus_gdf.to_csv(f'{EXPORTS_DIR}/trajectories/{route}_all_trajectories.csv', index=False)\n",
    "    \n",
    "    day_gdf = bus_gdf[bus_gdf['datetime'].dt.weekday == 0]\n",
    "    day_gdf.to_csv(f'{EXPORTS_DIR}/trajectories/{route}_20210712_trajectories.csv', index=False)\n",
    "    print(f'Collected trajectories for {route.upper()}')"
   ]
  },
  {
   "cell_type": "code",
   "execution_count": 24,
   "id": "entitled-tournament",
   "metadata": {},
   "outputs": [
    {
     "name": "stdout",
     "output_type": "stream",
     "text": [
      "Collected trajectories for B3\n",
      "Collected trajectories for B6\n",
      "Collected trajectories for B8\n",
      "Collected trajectories for B9\n",
      "Collected trajectories for B11\n",
      "Collected trajectories for B12\n",
      "Collected trajectories for B16\n",
      "Collected trajectories for B25\n",
      "Collected trajectories for B26\n",
      "Collected trajectories for B35\n",
      "Collected trajectories for B37\n",
      "Collected trajectories for B43\n",
      "Collected trajectories for B44\n",
      "Collected trajectories for B48\n",
      "Collected trajectories for B52\n",
      "Collected trajectories for B61\n",
      "Collected trajectories for B63\n",
      "Collected trajectories for B65\n",
      "Collected trajectories for B68\n",
      "Collected trajectories for B82\n"
     ]
    }
   ],
   "source": [
    "for route in ROUTES:\n",
    "    collect_trajectories(route)"
   ]
  }
 ],
 "metadata": {
  "kernelspec": {
   "display_name": "Python 3",
   "language": "python",
   "name": "python3"
  },
  "language_info": {
   "codemirror_mode": {
    "name": "ipython",
    "version": 3
   },
   "file_extension": ".py",
   "mimetype": "text/x-python",
   "name": "python",
   "nbconvert_exporter": "python",
   "pygments_lexer": "ipython3",
   "version": "3.7.6"
  }
 },
 "nbformat": 4,
 "nbformat_minor": 5
}
