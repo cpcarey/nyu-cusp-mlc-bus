{
 "cells": [
  {
   "cell_type": "code",
   "execution_count": null,
   "id": "pursuant-school",
   "metadata": {},
   "outputs": [],
   "source": [
    "# \n"
   ]
  },
  {
   "cell_type": "code",
   "execution_count": 135,
   "id": "cardiovascular-arctic",
   "metadata": {},
   "outputs": [],
   "source": [
    "import geopandas as gpd\n",
    "import json\n",
    "import matplotlib\n",
    "import matplotlib.cm as cm\n",
    "import matplotlib.colors as colors\n",
    "from datetime import timedelta\n",
    "import matplotlib.pyplot as plt\n",
    "import networkx as nx\n",
    "from shapely.geometry import Point\n",
    "from shapely.geometry import LineString\n",
    "from shapely.geometry import MultiLineString\n",
    "import numpy as np\n",
    "import numpy as npm\n",
    "import osmnx as ox\n",
    "import math\n",
    "import pandas as pd\n",
    "from shapely.ops import snap\n",
    "from tqdm import tqdm\n",
    "import re\n",
    "\n",
    "import warnings\n",
    "warnings.filterwarnings('ignore')\n",
    "%matplotlib inline"
   ]
  },
  {
   "cell_type": "code",
   "execution_count": 136,
   "id": "incorporated-wealth",
   "metadata": {},
   "outputs": [],
   "source": [
    "CRS_LATLON = 'EPSG:4326'\n",
    "DATA_DIR = '../../data'\n",
    "EXPORTS_DIR = f'{DATA_DIR}/exports'"
   ]
  },
  {
   "cell_type": "code",
   "execution_count": 137,
   "id": "acknowledged-ghost",
   "metadata": {},
   "outputs": [],
   "source": [
    "def peek(df):\n",
    "    print(len(df))\n",
    "    display(df.iloc[0:3])"
   ]
  },
  {
   "cell_type": "code",
   "execution_count": 138,
   "id": "english-cloud",
   "metadata": {},
   "outputs": [
    {
     "name": "stdout",
     "output_type": "stream",
     "text": [
      "1780\n"
     ]
    },
    {
     "data": {
      "text/html": [
       "<div>\n",
       "<style scoped>\n",
       "    .dataframe tbody tr th:only-of-type {\n",
       "        vertical-align: middle;\n",
       "    }\n",
       "\n",
       "    .dataframe tbody tr th {\n",
       "        vertical-align: top;\n",
       "    }\n",
       "\n",
       "    .dataframe thead th {\n",
       "        text-align: right;\n",
       "    }\n",
       "</style>\n",
       "<table border=\"1\" class=\"dataframe\">\n",
       "  <thead>\n",
       "    <tr style=\"text-align: right;\">\n",
       "      <th></th>\n",
       "      <th>stop_name</th>\n",
       "      <th>stop_lat</th>\n",
       "      <th>stop_lon</th>\n",
       "      <th>M1</th>\n",
       "      <th>M10</th>\n",
       "      <th>M100</th>\n",
       "      <th>M101</th>\n",
       "      <th>M102</th>\n",
       "      <th>M103</th>\n",
       "      <th>M104</th>\n",
       "      <th>...</th>\n",
       "      <th>M5</th>\n",
       "      <th>M50</th>\n",
       "      <th>M55</th>\n",
       "      <th>M57</th>\n",
       "      <th>M66</th>\n",
       "      <th>M7</th>\n",
       "      <th>M72</th>\n",
       "      <th>M8</th>\n",
       "      <th>M9</th>\n",
       "      <th>M96</th>\n",
       "    </tr>\n",
       "    <tr>\n",
       "      <th>stop_id</th>\n",
       "      <th></th>\n",
       "      <th></th>\n",
       "      <th></th>\n",
       "      <th></th>\n",
       "      <th></th>\n",
       "      <th></th>\n",
       "      <th></th>\n",
       "      <th></th>\n",
       "      <th></th>\n",
       "      <th></th>\n",
       "      <th></th>\n",
       "      <th></th>\n",
       "      <th></th>\n",
       "      <th></th>\n",
       "      <th></th>\n",
       "      <th></th>\n",
       "      <th></th>\n",
       "      <th></th>\n",
       "      <th></th>\n",
       "      <th></th>\n",
       "      <th></th>\n",
       "    </tr>\n",
       "  </thead>\n",
       "  <tbody>\n",
       "    <tr>\n",
       "      <th>400001</th>\n",
       "      <td>4 AV/E 10 ST</td>\n",
       "      <td>40.731342</td>\n",
       "      <td>-73.990292</td>\n",
       "      <td>POINT (-73.99037 40.73135299999986)</td>\n",
       "      <td>NaN</td>\n",
       "      <td>NaN</td>\n",
       "      <td>NaN</td>\n",
       "      <td>NaN</td>\n",
       "      <td>NaN</td>\n",
       "      <td>NaN</td>\n",
       "      <td>...</td>\n",
       "      <td>NaN</td>\n",
       "      <td>NaN</td>\n",
       "      <td>NaN</td>\n",
       "      <td>NaN</td>\n",
       "      <td>NaN</td>\n",
       "      <td>NaN</td>\n",
       "      <td>NaN</td>\n",
       "      <td>NaN</td>\n",
       "      <td>NaN</td>\n",
       "      <td>NaN</td>\n",
       "    </tr>\n",
       "    <tr>\n",
       "      <th>400002</th>\n",
       "      <td>4 AV/E 12 ST</td>\n",
       "      <td>40.732608</td>\n",
       "      <td>-73.989958</td>\n",
       "      <td>POINT (-73.990059 40.73262099999981)</td>\n",
       "      <td>NaN</td>\n",
       "      <td>NaN</td>\n",
       "      <td>NaN</td>\n",
       "      <td>NaN</td>\n",
       "      <td>NaN</td>\n",
       "      <td>NaN</td>\n",
       "      <td>...</td>\n",
       "      <td>NaN</td>\n",
       "      <td>NaN</td>\n",
       "      <td>NaN</td>\n",
       "      <td>NaN</td>\n",
       "      <td>NaN</td>\n",
       "      <td>NaN</td>\n",
       "      <td>NaN</td>\n",
       "      <td>NaN</td>\n",
       "      <td>NaN</td>\n",
       "      <td>NaN</td>\n",
       "    </tr>\n",
       "    <tr>\n",
       "      <th>400003</th>\n",
       "      <td>4 AV/E 13 ST</td>\n",
       "      <td>40.733936</td>\n",
       "      <td>-73.989720</td>\n",
       "      <td>POINT (-73.98985 40.73393799999985)</td>\n",
       "      <td>NaN</td>\n",
       "      <td>NaN</td>\n",
       "      <td>NaN</td>\n",
       "      <td>NaN</td>\n",
       "      <td>NaN</td>\n",
       "      <td>NaN</td>\n",
       "      <td>...</td>\n",
       "      <td>NaN</td>\n",
       "      <td>NaN</td>\n",
       "      <td>NaN</td>\n",
       "      <td>NaN</td>\n",
       "      <td>NaN</td>\n",
       "      <td>NaN</td>\n",
       "      <td>NaN</td>\n",
       "      <td>NaN</td>\n",
       "      <td>NaN</td>\n",
       "      <td>NaN</td>\n",
       "    </tr>\n",
       "  </tbody>\n",
       "</table>\n",
       "<p>3 rows × 35 columns</p>\n",
       "</div>"
      ],
      "text/plain": [
       "            stop_name   stop_lat   stop_lon  \\\n",
       "stop_id                                       \n",
       "400001   4 AV/E 10 ST  40.731342 -73.990292   \n",
       "400002   4 AV/E 12 ST  40.732608 -73.989958   \n",
       "400003   4 AV/E 13 ST  40.733936 -73.989720   \n",
       "\n",
       "                                           M1  M10  M100 M101 M102 M103 M104  \\\n",
       "stop_id                                                                        \n",
       "400001    POINT (-73.99037 40.73135299999986)  NaN   NaN  NaN  NaN  NaN  NaN   \n",
       "400002   POINT (-73.990059 40.73262099999981)  NaN   NaN  NaN  NaN  NaN  NaN   \n",
       "400003    POINT (-73.98985 40.73393799999985)  NaN   NaN  NaN  NaN  NaN  NaN   \n",
       "\n",
       "         ...   M5  M50  M55  M57  M66   M7  M72   M8   M9  M96  \n",
       "stop_id  ...                                                    \n",
       "400001   ...  NaN  NaN  NaN  NaN  NaN  NaN  NaN  NaN  NaN  NaN  \n",
       "400002   ...  NaN  NaN  NaN  NaN  NaN  NaN  NaN  NaN  NaN  NaN  \n",
       "400003   ...  NaN  NaN  NaN  NaN  NaN  NaN  NaN  NaN  NaN  NaN  \n",
       "\n",
       "[3 rows x 35 columns]"
      ]
     },
     "metadata": {},
     "output_type": "display_data"
    }
   ],
   "source": [
    "stops_nodes_df = pd.read_csv(f'{EXPORTS_DIR}/csv/manhattan/stops_nodes.csv')\n",
    "stops_nodes_df = stops_nodes_df.set_index('stop_id')\n",
    "peek(stops_nodes_df)"
   ]
  },
  {
   "cell_type": "code",
   "execution_count": 139,
   "id": "legitimate-words",
   "metadata": {},
   "outputs": [],
   "source": [
    "route_ids = list(stops_nodes_df.columns[3:])"
   ]
  },
  {
   "cell_type": "code",
   "execution_count": 140,
   "id": "administrative-member",
   "metadata": {},
   "outputs": [],
   "source": [
    "def graph_to_node_gdf(G):\n",
    "    \"\"\"Converts the given graph to a GeoDataFrame of its nodes.\"\"\"\n",
    "    nodes, data = zip(*G.nodes(data=True))\n",
    "    geom = [Point(node[0], node[1]) for node in nodes]\n",
    "    nodes_gdf = gpd.GeoDataFrame(data,\n",
    "                                 index=list(nodes),\n",
    "                                 crs=CRS_LATLON,\n",
    "                                 geometry=geom)\n",
    "    return nodes_gdf"
   ]
  },
  {
   "cell_type": "code",
   "execution_count": 141,
   "id": "robust-paradise",
   "metadata": {},
   "outputs": [],
   "source": [
    "def graph_to_edge_gdf(G):\n",
    "    \"\"\"Converts the given graph to a GeoDataFrame of its edges.\"\"\"\n",
    "    u, v, data = zip(*G.edges(data=True))\n",
    "    edges = list(zip(u, v))\n",
    "    attrs = nx.get_edge_attributes(G, 'speed')\n",
    "    geom = [\n",
    "        LineString((Point(edge[0][0],\n",
    "                          edge[0][1]), Point(edge[1][0], edge[1][1])))\n",
    "        for edge in edges\n",
    "    ]\n",
    "    edge_index = [(edge[0] + edge[1]) for edge in edges]\n",
    "    edges_gdf = gpd.GeoDataFrame(data,\n",
    "                                 index=edge_index,\n",
    "                                 crs=CRS_LATLON,\n",
    "                                 geometry=list(geom))\n",
    "    edges_gdf['length'] = edges_gdf.geometry.length\n",
    "    edges_gdf = edges_gdf.drop(columns={\n",
    "        'route_shor',\n",
    "        'route_long',\n",
    "        'color',\n",
    "        'ShpName',\n",
    "        'Wkb',\n",
    "        'Wkt',\n",
    "        'Json',\n",
    "    })\n",
    "    return edges_gdf"
   ]
  },
  {
   "cell_type": "code",
   "execution_count": 142,
   "id": "technical-covering",
   "metadata": {},
   "outputs": [],
   "source": [
    "def get_node(mg, point):\n",
    "    threshold = 0.00001\n",
    "    for node in route_mg.nodes():\n",
    "        if abs(node[0] - point[0]) < threshold and abs(node[1] - point[1]) < threshold:\n",
    "            return node\n",
    "    return None"
   ]
  },
  {
   "cell_type": "code",
   "execution_count": 143,
   "id": "fluid-chorus",
   "metadata": {},
   "outputs": [],
   "source": [
    "route_mgs = []\n",
    "\n",
    "for route_id in route_ids:\n",
    "    route_mg = nx.read_shp(f'{EXPORTS_DIR}/shp/manhattan/routes/{route_id}.shp', simplify=False)\n",
    "    route_mg.graph['crs'] = CRS_LATLON\n",
    "    route_mgs.append(route_mg)"
   ]
  },
  {
   "cell_type": "code",
   "execution_count": 144,
   "id": "clean-father",
   "metadata": {},
   "outputs": [],
   "source": [
    "all_routes_mg = route_mgs[0]\n",
    "\n",
    "for i, route_mg in enumerate(route_mgs[1:]):\n",
    "    all_routes_mg = nx.compose(all_routes_mg, route_mg)"
   ]
  },
  {
   "cell_type": "code",
   "execution_count": 145,
   "id": "first-blade",
   "metadata": {},
   "outputs": [],
   "source": [
    "import pickle\n",
    "f = open(f'{EXPORTS_DIR}/pkl/avg_speed_attr_dict.pkl', 'rb')\n",
    "avg_speed_attr_dict = pickle.load(f)\n",
    "f.close()"
   ]
  },
  {
   "cell_type": "code",
   "execution_count": 146,
   "id": "dominant-declaration",
   "metadata": {},
   "outputs": [],
   "source": [
    "f = open(f'{EXPORTS_DIR}/pkl/all_trip_attr_dict.pkl', 'rb')\n",
    "all_trip_attr_dict = pickle.load(f)\n",
    "f.close()"
   ]
  },
  {
   "cell_type": "code",
   "execution_count": 147,
   "id": "appointed-grocery",
   "metadata": {},
   "outputs": [],
   "source": [
    "nx.set_edge_attributes(all_routes_mg, avg_speed_attr_dict)"
   ]
  },
  {
   "cell_type": "code",
   "execution_count": 148,
   "id": "reduced-shock",
   "metadata": {},
   "outputs": [],
   "source": [
    "all_nodes_gdf = graph_to_node_gdf(all_routes_mg)\n",
    "all_edges_gdf = graph_to_edge_gdf(all_routes_mg)"
   ]
  },
  {
   "cell_type": "code",
   "execution_count": 149,
   "id": "regulated-certificate",
   "metadata": {},
   "outputs": [],
   "source": [
    "edges = ((edge[0], edge[1]) for edge in all_routes_mg.edges(data=True) if 'speed' in edge[2])\n",
    "speed_mg = all_routes_mg.edge_subgraph(edges)\n",
    "nx.set_edge_attributes(speed_mg, avg_speed_attr_dict)"
   ]
  },
  {
   "cell_type": "code",
   "execution_count": 150,
   "id": "likely-blade",
   "metadata": {},
   "outputs": [],
   "source": [
    "speed_edges_gdf = graph_to_edge_gdf(speed_mg)"
   ]
  },
  {
   "cell_type": "code",
   "execution_count": 151,
   "id": "beneficial-answer",
   "metadata": {},
   "outputs": [
    {
     "data": {
      "image/png": "[encoded data removed]",
      "text/plain": [
       "<Figure size 720x720 with 2 Axes>"
      ]
     },
     "metadata": {
      "needs_background": "light"
     },
     "output_type": "display_data"
    }
   ],
   "source": [
    "fig, ax = plt.subplots(figsize=(10, 10))\n",
    "speed_edges_gdf.plot(ax=ax, column='speed', cmap='RdBu', zorder=2, linewidth=3, legend=True)\n",
    "ax.set_facecolor('#777')"
   ]
  },
  {
   "cell_type": "code",
   "execution_count": 152,
   "id": "lasting-childhood",
   "metadata": {},
   "outputs": [
    {
     "name": "stdout",
     "output_type": "stream",
     "text": [
      "868\n"
     ]
    },
    {
     "data": {
      "text/html": [
       "<div>\n",
       "<style scoped>\n",
       "    .dataframe tbody tr th:only-of-type {\n",
       "        vertical-align: middle;\n",
       "    }\n",
       "\n",
       "    .dataframe tbody tr th {\n",
       "        vertical-align: top;\n",
       "    }\n",
       "\n",
       "    .dataframe thead th {\n",
       "        text-align: right;\n",
       "    }\n",
       "</style>\n",
       "<table border=\"1\" class=\"dataframe\">\n",
       "  <thead>\n",
       "    <tr style=\"text-align: right;\">\n",
       "      <th></th>\n",
       "      <th>edge</th>\n",
       "      <th>OF_C1-Weekday-036000_M1_102</th>\n",
       "      <th>OF_C1-Weekday-038700_M1_103</th>\n",
       "      <th>OF_C1-Weekday-040200_M1_104</th>\n",
       "      <th>OF_C1-Weekday-041700_M1_105</th>\n",
       "      <th>OF_C1-Weekday-043100_M1_106</th>\n",
       "      <th>OF_C1-Weekday-044600_M1_107</th>\n",
       "      <th>OF_C1-Weekday-046100_M1_108</th>\n",
       "      <th>OF_C1-Weekday-047600_M1_109</th>\n",
       "      <th>OF_C1-Weekday-049000_M1_101</th>\n",
       "      <th>...</th>\n",
       "      <th>OH_C1-Weekday-SDon-137500_M101_130</th>\n",
       "      <th>OH_C1-Weekday-SDon-139000_M101_134</th>\n",
       "      <th>OH_C1-Weekday-SDon-140000_M101_113</th>\n",
       "      <th>OH_C1-Weekday-SDon-141000_M101_136</th>\n",
       "      <th>OH_C1-Weekday-SDon-142000_M101_116</th>\n",
       "      <th>OH_C1-Weekday-SDon-143000_M101_138</th>\n",
       "      <th>OH_C1-Weekday-SDon-145000_M101_140</th>\n",
       "      <th>OH_C1-Weekday-SDon-146500_M101_137</th>\n",
       "      <th>OH_C1-Weekday-SDon-148000_M101_139</th>\n",
       "      <th>OH_C1-Weekday-SDon-149500_M101_133</th>\n",
       "    </tr>\n",
       "  </thead>\n",
       "  <tbody>\n",
       "    <tr>\n",
       "      <th>0</th>\n",
       "      <td>(-73.984339, 40.74585199999984, -73.9838990000...</td>\n",
       "      <td>278.0</td>\n",
       "      <td>278.0</td>\n",
       "      <td>278.0</td>\n",
       "      <td>278.0</td>\n",
       "      <td>278.0</td>\n",
       "      <td>278.0</td>\n",
       "      <td>278.0</td>\n",
       "      <td>278.0</td>\n",
       "      <td>278.0</td>\n",
       "      <td>...</td>\n",
       "      <td>NaN</td>\n",
       "      <td>NaN</td>\n",
       "      <td>NaN</td>\n",
       "      <td>NaN</td>\n",
       "      <td>NaN</td>\n",
       "      <td>NaN</td>\n",
       "      <td>NaN</td>\n",
       "      <td>NaN</td>\n",
       "      <td>NaN</td>\n",
       "      <td>NaN</td>\n",
       "    </tr>\n",
       "    <tr>\n",
       "      <th>1</th>\n",
       "      <td>(-73.963729, 40.77698199999983, -73.9637890000...</td>\n",
       "      <td>NaN</td>\n",
       "      <td>NaN</td>\n",
       "      <td>NaN</td>\n",
       "      <td>NaN</td>\n",
       "      <td>NaN</td>\n",
       "      <td>NaN</td>\n",
       "      <td>NaN</td>\n",
       "      <td>NaN</td>\n",
       "      <td>NaN</td>\n",
       "      <td>...</td>\n",
       "      <td>NaN</td>\n",
       "      <td>NaN</td>\n",
       "      <td>NaN</td>\n",
       "      <td>NaN</td>\n",
       "      <td>NaN</td>\n",
       "      <td>NaN</td>\n",
       "      <td>NaN</td>\n",
       "      <td>NaN</td>\n",
       "      <td>NaN</td>\n",
       "      <td>NaN</td>\n",
       "    </tr>\n",
       "    <tr>\n",
       "      <th>2</th>\n",
       "      <td>(-73.93826899999999, 40.817521999999855, -73.9...</td>\n",
       "      <td>50.0</td>\n",
       "      <td>50.0</td>\n",
       "      <td>50.0</td>\n",
       "      <td>50.0</td>\n",
       "      <td>50.0</td>\n",
       "      <td>50.0</td>\n",
       "      <td>50.0</td>\n",
       "      <td>50.0</td>\n",
       "      <td>50.0</td>\n",
       "      <td>...</td>\n",
       "      <td>NaN</td>\n",
       "      <td>NaN</td>\n",
       "      <td>NaN</td>\n",
       "      <td>NaN</td>\n",
       "      <td>NaN</td>\n",
       "      <td>NaN</td>\n",
       "      <td>NaN</td>\n",
       "      <td>NaN</td>\n",
       "      <td>NaN</td>\n",
       "      <td>NaN</td>\n",
       "    </tr>\n",
       "  </tbody>\n",
       "</table>\n",
       "<p>3 rows × 683 columns</p>\n",
       "</div>"
      ],
      "text/plain": [
       "                                                edge  \\\n",
       "0  (-73.984339, 40.74585199999984, -73.9838990000...   \n",
       "1  (-73.963729, 40.77698199999983, -73.9637890000...   \n",
       "2  (-73.93826899999999, 40.817521999999855, -73.9...   \n",
       "\n",
       "   OF_C1-Weekday-036000_M1_102  OF_C1-Weekday-038700_M1_103  \\\n",
       "0                        278.0                        278.0   \n",
       "1                          NaN                          NaN   \n",
       "2                         50.0                         50.0   \n",
       "\n",
       "   OF_C1-Weekday-040200_M1_104  OF_C1-Weekday-041700_M1_105  \\\n",
       "0                        278.0                        278.0   \n",
       "1                          NaN                          NaN   \n",
       "2                         50.0                         50.0   \n",
       "\n",
       "   OF_C1-Weekday-043100_M1_106  OF_C1-Weekday-044600_M1_107  \\\n",
       "0                        278.0                        278.0   \n",
       "1                          NaN                          NaN   \n",
       "2                         50.0                         50.0   \n",
       "\n",
       "   OF_C1-Weekday-046100_M1_108  OF_C1-Weekday-047600_M1_109  \\\n",
       "0                        278.0                        278.0   \n",
       "1                          NaN                          NaN   \n",
       "2                         50.0                         50.0   \n",
       "\n",
       "   OF_C1-Weekday-049000_M1_101  ...  OH_C1-Weekday-SDon-137500_M101_130  \\\n",
       "0                        278.0  ...                                 NaN   \n",
       "1                          NaN  ...                                 NaN   \n",
       "2                         50.0  ...                                 NaN   \n",
       "\n",
       "   OH_C1-Weekday-SDon-139000_M101_134  OH_C1-Weekday-SDon-140000_M101_113  \\\n",
       "0                                 NaN                                 NaN   \n",
       "1                                 NaN                                 NaN   \n",
       "2                                 NaN                                 NaN   \n",
       "\n",
       "   OH_C1-Weekday-SDon-141000_M101_136  OH_C1-Weekday-SDon-142000_M101_116  \\\n",
       "0                                 NaN                                 NaN   \n",
       "1                                 NaN                                 NaN   \n",
       "2                                 NaN                                 NaN   \n",
       "\n",
       "   OH_C1-Weekday-SDon-143000_M101_138  OH_C1-Weekday-SDon-145000_M101_140  \\\n",
       "0                                 NaN                                 NaN   \n",
       "1                                 NaN                                 NaN   \n",
       "2                                 NaN                                 NaN   \n",
       "\n",
       "   OH_C1-Weekday-SDon-146500_M101_137  OH_C1-Weekday-SDon-148000_M101_139  \\\n",
       "0                                 NaN                                 NaN   \n",
       "1                                 NaN                                 NaN   \n",
       "2                                 NaN                                 NaN   \n",
       "\n",
       "   OH_C1-Weekday-SDon-149500_M101_133  \n",
       "0                                 NaN  \n",
       "1                                 NaN  \n",
       "2                                 NaN  \n",
       "\n",
       "[3 rows x 683 columns]"
      ]
     },
     "metadata": {},
     "output_type": "display_data"
    }
   ],
   "source": [
    "trip_mg = speed_mg\n",
    "nx.set_edge_attributes(trip_mg, all_trip_attr_dict)\n",
    "trip_edges_gdf = graph_to_edge_gdf(trip_mg)\n",
    "trip_edges_gdf = trip_edges_gdf.reset_index()\n",
    "trip_edges_gdf = trip_edges_gdf.rename(columns={'index': 'edge'})\n",
    "trip_edges_gdf = trip_edges_gdf.drop(columns=['route_id', 'route_dir', 'speed', 'geometry', 'length'])\n",
    "peek(trip_edges_gdf)"
   ]
  },
  {
   "cell_type": "code",
   "execution_count": 153,
   "id": "quick-kazakhstan",
   "metadata": {},
   "outputs": [
    {
     "name": "stdout",
     "output_type": "stream",
     "text": [
      "868\n"
     ]
    },
    {
     "data": {
      "text/html": [
       "<div>\n",
       "<style scoped>\n",
       "    .dataframe tbody tr th:only-of-type {\n",
       "        vertical-align: middle;\n",
       "    }\n",
       "\n",
       "    .dataframe tbody tr th {\n",
       "        vertical-align: top;\n",
       "    }\n",
       "\n",
       "    .dataframe thead th {\n",
       "        text-align: right;\n",
       "    }\n",
       "</style>\n",
       "<table border=\"1\" class=\"dataframe\">\n",
       "  <thead>\n",
       "    <tr style=\"text-align: right;\">\n",
       "      <th></th>\n",
       "      <th>index</th>\n",
       "      <th>route_id</th>\n",
       "      <th>route_dir</th>\n",
       "      <th>speed</th>\n",
       "      <th>geometry</th>\n",
       "      <th>length</th>\n",
       "      <th>duration</th>\n",
       "    </tr>\n",
       "  </thead>\n",
       "  <tbody>\n",
       "    <tr>\n",
       "      <th>0</th>\n",
       "      <td>(-73.984339, 40.74585199999984, -73.9838990000...</td>\n",
       "      <td>M3</td>\n",
       "      <td>M3_0</td>\n",
       "      <td>2.330861</td>\n",
       "      <td>LINESTRING (-73.98434 40.74585, -73.98390 40.7...</td>\n",
       "      <td>83.628942</td>\n",
       "      <td>35.878986</td>\n",
       "    </tr>\n",
       "    <tr>\n",
       "      <th>1</th>\n",
       "      <td>(-73.963729, 40.77698199999983, -73.9637890000...</td>\n",
       "      <td>M4</td>\n",
       "      <td>M4_1</td>\n",
       "      <td>3.048624</td>\n",
       "      <td>LINESTRING (-73.96373 40.77698, -73.96379 40.7...</td>\n",
       "      <td>11.000000</td>\n",
       "      <td>3.608185</td>\n",
       "    </tr>\n",
       "    <tr>\n",
       "      <th>2</th>\n",
       "      <td>(-73.93826899999999, 40.817521999999855, -73.9...</td>\n",
       "      <td>M7</td>\n",
       "      <td>M7_0</td>\n",
       "      <td>3.676861</td>\n",
       "      <td>LINESTRING (-73.93827 40.81752, -73.93803 40.8...</td>\n",
       "      <td>45.779035</td>\n",
       "      <td>12.450575</td>\n",
       "    </tr>\n",
       "  </tbody>\n",
       "</table>\n",
       "</div>"
      ],
      "text/plain": [
       "                                               index route_id route_dir  \\\n",
       "0  (-73.984339, 40.74585199999984, -73.9838990000...       M3      M3_0   \n",
       "1  (-73.963729, 40.77698199999983, -73.9637890000...       M4      M4_1   \n",
       "2  (-73.93826899999999, 40.817521999999855, -73.9...       M7      M7_0   \n",
       "\n",
       "      speed                                           geometry     length  \\\n",
       "0  2.330861  LINESTRING (-73.98434 40.74585, -73.98390 40.7...  83.628942   \n",
       "1  3.048624  LINESTRING (-73.96373 40.77698, -73.96379 40.7...  11.000000   \n",
       "2  3.676861  LINESTRING (-73.93827 40.81752, -73.93803 40.8...  45.779035   \n",
       "\n",
       "    duration  \n",
       "0  35.878986  \n",
       "1   3.608185  \n",
       "2  12.450575  "
      ]
     },
     "metadata": {},
     "output_type": "display_data"
    }
   ],
   "source": [
    "ip_edges_gdf = speed_edges_gdf.reset_index()\n",
    "ip_edges_gdf['length'] = ip_edges_gdf['length'] * (0.11 / 0.000001)\n",
    "ip_edges_gdf['duration'] = ip_edges_gdf['length'] / ip_edges_gdf['speed']\n",
    "peek(ip_edges_gdf)"
   ]
  },
  {
   "cell_type": "code",
   "execution_count": 154,
   "id": "rapid-kazakhstan",
   "metadata": {},
   "outputs": [
    {
     "name": "stdout",
     "output_type": "stream",
     "text": [
      "868\n"
     ]
    },
    {
     "data": {
      "text/html": [
       "<div>\n",
       "<style scoped>\n",
       "    .dataframe tbody tr th:only-of-type {\n",
       "        vertical-align: middle;\n",
       "    }\n",
       "\n",
       "    .dataframe tbody tr th {\n",
       "        vertical-align: top;\n",
       "    }\n",
       "\n",
       "    .dataframe thead th {\n",
       "        text-align: right;\n",
       "    }\n",
       "</style>\n",
       "<table border=\"1\" class=\"dataframe\">\n",
       "  <thead>\n",
       "    <tr style=\"text-align: right;\">\n",
       "      <th></th>\n",
       "      <th>edge</th>\n",
       "      <th>speed</th>\n",
       "      <th>length</th>\n",
       "      <th>duration</th>\n",
       "      <th>OF_C1-Weekday-036000_M1_102</th>\n",
       "      <th>OF_C1-Weekday-038700_M1_103</th>\n",
       "      <th>OF_C1-Weekday-040200_M1_104</th>\n",
       "      <th>OF_C1-Weekday-041700_M1_105</th>\n",
       "      <th>OF_C1-Weekday-043100_M1_106</th>\n",
       "      <th>OF_C1-Weekday-044600_M1_107</th>\n",
       "      <th>...</th>\n",
       "      <th>OH_C1-Weekday-SDon-137500_M101_130</th>\n",
       "      <th>OH_C1-Weekday-SDon-139000_M101_134</th>\n",
       "      <th>OH_C1-Weekday-SDon-140000_M101_113</th>\n",
       "      <th>OH_C1-Weekday-SDon-141000_M101_136</th>\n",
       "      <th>OH_C1-Weekday-SDon-142000_M101_116</th>\n",
       "      <th>OH_C1-Weekday-SDon-143000_M101_138</th>\n",
       "      <th>OH_C1-Weekday-SDon-145000_M101_140</th>\n",
       "      <th>OH_C1-Weekday-SDon-146500_M101_137</th>\n",
       "      <th>OH_C1-Weekday-SDon-148000_M101_139</th>\n",
       "      <th>OH_C1-Weekday-SDon-149500_M101_133</th>\n",
       "    </tr>\n",
       "  </thead>\n",
       "  <tbody>\n",
       "    <tr>\n",
       "      <th>0</th>\n",
       "      <td>(-73.984339, 40.74585199999984, -73.9838990000...</td>\n",
       "      <td>2.330861</td>\n",
       "      <td>83.628942</td>\n",
       "      <td>35.878986</td>\n",
       "      <td>278.0</td>\n",
       "      <td>278.0</td>\n",
       "      <td>278.0</td>\n",
       "      <td>278.0</td>\n",
       "      <td>278.0</td>\n",
       "      <td>278.0</td>\n",
       "      <td>...</td>\n",
       "      <td>NaN</td>\n",
       "      <td>NaN</td>\n",
       "      <td>NaN</td>\n",
       "      <td>NaN</td>\n",
       "      <td>NaN</td>\n",
       "      <td>NaN</td>\n",
       "      <td>NaN</td>\n",
       "      <td>NaN</td>\n",
       "      <td>NaN</td>\n",
       "      <td>NaN</td>\n",
       "    </tr>\n",
       "    <tr>\n",
       "      <th>1</th>\n",
       "      <td>(-73.963729, 40.77698199999983, -73.9637890000...</td>\n",
       "      <td>3.048624</td>\n",
       "      <td>11.000000</td>\n",
       "      <td>3.608185</td>\n",
       "      <td>NaN</td>\n",
       "      <td>NaN</td>\n",
       "      <td>NaN</td>\n",
       "      <td>NaN</td>\n",
       "      <td>NaN</td>\n",
       "      <td>NaN</td>\n",
       "      <td>...</td>\n",
       "      <td>NaN</td>\n",
       "      <td>NaN</td>\n",
       "      <td>NaN</td>\n",
       "      <td>NaN</td>\n",
       "      <td>NaN</td>\n",
       "      <td>NaN</td>\n",
       "      <td>NaN</td>\n",
       "      <td>NaN</td>\n",
       "      <td>NaN</td>\n",
       "      <td>NaN</td>\n",
       "    </tr>\n",
       "    <tr>\n",
       "      <th>2</th>\n",
       "      <td>(-73.93826899999999, 40.817521999999855, -73.9...</td>\n",
       "      <td>3.676861</td>\n",
       "      <td>45.779035</td>\n",
       "      <td>12.450575</td>\n",
       "      <td>50.0</td>\n",
       "      <td>50.0</td>\n",
       "      <td>50.0</td>\n",
       "      <td>50.0</td>\n",
       "      <td>50.0</td>\n",
       "      <td>50.0</td>\n",
       "      <td>...</td>\n",
       "      <td>NaN</td>\n",
       "      <td>NaN</td>\n",
       "      <td>NaN</td>\n",
       "      <td>NaN</td>\n",
       "      <td>NaN</td>\n",
       "      <td>NaN</td>\n",
       "      <td>NaN</td>\n",
       "      <td>NaN</td>\n",
       "      <td>NaN</td>\n",
       "      <td>NaN</td>\n",
       "    </tr>\n",
       "  </tbody>\n",
       "</table>\n",
       "<p>3 rows × 686 columns</p>\n",
       "</div>"
      ],
      "text/plain": [
       "                                                edge     speed     length  \\\n",
       "0  (-73.984339, 40.74585199999984, -73.9838990000...  2.330861  83.628942   \n",
       "1  (-73.963729, 40.77698199999983, -73.9637890000...  3.048624  11.000000   \n",
       "2  (-73.93826899999999, 40.817521999999855, -73.9...  3.676861  45.779035   \n",
       "\n",
       "    duration  OF_C1-Weekday-036000_M1_102  OF_C1-Weekday-038700_M1_103  \\\n",
       "0  35.878986                        278.0                        278.0   \n",
       "1   3.608185                          NaN                          NaN   \n",
       "2  12.450575                         50.0                         50.0   \n",
       "\n",
       "   OF_C1-Weekday-040200_M1_104  OF_C1-Weekday-041700_M1_105  \\\n",
       "0                        278.0                        278.0   \n",
       "1                          NaN                          NaN   \n",
       "2                         50.0                         50.0   \n",
       "\n",
       "   OF_C1-Weekday-043100_M1_106  OF_C1-Weekday-044600_M1_107  ...  \\\n",
       "0                        278.0                        278.0  ...   \n",
       "1                          NaN                          NaN  ...   \n",
       "2                         50.0                         50.0  ...   \n",
       "\n",
       "   OH_C1-Weekday-SDon-137500_M101_130  OH_C1-Weekday-SDon-139000_M101_134  \\\n",
       "0                                 NaN                                 NaN   \n",
       "1                                 NaN                                 NaN   \n",
       "2                                 NaN                                 NaN   \n",
       "\n",
       "   OH_C1-Weekday-SDon-140000_M101_113  OH_C1-Weekday-SDon-141000_M101_136  \\\n",
       "0                                 NaN                                 NaN   \n",
       "1                                 NaN                                 NaN   \n",
       "2                                 NaN                                 NaN   \n",
       "\n",
       "   OH_C1-Weekday-SDon-142000_M101_116  OH_C1-Weekday-SDon-143000_M101_138  \\\n",
       "0                                 NaN                                 NaN   \n",
       "1                                 NaN                                 NaN   \n",
       "2                                 NaN                                 NaN   \n",
       "\n",
       "   OH_C1-Weekday-SDon-145000_M101_140  OH_C1-Weekday-SDon-146500_M101_137  \\\n",
       "0                                 NaN                                 NaN   \n",
       "1                                 NaN                                 NaN   \n",
       "2                                 NaN                                 NaN   \n",
       "\n",
       "   OH_C1-Weekday-SDon-148000_M101_139  OH_C1-Weekday-SDon-149500_M101_133  \n",
       "0                                 NaN                                 NaN  \n",
       "1                                 NaN                                 NaN  \n",
       "2                                 NaN                                 NaN  \n",
       "\n",
       "[3 rows x 686 columns]"
      ]
     },
     "metadata": {},
     "output_type": "display_data"
    }
   ],
   "source": [
    "edge_manifest = ip_edges_gdf[['index', 'speed', 'length', 'duration']]\n",
    "edge_manifest = edge_manifest.rename(columns={'index': 'edge'})\n",
    "edge_manifest = edge_manifest.merge(trip_edges_gdf, left_on='edge', right_on='edge', how='left')\n",
    "peek(edge_manifest)"
   ]
  },
  {
   "cell_type": "code",
   "execution_count": 155,
   "id": "competitive-expense",
   "metadata": {},
   "outputs": [],
   "source": [
    "def get_start_node(edge):\n",
    "    return edge[0:2]\n",
    "def get_end_node(edge):\n",
    "    return edge[2:]"
   ]
  },
  {
   "cell_type": "code",
   "execution_count": 156,
   "id": "bibliographic-bibliography",
   "metadata": {},
   "outputs": [],
   "source": [
    "node_edge_manifest = edge_manifest[['edge']]\n",
    "node_edge_manifest['start'] = node_edge_manifest['edge'].apply(lambda x: get_start_node(x))\n",
    "node_edge_manifest['end'] = node_edge_manifest['edge'].apply(lambda x: get_end_node(x))\n",
    "\n",
    "start_nodes = list(set(node_edge_manifest['start']))\n",
    "end_nodes = list(set(node_edge_manifest['end']))\n",
    "nodes = list(set(start_nodes + end_nodes))\n",
    "node_manifest = pd.DataFrame(nodes)\n",
    "node_manifest['node'] = node_manifest.apply(lambda x: (x[0], x[1]), axis=1)\n",
    "node_manifest = node_manifest[['node']]\n",
    "\n",
    "node_edge_manifest['start'] = node_edge_manifest['start'].apply(lambda x: nodes.index(x))\n",
    "node_edge_manifest['end'] = node_edge_manifest['end'].apply(lambda x: nodes.index(x))\n",
    "node_edge_manifest = node_edge_manifest[['start', 'end']]"
   ]
  },
  {
   "cell_type": "code",
   "execution_count": 157,
   "id": "aquatic-tanzania",
   "metadata": {},
   "outputs": [],
   "source": [
    "node_latlon_df = pd.DataFrame(nodes, columns=['lon', 'lat'])\n",
    "ip_nodes_gdf = gpd.GeoDataFrame({}, geometry=gpd.points_from_xy(node_latlon_df['lon'], node_latlon_df['lat']), crs=CRS_LATLON)"
   ]
  },
  {
   "cell_type": "code",
   "execution_count": 158,
   "id": "responsible-eclipse",
   "metadata": {},
   "outputs": [],
   "source": [
    "def get_prev_edges(row, manifest):\n",
    "    start = row['start']\n",
    "    prev_edges = list(manifest[manifest['end'] == start].index)\n",
    "    return prev_edges"
   ]
  },
  {
   "cell_type": "code",
   "execution_count": 159,
   "id": "nonprofit-semiconductor",
   "metadata": {},
   "outputs": [],
   "source": [
    "def get_next_edges(row, manifest):\n",
    "    end = row['end']\n",
    "    next_edges = list(manifest[manifest['start'] == end].index)\n",
    "    return next_edges"
   ]
  },
  {
   "cell_type": "code",
   "execution_count": 160,
   "id": "precise-directive",
   "metadata": {},
   "outputs": [
    {
     "name": "stdout",
     "output_type": "stream",
     "text": [
      "868\n"
     ]
    },
    {
     "data": {
      "text/html": [
       "<div>\n",
       "<style scoped>\n",
       "    .dataframe tbody tr th:only-of-type {\n",
       "        vertical-align: middle;\n",
       "    }\n",
       "\n",
       "    .dataframe tbody tr th {\n",
       "        vertical-align: top;\n",
       "    }\n",
       "\n",
       "    .dataframe thead th {\n",
       "        text-align: right;\n",
       "    }\n",
       "</style>\n",
       "<table border=\"1\" class=\"dataframe\">\n",
       "  <thead>\n",
       "    <tr style=\"text-align: right;\">\n",
       "      <th></th>\n",
       "      <th>edge</th>\n",
       "      <th>start</th>\n",
       "      <th>end</th>\n",
       "      <th>prev</th>\n",
       "      <th>next</th>\n",
       "    </tr>\n",
       "  </thead>\n",
       "  <tbody>\n",
       "    <tr>\n",
       "      <th>0</th>\n",
       "      <td>0</td>\n",
       "      <td>3</td>\n",
       "      <td>164</td>\n",
       "      <td>[662]</td>\n",
       "      <td>[176]</td>\n",
       "    </tr>\n",
       "    <tr>\n",
       "      <th>1</th>\n",
       "      <td>1</td>\n",
       "      <td>1</td>\n",
       "      <td>356</td>\n",
       "      <td>[525]</td>\n",
       "      <td>[256]</td>\n",
       "    </tr>\n",
       "    <tr>\n",
       "      <th>2</th>\n",
       "      <td>2</td>\n",
       "      <td>2</td>\n",
       "      <td>434</td>\n",
       "      <td>[83]</td>\n",
       "      <td>[462]</td>\n",
       "    </tr>\n",
       "  </tbody>\n",
       "</table>\n",
       "</div>"
      ],
      "text/plain": [
       "   edge  start  end   prev   next\n",
       "0     0      3  164  [662]  [176]\n",
       "1     1      1  356  [525]  [256]\n",
       "2     2      2  434   [83]  [462]"
      ]
     },
     "metadata": {},
     "output_type": "display_data"
    }
   ],
   "source": [
    "edge_node_manifest = node_edge_manifest.reset_index().rename(columns={'index': 'edge'})\n",
    "edge_node_manifest['prev'] = [[] for i in range(len(edge_node_manifest))]\n",
    "edge_node_manifest['next'] = [[] for i in range(len(edge_node_manifest))]\n",
    "edge_node_manifest['prev'] = edge_node_manifest.apply(lambda x: get_prev_edges(x, edge_node_manifest), axis=1)\n",
    "edge_node_manifest['next'] = edge_node_manifest.apply(lambda x: get_next_edges(x, edge_node_manifest), axis=1)\n",
    "peek(edge_node_manifest)"
   ]
  },
  {
   "cell_type": "code",
   "execution_count": 161,
   "id": "killing-pontiac",
   "metadata": {},
   "outputs": [],
   "source": [
    "prev_edges = list(edge_node_manifest['prev'])\n",
    "next_edges = list(edge_node_manifest['next'])\n",
    "start_nodes = list(edge_node_manifest['start'])"
   ]
  },
  {
   "cell_type": "code",
   "execution_count": 162,
   "id": "pressing-reviewer",
   "metadata": {},
   "outputs": [],
   "source": [
    "def get_trip_df(trip_id):\n",
    "    trip_df = edge_manifest[[trip_id]]\n",
    "    trip_df = trip_df.dropna()\n",
    "    trip_df = trip_df.sort_values(by=[trip_id])\n",
    "    return trip_df"
   ]
  },
  {
   "cell_type": "code",
   "execution_count": 163,
   "id": "bibliographic-bradley",
   "metadata": {},
   "outputs": [],
   "source": [
    "#trip_df = get_trip_df('OF_C1-Weekday-036000_M1_102')\n",
    "#trip_edges = list(trip_df.index)\n",
    "#battery = 100\n",
    "#peek(trip_df)"
   ]
  },
  {
   "cell_type": "code",
   "execution_count": 164,
   "id": "foster-knock",
   "metadata": {},
   "outputs": [],
   "source": [
    "import gurobipy as gp\n",
    "from gurobipy import GRB"
   ]
  },
  {
   "cell_type": "code",
   "execution_count": 176,
   "id": "referenced-furniture",
   "metadata": {},
   "outputs": [],
   "source": [
    "N_EDGES = len(edge_manifest)\n",
    "N_NODES = len(node_manifest)\n",
    "EDGE_COST_CABLE = 1 \n",
    "EDGE_POWER_SUPPLY = 1\n",
    "EDGE_POWER_DEMAND = 1.25\n",
    "NODE_TRANSMITTER_COST = 100"
   ]
  },
  {
   "cell_type": "code",
   "execution_count": 177,
   "id": "cardiac-thumb",
   "metadata": {},
   "outputs": [],
   "source": [
    "cable_costs = list(ip_edges_gdf['length'] * EDGE_COST_CABLE)\n",
    "edge_power_supplies = list(ip_edges_gdf['duration'] * EDGE_POWER_SUPPLY)\n",
    "edge_power_demands = list(ip_edges_gdf['duration'] * EDGE_POWER_DEMAND)"
   ]
  },
  {
   "cell_type": "code",
   "execution_count": 178,
   "id": "forced-contact",
   "metadata": {},
   "outputs": [],
   "source": [
    "def hash_trip(trip):\n",
    "    return ','.join([str(x) for x in trip])"
   ]
  },
  {
   "cell_type": "code",
   "execution_count": 179,
   "id": "liked-attraction",
   "metadata": {},
   "outputs": [
    {
     "data": {
      "text/plain": [
       "4"
      ]
     },
     "execution_count": 179,
     "metadata": {},
     "output_type": "execute_result"
    }
   ],
   "source": [
    "trip_ids = list(edge_manifest.columns[4:])\n",
    "trips = []\n",
    "trip_hashes = set([])\n",
    "\n",
    "for trip_id in trip_ids:\n",
    "    trip_df = get_trip_df(trip_id)\n",
    "    trip = list(trip_df.index)\n",
    "    trip_hash = hash_trip(trip)\n",
    "    if trip_hash not in trip_hashes:\n",
    "        trips.append(trip)\n",
    "        trip_hashes.add(trip_hash)\n",
    "len(trips)"
   ]
  },
  {
   "cell_type": "code",
   "execution_count": 180,
   "id": "facial-gender",
   "metadata": {},
   "outputs": [],
   "source": [
    "model = gp.Model('example')\n",
    "\n",
    "x = model.addVars(N_EDGES, vtype=GRB.BINARY)\n",
    "y = model.addVars(N_NODES, vtype=GRB.BINARY)\n",
    "\n",
    "for trip in trips:\n",
    "    power = np.sum([edge_power_supplies[i] for i in trip])\n",
    "    battery = power * 0.8\n",
    "    BATTERY_MAX = battery\n",
    "    BATTERY_MIN = power * 0.05\n",
    "    \n",
    "    for j in range(1, len(trip)):\n",
    "        model.addConstr(battery + gp.quicksum(-edge_power_demands[i] + x[i] * edge_power_supplies[i] for i in trip[0:j]) >= BATTERY_MIN)\n",
    "        model.addConstr(battery + gp.quicksum(-edge_power_demands[i] + x[i] * edge_power_supplies[i] for i in trip[0:j]) <= BATTERY_MAX)\n",
    "\n",
    "    for j in trip:\n",
    "        transmitter = y[start_nodes[j]]\n",
    "        prev_cable = gp.quicksum(x[i] for i in prev_edges[j])\n",
    "        model.addConstr(x[j] - transmitter - prev_cable <= 0)\n",
    "\n",
    "model.addConstr(gp.quicksum(y[start_nodes[i]] * x[i] for i in range(N_EDGES)) == gp.quicksum(y[i] for i in range(N_NODES)))\n",
    "\n",
    "cable_cost = gp.quicksum((x[i] * cable_costs[i]) for i in range(N_EDGES))\n",
    "transmitter_cost = gp.quicksum((y[i] * NODE_TRANSMITTER_COST) for i in range(N_NODES))\n",
    "objective = cable_cost + transmitter_cost\n",
    "model.setObjective(objective, GRB.MINIMIZE)"
   ]
  },
  {
   "cell_type": "code",
   "execution_count": 181,
   "id": "monetary-yeast",
   "metadata": {},
   "outputs": [
    {
     "name": "stdout",
     "output_type": "stream",
     "text": [
      "Gurobi Optimizer version 9.5.0 build v9.5.0rc5 (linux64)\n",
      "Thread count: 4 physical cores, 8 logical processors, using up to 8 threads\n",
      "Optimize a model with 2596 rows, 1718 columns and 190355 nonzeros\n",
      "Model fingerprint: 0x25cfdd58\n",
      "Model has 1 quadratic constraint\n",
      "Variable types: 0 continuous, 1718 integer (1718 binary)\n",
      "Coefficient statistics:\n",
      "  Matrix range     [2e-01, 1e+02]\n",
      "  QMatrix range    [1e+00, 1e+00]\n",
      "  QLMatrix range   [1e+00, 1e+00]\n",
      "  Objective range  [5e-01, 4e+02]\n",
      "  Bounds range     [1e+00, 1e+00]\n",
      "  RHS range        [6e+00, 6e+03]\n",
      "Presolve removed 1724 rows and 0 columns\n",
      "Presolve time: 0.06s\n",
      "Presolved: 3477 rows, 2586 columns, 11293 nonzeros\n",
      "Variable types: 0 continuous, 2586 integer (2586 binary)\n",
      "Found heuristic solution: objective 33993.610438\n",
      "\n",
      "Root relaxation: objective 2.124282e+04, 538 iterations, 0.01 seconds (0.02 work units)\n",
      "\n",
      "    Nodes    |    Current Node    |     Objective Bounds      |     Work\n",
      " Expl Unexpl |  Obj  Depth IntInf | Incumbent    BestBd   Gap | It/Node Time\n",
      "\n",
      "     0     0 21242.8196    0  162 33993.6104 21242.8196  37.5%     -    0s\n",
      "H    0     0                    22276.590042 21242.8196  4.64%     -    0s\n",
      "H    0     0                    22060.932888 21242.8196  3.71%     -    0s\n",
      "H    0     0                    21583.903860 21242.8196  1.58%     -    0s\n",
      "H    0     0                    21567.853485 21242.8196  1.51%     -    0s\n",
      "H    0     0                    21472.675344 21242.8196  1.07%     -    0s\n",
      "     0     0 21302.5661    0  172 21472.6753 21302.5661  0.79%     -    0s\n",
      "H    0     0                    21387.008523 21302.5661  0.39%     -    0s\n",
      "H    0     0                    21357.749454 21307.6999  0.23%     -    0s\n",
      "     0     0 21307.6999    0  113 21357.7495 21307.6999  0.23%     -    0s\n",
      "     0     0 21307.8901    0  107 21357.7495 21307.8901  0.23%     -    0s\n",
      "     0     0 21307.8901    0  121 21357.7495 21307.8901  0.23%     -    0s\n",
      "     0     0 21309.2727    0   79 21357.7495 21309.2727  0.23%     -    0s\n",
      "H    0     0                    21352.172535 21309.2727  0.20%     -    0s\n",
      "     0     0 21310.0086    0   92 21352.1725 21310.0086  0.20%     -    0s\n",
      "     0     0 21313.9204    0  108 21352.1725 21313.9204  0.18%     -    0s\n",
      "     0     0 21313.9204    0  108 21352.1725 21313.9204  0.18%     -    0s\n",
      "     0     0 21313.9204    0   88 21352.1725 21313.9204  0.18%     -    0s\n",
      "     0     0 21313.9204    0   84 21352.1725 21313.9204  0.18%     -    0s\n",
      "     0     0 21313.9204    0  110 21352.1725 21313.9204  0.18%     -    0s\n",
      "     0     0 21313.9204    0  106 21352.1725 21313.9204  0.18%     -    0s\n",
      "     0     0 21313.9204    0  108 21352.1725 21313.9204  0.18%     -    0s\n",
      "     0     0 21315.5336    0  112 21352.1725 21315.5336  0.17%     -    0s\n",
      "     0     0 21315.5336    0  112 21352.1725 21315.5336  0.17%     -    0s\n",
      "     0     2 21316.4701    0  112 21352.1725 21316.4701  0.17%     -    0s\n",
      "\n",
      "Cutting planes:\n",
      "  Gomory: 16\n",
      "  Lift-and-project: 6\n",
      "  Cover: 8\n",
      "  MIR: 3\n",
      "  StrongCG: 3\n",
      "  RLT: 2\n",
      "\n",
      "Explored 888 nodes (14046 simplex iterations) in 0.85 seconds (0.85 work units)\n",
      "Thread count was 8 (of 8 available processors)\n",
      "\n",
      "Solution count 10: 21352.2 21357.7 21387 ... 33993.6\n",
      "\n",
      "Optimal solution found (tolerance 1.00e-04)\n",
      "Best objective 2.135217253474e+04, best bound 2.135217253474e+04, gap 0.0000%\n",
      "21352.172534741137\n"
     ]
    }
   ],
   "source": [
    "model.update()\n",
    "model.optimize()\n",
    "print(model.ObjVal)"
   ]
  },
  {
   "cell_type": "code",
   "execution_count": 182,
   "id": "subjective-holiday",
   "metadata": {},
   "outputs": [
    {
     "data": {
      "text/plain": [
       "379"
      ]
     },
     "execution_count": 182,
     "metadata": {},
     "output_type": "execute_result"
    }
   ],
   "source": [
    "opt_x = model.getAttr('X', model.getVars()[:N_EDGES])\n",
    "xdf = pd.DataFrame(opt_x, columns=['x'])\n",
    "len(xdf[xdf['x'] > 0])"
   ]
  },
  {
   "cell_type": "code",
   "execution_count": 183,
   "id": "timely-michael",
   "metadata": {},
   "outputs": [
    {
     "data": {
      "text/plain": [
       "4"
      ]
     },
     "execution_count": 183,
     "metadata": {},
     "output_type": "execute_result"
    }
   ],
   "source": [
    "opt_y = model.getAttr('X', model.getVars()[N_EDGES:N_EDGES+N_NODES])\n",
    "ydf = pd.DataFrame(opt_y, columns=['y'])\n",
    "len(ydf[ydf['y'] > 0])"
   ]
  },
  {
   "cell_type": "code",
   "execution_count": 184,
   "id": "hairy-incident",
   "metadata": {},
   "outputs": [],
   "source": [
    "def plot_results(xdf, ydf):\n",
    "    fig, ax = plt.subplots(figsize=(15, 15))\n",
    "    \n",
    "    mxdf = ip_edges_gdf.merge(xdf, left_index=True, right_index=True, how='left')\n",
    "    mxdf.plot(ax=ax, column='x', cmap='Blues', zorder=2, linewidth=3, legend=True)\n",
    "    \n",
    "    mydf = ip_nodes_gdf.merge(ydf, left_index=True, right_index=True, how='left')\n",
    "    mydf = mydf[mydf['y'] == 1]\n",
    "    mydf.plot(ax=ax, color='C1', zorder=3, markersize=30)\n",
    "    \n",
    "    ax.set_facecolor('#777')"
   ]
  },
  {
   "cell_type": "code",
   "execution_count": 185,
   "id": "bizarre-symphony",
   "metadata": {},
   "outputs": [
    {
     "data": {
      "image/png": "[encoded data removed]",
      "text/plain": [
       "<Figure size 1080x1080 with 2 Axes>"
      ]
     },
     "metadata": {
      "needs_background": "light"
     },
     "output_type": "display_data"
    }
   ],
   "source": [
    "plot_results(xdf, ydf)"
   ]
  },
  {
   "cell_type": "code",
   "execution_count": null,
   "id": "subject-treasury",
   "metadata": {},
   "outputs": [],
   "source": []
  },
  {
   "cell_type": "code",
   "execution_count": null,
   "id": "crazy-banks",
   "metadata": {},
   "outputs": [],
   "source": []
  }
 ],
 "metadata": {
  "kernelspec": {
   "display_name": "Python 3",
   "language": "python",
   "name": "python3"
  },
  "language_info": {
   "codemirror_mode": {
    "name": "ipython",
    "version": 3
   },
   "file_extension": ".py",
   "mimetype": "text/x-python",
   "name": "python",
   "nbconvert_exporter": "python",
   "pygments_lexer": "ipython3",
   "version": "3.7.6"
  }
 },
 "nbformat": 4,
 "nbformat_minor": 5
}
