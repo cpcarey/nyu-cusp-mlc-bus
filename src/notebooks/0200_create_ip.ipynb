{
 "cells": [
  {
   "cell_type": "code",
   "execution_count": 1,
   "id": "strategic-galaxy",
   "metadata": {},
   "outputs": [],
   "source": [
    "# \n"
   ]
  },
  {
   "cell_type": "code",
   "execution_count": 2,
   "id": "transsexual-nutrition",
   "metadata": {},
   "outputs": [],
   "source": [
    "import geopandas as gpd\n",
    "import json\n",
    "import matplotlib\n",
    "import matplotlib.cm as cm\n",
    "import matplotlib.colors as colors\n",
    "from datetime import timedelta\n",
    "import matplotlib.pyplot as plt\n",
    "import networkx as nx\n",
    "from shapely.geometry import Point\n",
    "from shapely.geometry import LineString\n",
    "from shapely.geometry import MultiLineString\n",
    "import numpy as np\n",
    "import numpy as npm\n",
    "import osmnx as ox\n",
    "import math\n",
    "import pandas as pd\n",
    "from shapely.ops import snap\n",
    "from tqdm import tqdm\n",
    "import re\n",
    "\n",
    "import warnings\n",
    "warnings.filterwarnings('ignore')\n",
    "%matplotlib inline"
   ]
  },
  {
   "cell_type": "code",
   "execution_count": 3,
   "id": "dependent-dairy",
   "metadata": {},
   "outputs": [],
   "source": [
    "CRS_LATLON = 'EPSG:4326'\n",
    "DATA_DIR = '../../data'\n",
    "EXPORTS_DIR = f'{DATA_DIR}/exports'"
   ]
  },
  {
   "cell_type": "code",
   "execution_count": 4,
   "id": "conscious-therapy",
   "metadata": {},
   "outputs": [],
   "source": [
    "def peek(df):\n",
    "    print(len(df))\n",
    "    display(df.iloc[0:3])"
   ]
  },
  {
   "cell_type": "code",
   "execution_count": 5,
   "id": "coral-transformation",
   "metadata": {},
   "outputs": [
    {
     "name": "stdout",
     "output_type": "stream",
     "text": [
      "1780\n"
     ]
    },
    {
     "data": {
      "text/html": [
       "<div>\n",
       "<style scoped>\n",
       "    .dataframe tbody tr th:only-of-type {\n",
       "        vertical-align: middle;\n",
       "    }\n",
       "\n",
       "    .dataframe tbody tr th {\n",
       "        vertical-align: top;\n",
       "    }\n",
       "\n",
       "    .dataframe thead th {\n",
       "        text-align: right;\n",
       "    }\n",
       "</style>\n",
       "<table border=\"1\" class=\"dataframe\">\n",
       "  <thead>\n",
       "    <tr style=\"text-align: right;\">\n",
       "      <th></th>\n",
       "      <th>stop_name</th>\n",
       "      <th>stop_lat</th>\n",
       "      <th>stop_lon</th>\n",
       "      <th>M1</th>\n",
       "      <th>M10</th>\n",
       "      <th>M100</th>\n",
       "      <th>M101</th>\n",
       "      <th>M102</th>\n",
       "      <th>M103</th>\n",
       "      <th>M104</th>\n",
       "      <th>...</th>\n",
       "      <th>M5</th>\n",
       "      <th>M50</th>\n",
       "      <th>M55</th>\n",
       "      <th>M57</th>\n",
       "      <th>M66</th>\n",
       "      <th>M7</th>\n",
       "      <th>M72</th>\n",
       "      <th>M8</th>\n",
       "      <th>M9</th>\n",
       "      <th>M96</th>\n",
       "    </tr>\n",
       "    <tr>\n",
       "      <th>stop_id</th>\n",
       "      <th></th>\n",
       "      <th></th>\n",
       "      <th></th>\n",
       "      <th></th>\n",
       "      <th></th>\n",
       "      <th></th>\n",
       "      <th></th>\n",
       "      <th></th>\n",
       "      <th></th>\n",
       "      <th></th>\n",
       "      <th></th>\n",
       "      <th></th>\n",
       "      <th></th>\n",
       "      <th></th>\n",
       "      <th></th>\n",
       "      <th></th>\n",
       "      <th></th>\n",
       "      <th></th>\n",
       "      <th></th>\n",
       "      <th></th>\n",
       "      <th></th>\n",
       "    </tr>\n",
       "  </thead>\n",
       "  <tbody>\n",
       "    <tr>\n",
       "      <th>400001</th>\n",
       "      <td>4 AV/E 10 ST</td>\n",
       "      <td>40.731342</td>\n",
       "      <td>-73.990292</td>\n",
       "      <td>POINT (-73.99037 40.73135299999986)</td>\n",
       "      <td>NaN</td>\n",
       "      <td>NaN</td>\n",
       "      <td>NaN</td>\n",
       "      <td>NaN</td>\n",
       "      <td>NaN</td>\n",
       "      <td>NaN</td>\n",
       "      <td>...</td>\n",
       "      <td>NaN</td>\n",
       "      <td>NaN</td>\n",
       "      <td>NaN</td>\n",
       "      <td>NaN</td>\n",
       "      <td>NaN</td>\n",
       "      <td>NaN</td>\n",
       "      <td>NaN</td>\n",
       "      <td>NaN</td>\n",
       "      <td>NaN</td>\n",
       "      <td>NaN</td>\n",
       "    </tr>\n",
       "    <tr>\n",
       "      <th>400002</th>\n",
       "      <td>4 AV/E 12 ST</td>\n",
       "      <td>40.732608</td>\n",
       "      <td>-73.989958</td>\n",
       "      <td>POINT (-73.990059 40.73262099999981)</td>\n",
       "      <td>NaN</td>\n",
       "      <td>NaN</td>\n",
       "      <td>NaN</td>\n",
       "      <td>NaN</td>\n",
       "      <td>NaN</td>\n",
       "      <td>NaN</td>\n",
       "      <td>...</td>\n",
       "      <td>NaN</td>\n",
       "      <td>NaN</td>\n",
       "      <td>NaN</td>\n",
       "      <td>NaN</td>\n",
       "      <td>NaN</td>\n",
       "      <td>NaN</td>\n",
       "      <td>NaN</td>\n",
       "      <td>NaN</td>\n",
       "      <td>NaN</td>\n",
       "      <td>NaN</td>\n",
       "    </tr>\n",
       "    <tr>\n",
       "      <th>400003</th>\n",
       "      <td>4 AV/E 13 ST</td>\n",
       "      <td>40.733936</td>\n",
       "      <td>-73.989720</td>\n",
       "      <td>POINT (-73.98985 40.73393799999985)</td>\n",
       "      <td>NaN</td>\n",
       "      <td>NaN</td>\n",
       "      <td>NaN</td>\n",
       "      <td>NaN</td>\n",
       "      <td>NaN</td>\n",
       "      <td>NaN</td>\n",
       "      <td>...</td>\n",
       "      <td>NaN</td>\n",
       "      <td>NaN</td>\n",
       "      <td>NaN</td>\n",
       "      <td>NaN</td>\n",
       "      <td>NaN</td>\n",
       "      <td>NaN</td>\n",
       "      <td>NaN</td>\n",
       "      <td>NaN</td>\n",
       "      <td>NaN</td>\n",
       "      <td>NaN</td>\n",
       "    </tr>\n",
       "  </tbody>\n",
       "</table>\n",
       "<p>3 rows × 35 columns</p>\n",
       "</div>"
      ],
      "text/plain": [
       "            stop_name   stop_lat   stop_lon  \\\n",
       "stop_id                                       \n",
       "400001   4 AV/E 10 ST  40.731342 -73.990292   \n",
       "400002   4 AV/E 12 ST  40.732608 -73.989958   \n",
       "400003   4 AV/E 13 ST  40.733936 -73.989720   \n",
       "\n",
       "                                           M1  M10  M100 M101 M102 M103 M104  \\\n",
       "stop_id                                                                        \n",
       "400001    POINT (-73.99037 40.73135299999986)  NaN   NaN  NaN  NaN  NaN  NaN   \n",
       "400002   POINT (-73.990059 40.73262099999981)  NaN   NaN  NaN  NaN  NaN  NaN   \n",
       "400003    POINT (-73.98985 40.73393799999985)  NaN   NaN  NaN  NaN  NaN  NaN   \n",
       "\n",
       "         ...   M5  M50  M55  M57  M66   M7  M72   M8   M9  M96  \n",
       "stop_id  ...                                                    \n",
       "400001   ...  NaN  NaN  NaN  NaN  NaN  NaN  NaN  NaN  NaN  NaN  \n",
       "400002   ...  NaN  NaN  NaN  NaN  NaN  NaN  NaN  NaN  NaN  NaN  \n",
       "400003   ...  NaN  NaN  NaN  NaN  NaN  NaN  NaN  NaN  NaN  NaN  \n",
       "\n",
       "[3 rows x 35 columns]"
      ]
     },
     "metadata": {},
     "output_type": "display_data"
    }
   ],
   "source": [
    "stops_nodes_df = pd.read_csv(f'{EXPORTS_DIR}/csv/manhattan/stops_nodes.csv')\n",
    "stops_nodes_df = stops_nodes_df.set_index('stop_id')\n",
    "peek(stops_nodes_df)"
   ]
  },
  {
   "cell_type": "code",
   "execution_count": 6,
   "id": "prompt-april",
   "metadata": {},
   "outputs": [],
   "source": [
    "route_ids = list(stops_nodes_df.columns[3:])"
   ]
  },
  {
   "cell_type": "code",
   "execution_count": 7,
   "id": "cooked-squad",
   "metadata": {},
   "outputs": [],
   "source": [
    "def graph_to_node_gdf(G):\n",
    "    \"\"\"Converts the given graph to a GeoDataFrame of its nodes.\"\"\"\n",
    "    nodes, data = zip(*G.nodes(data=True))\n",
    "    geom = [Point(node[0], node[1]) for node in nodes]\n",
    "    nodes_gdf = gpd.GeoDataFrame(data,\n",
    "                                 index=list(nodes),\n",
    "                                 crs=CRS_LATLON,\n",
    "                                 geometry=geom)\n",
    "    return nodes_gdf"
   ]
  },
  {
   "cell_type": "code",
   "execution_count": 8,
   "id": "pressing-belly",
   "metadata": {},
   "outputs": [],
   "source": [
    "def graph_to_edge_gdf(G):\n",
    "    \"\"\"Converts the given graph to a GeoDataFrame of its edges.\"\"\"\n",
    "    u, v, data = zip(*G.edges(data=True))\n",
    "    edges = list(zip(u, v))\n",
    "    attrs = nx.get_edge_attributes(G, 'speed')\n",
    "    geom = [\n",
    "        LineString((Point(edge[0][0],\n",
    "                          edge[0][1]), Point(edge[1][0], edge[1][1])))\n",
    "        for edge in edges\n",
    "    ]\n",
    "    edge_index = [(edge[0] + edge[1]) for edge in edges]\n",
    "    edges_gdf = gpd.GeoDataFrame(data,\n",
    "                                 index=edge_index,\n",
    "                                 crs=CRS_LATLON,\n",
    "                                 geometry=list(geom))\n",
    "    edges_gdf['length'] = edges_gdf.geometry.length\n",
    "    edges_gdf = edges_gdf.drop(columns={\n",
    "        'route_shor',\n",
    "        'route_long',\n",
    "        'color',\n",
    "        'ShpName',\n",
    "        'Wkb',\n",
    "        'Wkt',\n",
    "        'Json',\n",
    "    })\n",
    "    return edges_gdf"
   ]
  },
  {
   "cell_type": "code",
   "execution_count": 9,
   "id": "horizontal-speed",
   "metadata": {},
   "outputs": [],
   "source": [
    "def get_node(mg, point):\n",
    "    threshold = 0.00001\n",
    "    for node in route_mg.nodes():\n",
    "        if abs(node[0] - point[0]) < threshold and abs(node[1] - point[1]) < threshold:\n",
    "            return node\n",
    "    return None"
   ]
  },
  {
   "cell_type": "code",
   "execution_count": 51,
   "id": "yellow-yemen",
   "metadata": {},
   "outputs": [],
   "source": [
    "route_mgs = []\n",
    "\n",
    "for route_id in route_ids:\n",
    "    route_mg = nx.read_shp(f'{EXPORTS_DIR}/shp/manhattan/routes/{route_id}.shp', simplify=False)\n",
    "    route_mg.graph['crs'] = CRS_LATLON\n",
    "    route_mgs.append(route_mg)"
   ]
  },
  {
   "cell_type": "code",
   "execution_count": 52,
   "id": "asian-reservation",
   "metadata": {},
   "outputs": [],
   "source": [
    "all_routes_mg = route_mgs[0]\n",
    "\n",
    "for i, route_mg in enumerate(route_mgs[1:]):\n",
    "    all_routes_mg = nx.compose(all_routes_mg, route_mg)"
   ]
  },
  {
   "cell_type": "code",
   "execution_count": 53,
   "id": "faced-object",
   "metadata": {},
   "outputs": [],
   "source": [
    "import pickle\n",
    "f = open(f'{EXPORTS_DIR}/pkl/avg_speed_attr_dict.pkl', 'rb')\n",
    "avg_speed_attr_dict = pickle.load(f)\n",
    "f.close()"
   ]
  },
  {
   "cell_type": "code",
   "execution_count": 88,
   "id": "auburn-interpretation",
   "metadata": {},
   "outputs": [],
   "source": [
    "f = open(f'{EXPORTS_DIR}/pkl/all_trip_attr_dict.pkl', 'rb')\n",
    "all_trip_attr_dict = pickle.load(f)\n",
    "f.close()"
   ]
  },
  {
   "cell_type": "code",
   "execution_count": 54,
   "id": "grateful-validation",
   "metadata": {},
   "outputs": [],
   "source": [
    "nx.set_edge_attributes(all_routes_mg, avg_speed_attr_dict)"
   ]
  },
  {
   "cell_type": "code",
   "execution_count": 55,
   "id": "canadian-asbestos",
   "metadata": {},
   "outputs": [],
   "source": [
    "all_nodes_gdf = graph_to_node_gdf(all_routes_mg)\n",
    "all_edges_gdf = graph_to_edge_gdf(all_routes_mg)"
   ]
  },
  {
   "cell_type": "code",
   "execution_count": 57,
   "id": "ahead-adult",
   "metadata": {},
   "outputs": [],
   "source": [
    "edges = ((edge[0], edge[1]) for edge in all_routes_mg.edges(data=True) if 'speed' in edge[2])\n",
    "speed_mg = all_routes_mg.edge_subgraph(edges)\n",
    "nx.set_edge_attributes(speed_mg, avg_speed_attr_dict)"
   ]
  },
  {
   "cell_type": "code",
   "execution_count": 58,
   "id": "threatened-worthy",
   "metadata": {},
   "outputs": [],
   "source": [
    "speed_edges_gdf = graph_to_edge_gdf(speed_mg)"
   ]
  },
  {
   "cell_type": "code",
   "execution_count": 60,
   "id": "threaded-hypothesis",
   "metadata": {},
   "outputs": [
    {
     "data": {
      "image/png": "[encoded data removed]",
      "text/plain": [
       "<Figure size 720x720 with 2 Axes>"
      ]
     },
     "metadata": {
      "needs_background": "light"
     },
     "output_type": "display_data"
    }
   ],
   "source": [
    "fig, ax = plt.subplots(figsize=(10, 10))\n",
    "speed_edges_gdf.plot(ax=ax, column='speed', cmap='RdBu', zorder=2, linewidth=3, legend=True)\n",
    "ax.set_facecolor('#777')"
   ]
  },
  {
   "cell_type": "code",
   "execution_count": 102,
   "id": "infrared-tribune",
   "metadata": {},
   "outputs": [
    {
     "name": "stdout",
     "output_type": "stream",
     "text": [
      "207\n"
     ]
    },
    {
     "data": {
      "text/html": [
       "<div>\n",
       "<style scoped>\n",
       "    .dataframe tbody tr th:only-of-type {\n",
       "        vertical-align: middle;\n",
       "    }\n",
       "\n",
       "    .dataframe tbody tr th {\n",
       "        vertical-align: top;\n",
       "    }\n",
       "\n",
       "    .dataframe thead th {\n",
       "        text-align: right;\n",
       "    }\n",
       "</style>\n",
       "<table border=\"1\" class=\"dataframe\">\n",
       "  <thead>\n",
       "    <tr style=\"text-align: right;\">\n",
       "      <th></th>\n",
       "      <th>edge</th>\n",
       "      <th>OF_C1-Weekday-036000_M1_102</th>\n",
       "      <th>OF_C1-Weekday-038700_M1_103</th>\n",
       "      <th>OF_C1-Weekday-040200_M1_104</th>\n",
       "      <th>OF_C1-Weekday-041700_M1_105</th>\n",
       "      <th>OF_C1-Weekday-043100_M1_106</th>\n",
       "      <th>OF_C1-Weekday-044600_M1_107</th>\n",
       "      <th>OF_C1-Weekday-046100_M1_108</th>\n",
       "      <th>OF_C1-Weekday-047600_M1_109</th>\n",
       "      <th>OF_C1-Weekday-049000_M1_101</th>\n",
       "      <th>...</th>\n",
       "      <th>OF_C1-Weekday-123300_M1_134</th>\n",
       "      <th>OF_C1-Weekday-125300_M1_135</th>\n",
       "      <th>OF_C1-Weekday-126800_M1_136</th>\n",
       "      <th>OF_C1-Weekday-128300_M1_138</th>\n",
       "      <th>OF_C1-Weekday-131500_M1_140</th>\n",
       "      <th>OF_C1-Weekday-135500_M1_137</th>\n",
       "      <th>OF_C1-Weekday-138500_M1_143</th>\n",
       "      <th>OF_C1-Weekday-141500_M1_138</th>\n",
       "      <th>OF_C1-Weekday-144500_M1_140</th>\n",
       "      <th>OF_C1-Weekday-150500_M1_143</th>\n",
       "    </tr>\n",
       "  </thead>\n",
       "  <tbody>\n",
       "    <tr>\n",
       "      <th>0</th>\n",
       "      <td>(-73.972849, 40.76160199999984, -73.972359, 40...</td>\n",
       "      <td>217</td>\n",
       "      <td>217</td>\n",
       "      <td>217</td>\n",
       "      <td>217</td>\n",
       "      <td>217</td>\n",
       "      <td>217</td>\n",
       "      <td>217</td>\n",
       "      <td>217</td>\n",
       "      <td>217</td>\n",
       "      <td>...</td>\n",
       "      <td>217</td>\n",
       "      <td>217</td>\n",
       "      <td>217</td>\n",
       "      <td>217</td>\n",
       "      <td>217</td>\n",
       "      <td>217</td>\n",
       "      <td>217</td>\n",
       "      <td>217</td>\n",
       "      <td>217</td>\n",
       "      <td>217</td>\n",
       "    </tr>\n",
       "    <tr>\n",
       "      <th>1</th>\n",
       "      <td>(-73.984339, 40.74585199999984, -73.9838990000...</td>\n",
       "      <td>278</td>\n",
       "      <td>278</td>\n",
       "      <td>278</td>\n",
       "      <td>278</td>\n",
       "      <td>278</td>\n",
       "      <td>278</td>\n",
       "      <td>278</td>\n",
       "      <td>278</td>\n",
       "      <td>278</td>\n",
       "      <td>...</td>\n",
       "      <td>278</td>\n",
       "      <td>278</td>\n",
       "      <td>278</td>\n",
       "      <td>278</td>\n",
       "      <td>278</td>\n",
       "      <td>278</td>\n",
       "      <td>278</td>\n",
       "      <td>278</td>\n",
       "      <td>278</td>\n",
       "      <td>278</td>\n",
       "    </tr>\n",
       "    <tr>\n",
       "      <th>2</th>\n",
       "      <td>(-73.962826, 40.77535699999984, -73.9612729999...</td>\n",
       "      <td>176</td>\n",
       "      <td>176</td>\n",
       "      <td>176</td>\n",
       "      <td>176</td>\n",
       "      <td>176</td>\n",
       "      <td>176</td>\n",
       "      <td>176</td>\n",
       "      <td>176</td>\n",
       "      <td>176</td>\n",
       "      <td>...</td>\n",
       "      <td>176</td>\n",
       "      <td>176</td>\n",
       "      <td>176</td>\n",
       "      <td>176</td>\n",
       "      <td>176</td>\n",
       "      <td>176</td>\n",
       "      <td>176</td>\n",
       "      <td>176</td>\n",
       "      <td>176</td>\n",
       "      <td>176</td>\n",
       "    </tr>\n",
       "  </tbody>\n",
       "</table>\n",
       "<p>3 rows × 78 columns</p>\n",
       "</div>"
      ],
      "text/plain": [
       "                                                edge  \\\n",
       "0  (-73.972849, 40.76160199999984, -73.972359, 40...   \n",
       "1  (-73.984339, 40.74585199999984, -73.9838990000...   \n",
       "2  (-73.962826, 40.77535699999984, -73.9612729999...   \n",
       "\n",
       "   OF_C1-Weekday-036000_M1_102  OF_C1-Weekday-038700_M1_103  \\\n",
       "0                          217                          217   \n",
       "1                          278                          278   \n",
       "2                          176                          176   \n",
       "\n",
       "   OF_C1-Weekday-040200_M1_104  OF_C1-Weekday-041700_M1_105  \\\n",
       "0                          217                          217   \n",
       "1                          278                          278   \n",
       "2                          176                          176   \n",
       "\n",
       "   OF_C1-Weekday-043100_M1_106  OF_C1-Weekday-044600_M1_107  \\\n",
       "0                          217                          217   \n",
       "1                          278                          278   \n",
       "2                          176                          176   \n",
       "\n",
       "   OF_C1-Weekday-046100_M1_108  OF_C1-Weekday-047600_M1_109  \\\n",
       "0                          217                          217   \n",
       "1                          278                          278   \n",
       "2                          176                          176   \n",
       "\n",
       "   OF_C1-Weekday-049000_M1_101  ...  OF_C1-Weekday-123300_M1_134  \\\n",
       "0                          217  ...                          217   \n",
       "1                          278  ...                          278   \n",
       "2                          176  ...                          176   \n",
       "\n",
       "   OF_C1-Weekday-125300_M1_135  OF_C1-Weekday-126800_M1_136  \\\n",
       "0                          217                          217   \n",
       "1                          278                          278   \n",
       "2                          176                          176   \n",
       "\n",
       "   OF_C1-Weekday-128300_M1_138  OF_C1-Weekday-131500_M1_140  \\\n",
       "0                          217                          217   \n",
       "1                          278                          278   \n",
       "2                          176                          176   \n",
       "\n",
       "   OF_C1-Weekday-135500_M1_137  OF_C1-Weekday-138500_M1_143  \\\n",
       "0                          217                          217   \n",
       "1                          278                          278   \n",
       "2                          176                          176   \n",
       "\n",
       "   OF_C1-Weekday-141500_M1_138  OF_C1-Weekday-144500_M1_140  \\\n",
       "0                          217                          217   \n",
       "1                          278                          278   \n",
       "2                          176                          176   \n",
       "\n",
       "   OF_C1-Weekday-150500_M1_143  \n",
       "0                          217  \n",
       "1                          278  \n",
       "2                          176  \n",
       "\n",
       "[3 rows x 78 columns]"
      ]
     },
     "metadata": {},
     "output_type": "display_data"
    }
   ],
   "source": [
    "trip_mg = speed_mg\n",
    "nx.set_edge_attributes(trip_mg, all_trip_attr_dict)\n",
    "trip_edges_gdf = graph_to_edge_gdf(trip_mg)\n",
    "trip_edges_gdf = trip_edges_gdf.reset_index()\n",
    "trip_edges_gdf = trip_edges_gdf.rename(columns={'index': 'edge'})\n",
    "trip_edges_gdf = trip_edges_gdf.drop(columns=['route_id', 'route_dir', 'speed', 'geometry', 'length'])\n",
    "peek(trip_edges_gdf)"
   ]
  },
  {
   "cell_type": "code",
   "execution_count": 103,
   "id": "combined-barbados",
   "metadata": {},
   "outputs": [
    {
     "name": "stdout",
     "output_type": "stream",
     "text": [
      "207\n"
     ]
    },
    {
     "data": {
      "text/html": [
       "<div>\n",
       "<style scoped>\n",
       "    .dataframe tbody tr th:only-of-type {\n",
       "        vertical-align: middle;\n",
       "    }\n",
       "\n",
       "    .dataframe tbody tr th {\n",
       "        vertical-align: top;\n",
       "    }\n",
       "\n",
       "    .dataframe thead th {\n",
       "        text-align: right;\n",
       "    }\n",
       "</style>\n",
       "<table border=\"1\" class=\"dataframe\">\n",
       "  <thead>\n",
       "    <tr style=\"text-align: right;\">\n",
       "      <th></th>\n",
       "      <th>index</th>\n",
       "      <th>route_id</th>\n",
       "      <th>route_dir</th>\n",
       "      <th>speed</th>\n",
       "      <th>geometry</th>\n",
       "      <th>length</th>\n",
       "      <th>duration</th>\n",
       "    </tr>\n",
       "  </thead>\n",
       "  <tbody>\n",
       "    <tr>\n",
       "      <th>0</th>\n",
       "      <td>(-73.972849, 40.76160199999984, -73.972359, 40...</td>\n",
       "      <td>M4</td>\n",
       "      <td>M4_0</td>\n",
       "      <td>2.330601</td>\n",
       "      <td>LINESTRING (-73.97285 40.76160, -73.97236 40.7...</td>\n",
       "      <td>92.196800</td>\n",
       "      <td>39.559233</td>\n",
       "    </tr>\n",
       "    <tr>\n",
       "      <th>1</th>\n",
       "      <td>(-73.984339, 40.74585199999984, -73.9838990000...</td>\n",
       "      <td>M3</td>\n",
       "      <td>M3_0</td>\n",
       "      <td>2.330861</td>\n",
       "      <td>LINESTRING (-73.98434 40.74585, -73.98390 40.7...</td>\n",
       "      <td>83.628942</td>\n",
       "      <td>35.878986</td>\n",
       "    </tr>\n",
       "    <tr>\n",
       "      <th>2</th>\n",
       "      <td>(-73.962826, 40.77535699999984, -73.9612729999...</td>\n",
       "      <td>M4</td>\n",
       "      <td>M4_0</td>\n",
       "      <td>4.600287</td>\n",
       "      <td>LINESTRING (-73.96283 40.77536, -73.96127 40.7...</td>\n",
       "      <td>289.875568</td>\n",
       "      <td>63.012500</td>\n",
       "    </tr>\n",
       "  </tbody>\n",
       "</table>\n",
       "</div>"
      ],
      "text/plain": [
       "                                               index route_id route_dir  \\\n",
       "0  (-73.972849, 40.76160199999984, -73.972359, 40...       M4      M4_0   \n",
       "1  (-73.984339, 40.74585199999984, -73.9838990000...       M3      M3_0   \n",
       "2  (-73.962826, 40.77535699999984, -73.9612729999...       M4      M4_0   \n",
       "\n",
       "      speed                                           geometry      length  \\\n",
       "0  2.330601  LINESTRING (-73.97285 40.76160, -73.97236 40.7...   92.196800   \n",
       "1  2.330861  LINESTRING (-73.98434 40.74585, -73.98390 40.7...   83.628942   \n",
       "2  4.600287  LINESTRING (-73.96283 40.77536, -73.96127 40.7...  289.875568   \n",
       "\n",
       "    duration  \n",
       "0  39.559233  \n",
       "1  35.878986  \n",
       "2  63.012500  "
      ]
     },
     "metadata": {},
     "output_type": "display_data"
    }
   ],
   "source": [
    "ip_edges_gdf = speed_edges_gdf.reset_index()\n",
    "ip_edges_gdf['length'] = ip_edges_gdf['length'] * (0.11 / 0.000001)\n",
    "ip_edges_gdf['duration'] = ip_edges_gdf['length'] / ip_edges_gdf['speed']\n",
    "peek(ip_edges_gdf)"
   ]
  },
  {
   "cell_type": "code",
   "execution_count": 104,
   "id": "electrical-weight",
   "metadata": {},
   "outputs": [
    {
     "name": "stdout",
     "output_type": "stream",
     "text": [
      "207\n"
     ]
    },
    {
     "data": {
      "text/html": [
       "<div>\n",
       "<style scoped>\n",
       "    .dataframe tbody tr th:only-of-type {\n",
       "        vertical-align: middle;\n",
       "    }\n",
       "\n",
       "    .dataframe tbody tr th {\n",
       "        vertical-align: top;\n",
       "    }\n",
       "\n",
       "    .dataframe thead th {\n",
       "        text-align: right;\n",
       "    }\n",
       "</style>\n",
       "<table border=\"1\" class=\"dataframe\">\n",
       "  <thead>\n",
       "    <tr style=\"text-align: right;\">\n",
       "      <th></th>\n",
       "      <th>edge</th>\n",
       "      <th>speed</th>\n",
       "      <th>length</th>\n",
       "      <th>duration</th>\n",
       "      <th>OF_C1-Weekday-036000_M1_102</th>\n",
       "      <th>OF_C1-Weekday-038700_M1_103</th>\n",
       "      <th>OF_C1-Weekday-040200_M1_104</th>\n",
       "      <th>OF_C1-Weekday-041700_M1_105</th>\n",
       "      <th>OF_C1-Weekday-043100_M1_106</th>\n",
       "      <th>OF_C1-Weekday-044600_M1_107</th>\n",
       "      <th>...</th>\n",
       "      <th>OF_C1-Weekday-123300_M1_134</th>\n",
       "      <th>OF_C1-Weekday-125300_M1_135</th>\n",
       "      <th>OF_C1-Weekday-126800_M1_136</th>\n",
       "      <th>OF_C1-Weekday-128300_M1_138</th>\n",
       "      <th>OF_C1-Weekday-131500_M1_140</th>\n",
       "      <th>OF_C1-Weekday-135500_M1_137</th>\n",
       "      <th>OF_C1-Weekday-138500_M1_143</th>\n",
       "      <th>OF_C1-Weekday-141500_M1_138</th>\n",
       "      <th>OF_C1-Weekday-144500_M1_140</th>\n",
       "      <th>OF_C1-Weekday-150500_M1_143</th>\n",
       "    </tr>\n",
       "  </thead>\n",
       "  <tbody>\n",
       "    <tr>\n",
       "      <th>0</th>\n",
       "      <td>(-73.972849, 40.76160199999984, -73.972359, 40...</td>\n",
       "      <td>2.330601</td>\n",
       "      <td>92.196800</td>\n",
       "      <td>39.559233</td>\n",
       "      <td>217</td>\n",
       "      <td>217</td>\n",
       "      <td>217</td>\n",
       "      <td>217</td>\n",
       "      <td>217</td>\n",
       "      <td>217</td>\n",
       "      <td>...</td>\n",
       "      <td>217</td>\n",
       "      <td>217</td>\n",
       "      <td>217</td>\n",
       "      <td>217</td>\n",
       "      <td>217</td>\n",
       "      <td>217</td>\n",
       "      <td>217</td>\n",
       "      <td>217</td>\n",
       "      <td>217</td>\n",
       "      <td>217</td>\n",
       "    </tr>\n",
       "    <tr>\n",
       "      <th>1</th>\n",
       "      <td>(-73.984339, 40.74585199999984, -73.9838990000...</td>\n",
       "      <td>2.330861</td>\n",
       "      <td>83.628942</td>\n",
       "      <td>35.878986</td>\n",
       "      <td>278</td>\n",
       "      <td>278</td>\n",
       "      <td>278</td>\n",
       "      <td>278</td>\n",
       "      <td>278</td>\n",
       "      <td>278</td>\n",
       "      <td>...</td>\n",
       "      <td>278</td>\n",
       "      <td>278</td>\n",
       "      <td>278</td>\n",
       "      <td>278</td>\n",
       "      <td>278</td>\n",
       "      <td>278</td>\n",
       "      <td>278</td>\n",
       "      <td>278</td>\n",
       "      <td>278</td>\n",
       "      <td>278</td>\n",
       "    </tr>\n",
       "    <tr>\n",
       "      <th>2</th>\n",
       "      <td>(-73.962826, 40.77535699999984, -73.9612729999...</td>\n",
       "      <td>4.600287</td>\n",
       "      <td>289.875568</td>\n",
       "      <td>63.012500</td>\n",
       "      <td>176</td>\n",
       "      <td>176</td>\n",
       "      <td>176</td>\n",
       "      <td>176</td>\n",
       "      <td>176</td>\n",
       "      <td>176</td>\n",
       "      <td>...</td>\n",
       "      <td>176</td>\n",
       "      <td>176</td>\n",
       "      <td>176</td>\n",
       "      <td>176</td>\n",
       "      <td>176</td>\n",
       "      <td>176</td>\n",
       "      <td>176</td>\n",
       "      <td>176</td>\n",
       "      <td>176</td>\n",
       "      <td>176</td>\n",
       "    </tr>\n",
       "  </tbody>\n",
       "</table>\n",
       "<p>3 rows × 81 columns</p>\n",
       "</div>"
      ],
      "text/plain": [
       "                                                edge     speed      length  \\\n",
       "0  (-73.972849, 40.76160199999984, -73.972359, 40...  2.330601   92.196800   \n",
       "1  (-73.984339, 40.74585199999984, -73.9838990000...  2.330861   83.628942   \n",
       "2  (-73.962826, 40.77535699999984, -73.9612729999...  4.600287  289.875568   \n",
       "\n",
       "    duration  OF_C1-Weekday-036000_M1_102  OF_C1-Weekday-038700_M1_103  \\\n",
       "0  39.559233                          217                          217   \n",
       "1  35.878986                          278                          278   \n",
       "2  63.012500                          176                          176   \n",
       "\n",
       "   OF_C1-Weekday-040200_M1_104  OF_C1-Weekday-041700_M1_105  \\\n",
       "0                          217                          217   \n",
       "1                          278                          278   \n",
       "2                          176                          176   \n",
       "\n",
       "   OF_C1-Weekday-043100_M1_106  OF_C1-Weekday-044600_M1_107  ...  \\\n",
       "0                          217                          217  ...   \n",
       "1                          278                          278  ...   \n",
       "2                          176                          176  ...   \n",
       "\n",
       "   OF_C1-Weekday-123300_M1_134  OF_C1-Weekday-125300_M1_135  \\\n",
       "0                          217                          217   \n",
       "1                          278                          278   \n",
       "2                          176                          176   \n",
       "\n",
       "   OF_C1-Weekday-126800_M1_136  OF_C1-Weekday-128300_M1_138  \\\n",
       "0                          217                          217   \n",
       "1                          278                          278   \n",
       "2                          176                          176   \n",
       "\n",
       "   OF_C1-Weekday-131500_M1_140  OF_C1-Weekday-135500_M1_137  \\\n",
       "0                          217                          217   \n",
       "1                          278                          278   \n",
       "2                          176                          176   \n",
       "\n",
       "   OF_C1-Weekday-138500_M1_143  OF_C1-Weekday-141500_M1_138  \\\n",
       "0                          217                          217   \n",
       "1                          278                          278   \n",
       "2                          176                          176   \n",
       "\n",
       "   OF_C1-Weekday-144500_M1_140  OF_C1-Weekday-150500_M1_143  \n",
       "0                          217                          217  \n",
       "1                          278                          278  \n",
       "2                          176                          176  \n",
       "\n",
       "[3 rows x 81 columns]"
      ]
     },
     "metadata": {},
     "output_type": "display_data"
    }
   ],
   "source": [
    "edge_manifest = ip_edges_gdf[['index', 'speed', 'length', 'duration']]\n",
    "edge_manifest = edge_manifest.rename(columns={'index': 'edge'})\n",
    "edge_manifest = edge_manifest.merge(trip_edges_gdf, left_on='edge', right_on='edge', how='left')\n",
    "peek(edge_manifest)"
   ]
  },
  {
   "cell_type": "code",
   "execution_count": 239,
   "id": "powered-gothic",
   "metadata": {},
   "outputs": [],
   "source": [
    "def get_start_node(edge):\n",
    "    return edge[0:2]\n",
    "def get_end_node(edge):\n",
    "    return edge[2:]"
   ]
  },
  {
   "cell_type": "code",
   "execution_count": 393,
   "id": "elementary-attribute",
   "metadata": {},
   "outputs": [
    {
     "name": "stdout",
     "output_type": "stream",
     "text": [
      "208\n"
     ]
    },
    {
     "data": {
      "text/html": [
       "<div>\n",
       "<style scoped>\n",
       "    .dataframe tbody tr th:only-of-type {\n",
       "        vertical-align: middle;\n",
       "    }\n",
       "\n",
       "    .dataframe tbody tr th {\n",
       "        vertical-align: top;\n",
       "    }\n",
       "\n",
       "    .dataframe thead th {\n",
       "        text-align: right;\n",
       "    }\n",
       "</style>\n",
       "<table border=\"1\" class=\"dataframe\">\n",
       "  <thead>\n",
       "    <tr style=\"text-align: right;\">\n",
       "      <th></th>\n",
       "      <th>node</th>\n",
       "    </tr>\n",
       "  </thead>\n",
       "  <tbody>\n",
       "    <tr>\n",
       "      <th>0</th>\n",
       "      <td>(-73.93874900000002, 40.80832199999985)</td>\n",
       "    </tr>\n",
       "    <tr>\n",
       "      <th>1</th>\n",
       "      <td>(-73.962826, 40.77535699999984)</td>\n",
       "    </tr>\n",
       "    <tr>\n",
       "      <th>2</th>\n",
       "      <td>(-73.972849, 40.76160199999984)</td>\n",
       "    </tr>\n",
       "  </tbody>\n",
       "</table>\n",
       "</div>"
      ],
      "text/plain": [
       "                                      node\n",
       "0  (-73.93874900000002, 40.80832199999985)\n",
       "1          (-73.962826, 40.77535699999984)\n",
       "2          (-73.972849, 40.76160199999984)"
      ]
     },
     "metadata": {},
     "output_type": "display_data"
    },
    {
     "name": "stdout",
     "output_type": "stream",
     "text": [
      "207\n"
     ]
    },
    {
     "data": {
      "text/html": [
       "<div>\n",
       "<style scoped>\n",
       "    .dataframe tbody tr th:only-of-type {\n",
       "        vertical-align: middle;\n",
       "    }\n",
       "\n",
       "    .dataframe tbody tr th {\n",
       "        vertical-align: top;\n",
       "    }\n",
       "\n",
       "    .dataframe thead th {\n",
       "        text-align: right;\n",
       "    }\n",
       "</style>\n",
       "<table border=\"1\" class=\"dataframe\">\n",
       "  <thead>\n",
       "    <tr style=\"text-align: right;\">\n",
       "      <th></th>\n",
       "      <th>start</th>\n",
       "      <th>end</th>\n",
       "    </tr>\n",
       "  </thead>\n",
       "  <tbody>\n",
       "    <tr>\n",
       "      <th>0</th>\n",
       "      <td>2</td>\n",
       "      <td>151</td>\n",
       "    </tr>\n",
       "    <tr>\n",
       "      <th>1</th>\n",
       "      <td>3</td>\n",
       "      <td>157</td>\n",
       "    </tr>\n",
       "    <tr>\n",
       "      <th>2</th>\n",
       "      <td>1</td>\n",
       "      <td>38</td>\n",
       "    </tr>\n",
       "  </tbody>\n",
       "</table>\n",
       "</div>"
      ],
      "text/plain": [
       "   start  end\n",
       "0      2  151\n",
       "1      3  157\n",
       "2      1   38"
      ]
     },
     "metadata": {},
     "output_type": "display_data"
    },
    {
     "name": "stdout",
     "output_type": "stream",
     "text": [
      "207\n"
     ]
    },
    {
     "data": {
      "text/html": [
       "<div>\n",
       "<style scoped>\n",
       "    .dataframe tbody tr th:only-of-type {\n",
       "        vertical-align: middle;\n",
       "    }\n",
       "\n",
       "    .dataframe tbody tr th {\n",
       "        vertical-align: top;\n",
       "    }\n",
       "\n",
       "    .dataframe thead th {\n",
       "        text-align: right;\n",
       "    }\n",
       "</style>\n",
       "<table border=\"1\" class=\"dataframe\">\n",
       "  <thead>\n",
       "    <tr style=\"text-align: right;\">\n",
       "      <th></th>\n",
       "      <th>edge</th>\n",
       "      <th>start</th>\n",
       "      <th>end</th>\n",
       "      <th>prev</th>\n",
       "      <th>next</th>\n",
       "    </tr>\n",
       "  </thead>\n",
       "  <tbody>\n",
       "    <tr>\n",
       "      <th>0</th>\n",
       "      <td>0</td>\n",
       "      <td>2</td>\n",
       "      <td>151</td>\n",
       "      <td>[184]</td>\n",
       "      <td>[153]</td>\n",
       "    </tr>\n",
       "    <tr>\n",
       "      <th>1</th>\n",
       "      <td>1</td>\n",
       "      <td>3</td>\n",
       "      <td>157</td>\n",
       "      <td>[24]</td>\n",
       "      <td>[160]</td>\n",
       "    </tr>\n",
       "    <tr>\n",
       "      <th>2</th>\n",
       "      <td>2</td>\n",
       "      <td>1</td>\n",
       "      <td>38</td>\n",
       "      <td>[128]</td>\n",
       "      <td>[45]</td>\n",
       "    </tr>\n",
       "  </tbody>\n",
       "</table>\n",
       "</div>"
      ],
      "text/plain": [
       "   edge  start  end   prev   next\n",
       "0     0      2  151  [184]  [153]\n",
       "1     1      3  157   [24]  [160]\n",
       "2     2      1   38  [128]   [45]"
      ]
     },
     "metadata": {},
     "output_type": "display_data"
    }
   ],
   "source": [
    "node_edge_manifest = edge_manifest[['edge']]\n",
    "node_edge_manifest['start'] = node_edge_manifest['edge'].apply(lambda x: get_start_node(x))\n",
    "node_edge_manifest['end'] = node_edge_manifest['edge'].apply(lambda x: get_end_node(x))\n",
    "\n",
    "start_nodes = list(set(node_edge_manifest['start']))\n",
    "end_nodes = list(set(node_edge_manifest['end']))\n",
    "nodes = list(set(start_nodes + end_nodes))\n",
    "node_manifest = pd.DataFrame(nodes)\n",
    "node_manifest['node'] = node_manifest.apply(lambda x: (x[0], x[1]), axis=1)\n",
    "node_manifest = node_manifest[['node']]\n",
    "\n",
    "node_edge_manifest['start'] = node_edge_manifest['start'].apply(lambda x: nodes.index(x))\n",
    "node_edge_manifest['end'] = node_edge_manifest['end'].apply(lambda x: nodes.index(x))\n",
    "node_edge_manifest = node_edge_manifest[['start', 'end']]\n",
    "\n",
    "peek(node_manifest)\n",
    "peek(node_edge_manifest)\n",
    "peek(edge_node_manifest)"
   ]
  },
  {
   "cell_type": "code",
   "execution_count": 394,
   "id": "frequent-bible",
   "metadata": {},
   "outputs": [],
   "source": [
    "node_latlon_df = pd.DataFrame(nodes, columns=['lon', 'lat'])\n",
    "ip_nodes_gdf = gpd.GeoDataFrame({}, geometry=gpd.points_from_xy(node_latlon_df['lon'], node_latlon_df['lat']), crs=CRS_LATLON)"
   ]
  },
  {
   "cell_type": "code",
   "execution_count": 395,
   "id": "collectible-style",
   "metadata": {},
   "outputs": [],
   "source": [
    "def get_prev_edges(row, manifest):\n",
    "    start = row['start']\n",
    "    prev_edges = list(manifest[manifest['end'] == start].index)\n",
    "    return prev_edges"
   ]
  },
  {
   "cell_type": "code",
   "execution_count": 396,
   "id": "incorporated-wilson",
   "metadata": {},
   "outputs": [],
   "source": [
    "def get_next_edges(row, manifest):\n",
    "    end = row['end']\n",
    "    next_edges = list(manifest[manifest['start'] == end].index)\n",
    "    return next_edges"
   ]
  },
  {
   "cell_type": "code",
   "execution_count": 397,
   "id": "native-action",
   "metadata": {},
   "outputs": [
    {
     "name": "stdout",
     "output_type": "stream",
     "text": [
      "207\n"
     ]
    },
    {
     "data": {
      "text/html": [
       "<div>\n",
       "<style scoped>\n",
       "    .dataframe tbody tr th:only-of-type {\n",
       "        vertical-align: middle;\n",
       "    }\n",
       "\n",
       "    .dataframe tbody tr th {\n",
       "        vertical-align: top;\n",
       "    }\n",
       "\n",
       "    .dataframe thead th {\n",
       "        text-align: right;\n",
       "    }\n",
       "</style>\n",
       "<table border=\"1\" class=\"dataframe\">\n",
       "  <thead>\n",
       "    <tr style=\"text-align: right;\">\n",
       "      <th></th>\n",
       "      <th>edge</th>\n",
       "      <th>start</th>\n",
       "      <th>end</th>\n",
       "      <th>prev</th>\n",
       "      <th>next</th>\n",
       "    </tr>\n",
       "  </thead>\n",
       "  <tbody>\n",
       "    <tr>\n",
       "      <th>0</th>\n",
       "      <td>0</td>\n",
       "      <td>2</td>\n",
       "      <td>151</td>\n",
       "      <td>[184]</td>\n",
       "      <td>[153]</td>\n",
       "    </tr>\n",
       "    <tr>\n",
       "      <th>1</th>\n",
       "      <td>1</td>\n",
       "      <td>3</td>\n",
       "      <td>157</td>\n",
       "      <td>[24]</td>\n",
       "      <td>[160]</td>\n",
       "    </tr>\n",
       "    <tr>\n",
       "      <th>2</th>\n",
       "      <td>2</td>\n",
       "      <td>1</td>\n",
       "      <td>38</td>\n",
       "      <td>[128]</td>\n",
       "      <td>[45]</td>\n",
       "    </tr>\n",
       "  </tbody>\n",
       "</table>\n",
       "</div>"
      ],
      "text/plain": [
       "   edge  start  end   prev   next\n",
       "0     0      2  151  [184]  [153]\n",
       "1     1      3  157   [24]  [160]\n",
       "2     2      1   38  [128]   [45]"
      ]
     },
     "metadata": {},
     "output_type": "display_data"
    }
   ],
   "source": [
    "edge_node_manifest = node_edge_manifest.reset_index().rename(columns={'index': 'edge'})\n",
    "edge_node_manifest['prev'] = [[] for i in range(len(edge_node_manifest))]\n",
    "edge_node_manifest['next'] = [[] for i in range(len(edge_node_manifest))]\n",
    "edge_node_manifest['prev'] = edge_node_manifest.apply(lambda x: get_prev_edges(x, edge_node_manifest), axis=1)\n",
    "edge_node_manifest['next'] = edge_node_manifest.apply(lambda x: get_next_edges(x, edge_node_manifest), axis=1)\n",
    "peek(edge_node_manifest)"
   ]
  },
  {
   "cell_type": "code",
   "execution_count": 398,
   "id": "abstract-bench",
   "metadata": {},
   "outputs": [],
   "source": [
    "prev_edges = list(edge_node_manifest['prev'])\n",
    "next_edges = list(edge_node_manifest['next'])\n",
    "start_nodes = list(edge_node_manifest['start'])"
   ]
  },
  {
   "cell_type": "code",
   "execution_count": 399,
   "id": "conventional-emission",
   "metadata": {},
   "outputs": [],
   "source": [
    "def get_trip_df(trip_id):\n",
    "    trip_df = edge_manifest[[trip_id]]\n",
    "    trip_df = trip_df.dropna()\n",
    "    trip_df = trip_df.sort_values(by=[trip_id])\n",
    "    return trip_df"
   ]
  },
  {
   "cell_type": "code",
   "execution_count": 400,
   "id": "thermal-collection",
   "metadata": {},
   "outputs": [
    {
     "name": "stdout",
     "output_type": "stream",
     "text": [
      "207\n"
     ]
    },
    {
     "data": {
      "text/html": [
       "<div>\n",
       "<style scoped>\n",
       "    .dataframe tbody tr th:only-of-type {\n",
       "        vertical-align: middle;\n",
       "    }\n",
       "\n",
       "    .dataframe tbody tr th {\n",
       "        vertical-align: top;\n",
       "    }\n",
       "\n",
       "    .dataframe thead th {\n",
       "        text-align: right;\n",
       "    }\n",
       "</style>\n",
       "<table border=\"1\" class=\"dataframe\">\n",
       "  <thead>\n",
       "    <tr style=\"text-align: right;\">\n",
       "      <th></th>\n",
       "      <th>OF_C1-Weekday-036000_M1_102</th>\n",
       "    </tr>\n",
       "  </thead>\n",
       "  <tbody>\n",
       "    <tr>\n",
       "      <th>79</th>\n",
       "      <td>0</td>\n",
       "    </tr>\n",
       "    <tr>\n",
       "      <th>83</th>\n",
       "      <td>1</td>\n",
       "    </tr>\n",
       "    <tr>\n",
       "      <th>50</th>\n",
       "      <td>2</td>\n",
       "    </tr>\n",
       "  </tbody>\n",
       "</table>\n",
       "</div>"
      ],
      "text/plain": [
       "    OF_C1-Weekday-036000_M1_102\n",
       "79                            0\n",
       "83                            1\n",
       "50                            2"
      ]
     },
     "metadata": {},
     "output_type": "display_data"
    }
   ],
   "source": [
    "trip_df = get_trip_df('OF_C1-Weekday-036000_M1_102')\n",
    "trip_edges = list(trip_df.index)\n",
    "battery = 100\n",
    "peek(trip_df)"
   ]
  },
  {
   "cell_type": "code",
   "execution_count": 401,
   "id": "missing-upper",
   "metadata": {},
   "outputs": [],
   "source": [
    "import gurobipy as gp\n",
    "from gurobipy import GRB"
   ]
  },
  {
   "cell_type": "code",
   "execution_count": 519,
   "id": "impressed-sussex",
   "metadata": {},
   "outputs": [],
   "source": [
    "N_EDGES = len(edge_manifest)\n",
    "N_NODES = len(node_manifest)\n",
    "EDGE_COST_CABLE = 1 \n",
    "EDGE_POWER_SUPPLY = 1\n",
    "EDGE_POWER_DEMAND = 1\n",
    "NODE_TRANSMITTER_COST = 100"
   ]
  },
  {
   "cell_type": "code",
   "execution_count": 520,
   "id": "binary-joyce",
   "metadata": {},
   "outputs": [],
   "source": [
    "cable_costs = list(ip_edges_gdf['length'] * COST_CABLE)\n",
    "edge_power_supplies = list(ip_edges_gdf['duration'] * EDGE_POWER_SUPPLY)\n",
    "edge_power_demands = list(ip_edges_gdf['duration'] * EDGE_POWER_DEMAND)"
   ]
  },
  {
   "cell_type": "code",
   "execution_count": 521,
   "id": "trying-parameter",
   "metadata": {},
   "outputs": [],
   "source": [
    "battery = np.sum(edge_power_supplies) * 0.5"
   ]
  },
  {
   "cell_type": "code",
   "execution_count": 522,
   "id": "retained-romance",
   "metadata": {},
   "outputs": [],
   "source": [
    "model = gp.Model('example')\n",
    "\n",
    "x = model.addVars(N_EDGES, vtype=GRB.BINARY)\n",
    "y = model.addVars(N_NODES, vtype=GRB.BINARY)\n",
    "\n",
    "for j in range(1, len(trip_edges)):\n",
    "    model.addConstr(battery + gp.quicksum(-edge_power_demands[i] + x[i] * edge_power_supplies[i] for i in trip_edges[0:j]) >= 0)\n",
    "    \n",
    "for j in range(len(trip_edges)):\n",
    "    transmitter = y[start_nodes[j]]\n",
    "    prev_cable = gp.quicksum(x[i] for i in prev_edges[j])\n",
    "    model.addConstr(x[j] - transmitter - prev_cable <= 0)\n",
    "    \n",
    "model.addConstr(gp.quicksum(y[start_nodes[i]] * x[i] for i in trip_edges) == gp.quicksum(y[i] for i in range(N_NODES)))\n",
    "\n",
    "cable_cost = gp.quicksum((x[i] * cable_costs[i]) for i in range(N_EDGES))\n",
    "transmitter_cost = gp.quicksum((y[i] * NODE_TRANSMITTER_COST) for i in range(N_NODES))\n",
    "objective = cable_cost + transmitter_cost\n",
    "model.setObjective(objective, GRB.MINIMIZE)"
   ]
  },
  {
   "cell_type": "code",
   "execution_count": 523,
   "id": "mechanical-supplier",
   "metadata": {},
   "outputs": [
    {
     "name": "stdout",
     "output_type": "stream",
     "text": [
      "12125.980020765977\n"
     ]
    }
   ],
   "source": [
    "model.params.outputflag = 0\n",
    "model.update()\n",
    "model.optimize()\n",
    "print(model.ObjVal)"
   ]
  },
  {
   "cell_type": "code",
   "execution_count": 524,
   "id": "light-sound",
   "metadata": {},
   "outputs": [
    {
     "data": {
      "text/plain": [
       "94"
      ]
     },
     "execution_count": 524,
     "metadata": {},
     "output_type": "execute_result"
    }
   ],
   "source": [
    "opt_x = model.getAttr('X', model.getVars()[:N_EDGES])\n",
    "xdf = pd.DataFrame(opt_x, columns=['x'])\n",
    "len(xdf[xdf['x'] > 0])"
   ]
  },
  {
   "cell_type": "code",
   "execution_count": 525,
   "id": "private-tribune",
   "metadata": {},
   "outputs": [
    {
     "data": {
      "text/plain": [
       "1"
      ]
     },
     "execution_count": 525,
     "metadata": {},
     "output_type": "execute_result"
    }
   ],
   "source": [
    "opt_y = model.getAttr('X', model.getVars()[N_EDGES:N_EDGES+N_NODES])\n",
    "ydf = pd.DataFrame(opt_y, columns=['y'])\n",
    "len(ydf[ydf['y'] > 0])"
   ]
  },
  {
   "cell_type": "code",
   "execution_count": 526,
   "id": "illegal-ethernet",
   "metadata": {},
   "outputs": [
    {
     "name": "stdout",
     "output_type": "stream",
     "text": [
      "14 103\n"
     ]
    }
   ],
   "source": [
    "for i in trip_edges:\n",
    "    x = xdf.loc[i, 'x']\n",
    "    y = ydf.loc[start_nodes[i], 'y']\n",
    "    if x * y > 0:\n",
    "        print(i, start_nodes[i])"
   ]
  },
  {
   "cell_type": "code",
   "execution_count": 527,
   "id": "altered-chair",
   "metadata": {},
   "outputs": [
    {
     "data": {
      "text/html": [
       "<div>\n",
       "<style scoped>\n",
       "    .dataframe tbody tr th:only-of-type {\n",
       "        vertical-align: middle;\n",
       "    }\n",
       "\n",
       "    .dataframe tbody tr th {\n",
       "        vertical-align: top;\n",
       "    }\n",
       "\n",
       "    .dataframe thead th {\n",
       "        text-align: right;\n",
       "    }\n",
       "</style>\n",
       "<table border=\"1\" class=\"dataframe\">\n",
       "  <thead>\n",
       "    <tr style=\"text-align: right;\">\n",
       "      <th></th>\n",
       "      <th>y</th>\n",
       "    </tr>\n",
       "  </thead>\n",
       "  <tbody>\n",
       "    <tr>\n",
       "      <th>103</th>\n",
       "      <td>1.0</td>\n",
       "    </tr>\n",
       "  </tbody>\n",
       "</table>\n",
       "</div>"
      ],
      "text/plain": [
       "       y\n",
       "103  1.0"
      ]
     },
     "execution_count": 527,
     "metadata": {},
     "output_type": "execute_result"
    }
   ],
   "source": [
    "ydf[ydf['y'] > 0]"
   ]
  },
  {
   "cell_type": "code",
   "execution_count": 528,
   "id": "ceramic-service",
   "metadata": {},
   "outputs": [],
   "source": [
    "def plot_results(xdf, ydf):\n",
    "    fig, ax = plt.subplots(figsize=(15, 15))\n",
    "    \n",
    "    mxdf = ip_edges_gdf.merge(xdf, left_index=True, right_index=True, how='left')\n",
    "    mxdf.plot(ax=ax, column='x', cmap='Blues', zorder=2, linewidth=3, legend=True)\n",
    "    \n",
    "    mydf = ip_nodes_gdf.merge(ydf, left_index=True, right_index=True, how='left')\n",
    "    mydf = mydf[mydf['y'] == 1]\n",
    "    mydf.plot(ax=ax, color='C1', zorder=3, markersize=30)\n",
    "    \n",
    "    ax.set_facecolor('#777')"
   ]
  },
  {
   "cell_type": "code",
   "execution_count": 529,
   "id": "mental-jesus",
   "metadata": {},
   "outputs": [
    {
     "data": {
      "image/png": "[encoded data removed]",
      "text/plain": [
       "<Figure size 1080x1080 with 2 Axes>"
      ]
     },
     "metadata": {
      "needs_background": "light"
     },
     "output_type": "display_data"
    }
   ],
   "source": [
    "plot_results(xdf, ydf)"
   ]
  },
  {
   "cell_type": "code",
   "execution_count": 197,
   "id": "intellectual-tunisia",
   "metadata": {},
   "outputs": [
    {
     "data": {
      "text/plain": [
       "184"
      ]
     },
     "execution_count": 197,
     "metadata": {},
     "output_type": "execute_result"
    }
   ],
   "source": []
  },
  {
   "cell_type": "code",
   "execution_count": null,
   "id": "demographic-gamma",
   "metadata": {},
   "outputs": [],
   "source": []
  }
 ],
 "metadata": {
  "kernelspec": {
   "display_name": "Python 3",
   "language": "python",
   "name": "python3"
  },
  "language_info": {
   "codemirror_mode": {
    "name": "ipython",
    "version": 3
   },
   "file_extension": ".py",
   "mimetype": "text/x-python",
   "name": "python",
   "nbconvert_exporter": "python",
   "pygments_lexer": "ipython3",
   "version": "3.7.6"
  }
 },
 "nbformat": 4,
 "nbformat_minor": 5
}
