{
 "cells": [
  {
   "cell_type": "code",
   "execution_count": null,
   "id": "thermal-sudan",
   "metadata": {},
   "outputs": [],
   "source": [
    "# \n"
   ]
  },
  {
   "cell_type": "code",
   "execution_count": 356,
   "id": "funky-solution",
   "metadata": {},
   "outputs": [],
   "source": [
    "import geopandas as gpd\n",
    "import json\n",
    "import matplotlib\n",
    "import matplotlib.cm as cm\n",
    "import matplotlib.colors as colors\n",
    "from datetime import timedelta\n",
    "import matplotlib.pyplot as plt\n",
    "import networkx as nx\n",
    "from shapely.geometry import Point\n",
    "from shapely.geometry import LineString\n",
    "from shapely.geometry import MultiLineString\n",
    "import numpy as np\n",
    "import numpy as npm\n",
    "import osmnx as ox\n",
    "import math\n",
    "import pandas as pd\n",
    "from shapely.ops import snap\n",
    "from tqdm import tqdm\n",
    "import re\n",
    "\n",
    "import warnings\n",
    "warnings.filterwarnings('ignore')\n",
    "%matplotlib inline"
   ]
  },
  {
   "cell_type": "code",
   "execution_count": 357,
   "id": "institutional-awareness",
   "metadata": {},
   "outputs": [],
   "source": [
    "CRS_LATLON = 'EPSG:4326'\n",
    "DATA_DIR = '../../data'\n",
    "EXPORTS_DIR = f'{DATA_DIR}/exports'"
   ]
  },
  {
   "cell_type": "code",
   "execution_count": 358,
   "id": "sealed-algebra",
   "metadata": {},
   "outputs": [],
   "source": [
    "def peek(df):\n",
    "    print(len(df))\n",
    "    display(df.iloc[0:3])"
   ]
  },
  {
   "cell_type": "code",
   "execution_count": 359,
   "id": "stupid-newark",
   "metadata": {},
   "outputs": [
    {
     "name": "stdout",
     "output_type": "stream",
     "text": [
      "1780\n"
     ]
    },
    {
     "data": {
      "text/html": [
       "<div>\n",
       "<style scoped>\n",
       "    .dataframe tbody tr th:only-of-type {\n",
       "        vertical-align: middle;\n",
       "    }\n",
       "\n",
       "    .dataframe tbody tr th {\n",
       "        vertical-align: top;\n",
       "    }\n",
       "\n",
       "    .dataframe thead th {\n",
       "        text-align: right;\n",
       "    }\n",
       "</style>\n",
       "<table border=\"1\" class=\"dataframe\">\n",
       "  <thead>\n",
       "    <tr style=\"text-align: right;\">\n",
       "      <th></th>\n",
       "      <th>stop_name</th>\n",
       "      <th>stop_lat</th>\n",
       "      <th>stop_lon</th>\n",
       "      <th>M1</th>\n",
       "      <th>M10</th>\n",
       "      <th>M100</th>\n",
       "      <th>M101</th>\n",
       "      <th>M102</th>\n",
       "      <th>M103</th>\n",
       "      <th>M104</th>\n",
       "      <th>...</th>\n",
       "      <th>M5</th>\n",
       "      <th>M50</th>\n",
       "      <th>M55</th>\n",
       "      <th>M57</th>\n",
       "      <th>M66</th>\n",
       "      <th>M7</th>\n",
       "      <th>M72</th>\n",
       "      <th>M8</th>\n",
       "      <th>M9</th>\n",
       "      <th>M96</th>\n",
       "    </tr>\n",
       "    <tr>\n",
       "      <th>stop_id</th>\n",
       "      <th></th>\n",
       "      <th></th>\n",
       "      <th></th>\n",
       "      <th></th>\n",
       "      <th></th>\n",
       "      <th></th>\n",
       "      <th></th>\n",
       "      <th></th>\n",
       "      <th></th>\n",
       "      <th></th>\n",
       "      <th></th>\n",
       "      <th></th>\n",
       "      <th></th>\n",
       "      <th></th>\n",
       "      <th></th>\n",
       "      <th></th>\n",
       "      <th></th>\n",
       "      <th></th>\n",
       "      <th></th>\n",
       "      <th></th>\n",
       "      <th></th>\n",
       "    </tr>\n",
       "  </thead>\n",
       "  <tbody>\n",
       "    <tr>\n",
       "      <th>400001</th>\n",
       "      <td>4 AV/E 10 ST</td>\n",
       "      <td>40.731342</td>\n",
       "      <td>-73.990292</td>\n",
       "      <td>POINT (-73.99037 40.73135299999986)</td>\n",
       "      <td>NaN</td>\n",
       "      <td>NaN</td>\n",
       "      <td>NaN</td>\n",
       "      <td>NaN</td>\n",
       "      <td>NaN</td>\n",
       "      <td>NaN</td>\n",
       "      <td>...</td>\n",
       "      <td>NaN</td>\n",
       "      <td>NaN</td>\n",
       "      <td>NaN</td>\n",
       "      <td>NaN</td>\n",
       "      <td>NaN</td>\n",
       "      <td>NaN</td>\n",
       "      <td>NaN</td>\n",
       "      <td>NaN</td>\n",
       "      <td>NaN</td>\n",
       "      <td>NaN</td>\n",
       "    </tr>\n",
       "    <tr>\n",
       "      <th>400002</th>\n",
       "      <td>4 AV/E 12 ST</td>\n",
       "      <td>40.732608</td>\n",
       "      <td>-73.989958</td>\n",
       "      <td>POINT (-73.990059 40.73262099999981)</td>\n",
       "      <td>NaN</td>\n",
       "      <td>NaN</td>\n",
       "      <td>NaN</td>\n",
       "      <td>NaN</td>\n",
       "      <td>NaN</td>\n",
       "      <td>NaN</td>\n",
       "      <td>...</td>\n",
       "      <td>NaN</td>\n",
       "      <td>NaN</td>\n",
       "      <td>NaN</td>\n",
       "      <td>NaN</td>\n",
       "      <td>NaN</td>\n",
       "      <td>NaN</td>\n",
       "      <td>NaN</td>\n",
       "      <td>NaN</td>\n",
       "      <td>NaN</td>\n",
       "      <td>NaN</td>\n",
       "    </tr>\n",
       "    <tr>\n",
       "      <th>400003</th>\n",
       "      <td>4 AV/E 13 ST</td>\n",
       "      <td>40.733936</td>\n",
       "      <td>-73.989720</td>\n",
       "      <td>POINT (-73.98985 40.73393799999985)</td>\n",
       "      <td>NaN</td>\n",
       "      <td>NaN</td>\n",
       "      <td>NaN</td>\n",
       "      <td>NaN</td>\n",
       "      <td>NaN</td>\n",
       "      <td>NaN</td>\n",
       "      <td>...</td>\n",
       "      <td>NaN</td>\n",
       "      <td>NaN</td>\n",
       "      <td>NaN</td>\n",
       "      <td>NaN</td>\n",
       "      <td>NaN</td>\n",
       "      <td>NaN</td>\n",
       "      <td>NaN</td>\n",
       "      <td>NaN</td>\n",
       "      <td>NaN</td>\n",
       "      <td>NaN</td>\n",
       "    </tr>\n",
       "  </tbody>\n",
       "</table>\n",
       "<p>3 rows × 35 columns</p>\n",
       "</div>"
      ],
      "text/plain": [
       "            stop_name   stop_lat   stop_lon  \\\n",
       "stop_id                                       \n",
       "400001   4 AV/E 10 ST  40.731342 -73.990292   \n",
       "400002   4 AV/E 12 ST  40.732608 -73.989958   \n",
       "400003   4 AV/E 13 ST  40.733936 -73.989720   \n",
       "\n",
       "                                           M1  M10  M100 M101 M102 M103 M104  \\\n",
       "stop_id                                                                        \n",
       "400001    POINT (-73.99037 40.73135299999986)  NaN   NaN  NaN  NaN  NaN  NaN   \n",
       "400002   POINT (-73.990059 40.73262099999981)  NaN   NaN  NaN  NaN  NaN  NaN   \n",
       "400003    POINT (-73.98985 40.73393799999985)  NaN   NaN  NaN  NaN  NaN  NaN   \n",
       "\n",
       "         ...   M5  M50  M55  M57  M66   M7  M72   M8   M9  M96  \n",
       "stop_id  ...                                                    \n",
       "400001   ...  NaN  NaN  NaN  NaN  NaN  NaN  NaN  NaN  NaN  NaN  \n",
       "400002   ...  NaN  NaN  NaN  NaN  NaN  NaN  NaN  NaN  NaN  NaN  \n",
       "400003   ...  NaN  NaN  NaN  NaN  NaN  NaN  NaN  NaN  NaN  NaN  \n",
       "\n",
       "[3 rows x 35 columns]"
      ]
     },
     "metadata": {},
     "output_type": "display_data"
    }
   ],
   "source": [
    "stops_nodes_df = pd.read_csv(f'{EXPORTS_DIR}/csv/manhattan/stops_nodes.csv')\n",
    "stops_nodes_df = stops_nodes_df.set_index('stop_id')\n",
    "peek(stops_nodes_df)"
   ]
  },
  {
   "cell_type": "code",
   "execution_count": 360,
   "id": "comic-drama",
   "metadata": {},
   "outputs": [],
   "source": [
    "route_ids = list(stops_nodes_df.columns[3:])"
   ]
  },
  {
   "cell_type": "code",
   "execution_count": 361,
   "id": "angry-license",
   "metadata": {},
   "outputs": [],
   "source": [
    "def graph_to_node_gdf(G):\n",
    "    \"\"\"Converts the given graph to a GeoDataFrame of its nodes.\"\"\"\n",
    "    nodes, data = zip(*G.nodes(data=True))\n",
    "    geom = [Point(node[0], node[1]) for node in nodes]\n",
    "    nodes_gdf = gpd.GeoDataFrame(data,\n",
    "                                 index=list(nodes),\n",
    "                                 crs=CRS_LATLON,\n",
    "                                 geometry=geom)\n",
    "    return nodes_gdf"
   ]
  },
  {
   "cell_type": "code",
   "execution_count": 362,
   "id": "signal-orleans",
   "metadata": {},
   "outputs": [],
   "source": [
    "def graph_to_edge_gdf(G):\n",
    "    \"\"\"Converts the given graph to a GeoDataFrame of its edges.\"\"\"\n",
    "    u, v, data = zip(*G.edges(data=True))\n",
    "    edges = list(zip(u, v))\n",
    "    attrs = nx.get_edge_attributes(G, 'speed')\n",
    "    geom = [\n",
    "        LineString((Point(edge[0][0],\n",
    "                          edge[0][1]), Point(edge[1][0], edge[1][1])))\n",
    "        for edge in edges\n",
    "    ]\n",
    "    edge_index = [(edge[0] + edge[1]) for edge in edges]\n",
    "    edges_gdf = gpd.GeoDataFrame(data,\n",
    "                                 index=edge_index,\n",
    "                                 crs=CRS_LATLON,\n",
    "                                 geometry=list(geom))\n",
    "    edges_gdf['length'] = edges_gdf.geometry.length\n",
    "    edges_gdf = edges_gdf.drop(columns={\n",
    "        'route_shor',\n",
    "        'route_long',\n",
    "        'color',\n",
    "        'ShpName',\n",
    "        'Wkb',\n",
    "        'Wkt',\n",
    "        'Json',\n",
    "    })\n",
    "    return edges_gdf"
   ]
  },
  {
   "cell_type": "code",
   "execution_count": 363,
   "id": "conceptual-gather",
   "metadata": {},
   "outputs": [],
   "source": [
    "def get_node(mg, point):\n",
    "    threshold = 0.00001\n",
    "    for node in route_mg.nodes():\n",
    "        if abs(node[0] - point[0]) < threshold and abs(node[1] - point[1]) < threshold:\n",
    "            return node\n",
    "    return None"
   ]
  },
  {
   "cell_type": "code",
   "execution_count": 364,
   "id": "wooden-chemical",
   "metadata": {},
   "outputs": [],
   "source": [
    "route_mgs = []\n",
    "\n",
    "for route_id in route_ids:\n",
    "    route_mg = nx.read_shp(f'{EXPORTS_DIR}/shp/manhattan/routes/{route_id}.shp', simplify=False)\n",
    "    route_mg.graph['crs'] = CRS_LATLON\n",
    "    route_mgs.append(route_mg)"
   ]
  },
  {
   "cell_type": "code",
   "execution_count": 365,
   "id": "extended-experience",
   "metadata": {},
   "outputs": [],
   "source": [
    "all_routes_mg = route_mgs[0]\n",
    "\n",
    "for i, route_mg in enumerate(route_mgs[1:]):\n",
    "    all_routes_mg = nx.compose(all_routes_mg, route_mg)"
   ]
  },
  {
   "cell_type": "code",
   "execution_count": 366,
   "id": "auburn-poker",
   "metadata": {},
   "outputs": [],
   "source": [
    "import pickle\n",
    "f = open(f'{EXPORTS_DIR}/pkl/avg_speed_attr_dict.pkl', 'rb')\n",
    "avg_speed_attr_dict = pickle.load(f)\n",
    "f.close()"
   ]
  },
  {
   "cell_type": "code",
   "execution_count": 367,
   "id": "center-audio",
   "metadata": {},
   "outputs": [],
   "source": [
    "f = open(f'{EXPORTS_DIR}/pkl/all_trip_attr_dict.pkl', 'rb')\n",
    "all_trip_attr_dict = pickle.load(f)\n",
    "f.close()"
   ]
  },
  {
   "cell_type": "code",
   "execution_count": 368,
   "id": "undefined-shield",
   "metadata": {},
   "outputs": [],
   "source": [
    "nx.set_edge_attributes(all_routes_mg, avg_speed_attr_dict)"
   ]
  },
  {
   "cell_type": "code",
   "execution_count": 369,
   "id": "civilian-preliminary",
   "metadata": {},
   "outputs": [],
   "source": [
    "all_nodes_gdf = graph_to_node_gdf(all_routes_mg)\n",
    "all_edges_gdf = graph_to_edge_gdf(all_routes_mg)"
   ]
  },
  {
   "cell_type": "code",
   "execution_count": 374,
   "id": "insured-rough",
   "metadata": {},
   "outputs": [],
   "source": [
    "edges = ((edge[0], edge[1]) for edge in all_routes_mg.edges(data=True) if 'speeds_0' in edge[2])\n",
    "speed_mg = all_routes_mg.edge_subgraph(edges)\n",
    "nx.set_edge_attributes(speed_mg, avg_speed_attr_dict)"
   ]
  },
  {
   "cell_type": "code",
   "execution_count": 375,
   "id": "tropical-twist",
   "metadata": {},
   "outputs": [],
   "source": [
    "speed_edges_gdf = graph_to_edge_gdf(speed_mg)"
   ]
  },
  {
   "cell_type": "code",
   "execution_count": 376,
   "id": "recognized-moderator",
   "metadata": {},
   "outputs": [
    {
     "data": {
      "image/png": "[encoded data removed]",
      "text/plain": [
       "<Figure size 720x720 with 2 Axes>"
      ]
     },
     "metadata": {
      "needs_background": "light"
     },
     "output_type": "display_data"
    }
   ],
   "source": [
    "fig, ax = plt.subplots(figsize=(10, 10))\n",
    "speed_edges_gdf.plot(ax=ax, column='speeds_0', cmap='RdBu', zorder=2, linewidth=3, legend=True)\n",
    "ax.set_facecolor('#777')"
   ]
  },
  {
   "cell_type": "code",
   "execution_count": 377,
   "id": "heavy-small",
   "metadata": {},
   "outputs": [
    {
     "name": "stdout",
     "output_type": "stream",
     "text": [
      "635\n"
     ]
    },
    {
     "data": {
      "text/html": [
       "<div>\n",
       "<style scoped>\n",
       "    .dataframe tbody tr th:only-of-type {\n",
       "        vertical-align: middle;\n",
       "    }\n",
       "\n",
       "    .dataframe tbody tr th {\n",
       "        vertical-align: top;\n",
       "    }\n",
       "\n",
       "    .dataframe thead th {\n",
       "        text-align: right;\n",
       "    }\n",
       "</style>\n",
       "<table border=\"1\" class=\"dataframe\">\n",
       "  <thead>\n",
       "    <tr style=\"text-align: right;\">\n",
       "      <th></th>\n",
       "      <th>edge</th>\n",
       "      <th>speeds_3</th>\n",
       "      <th>OF_C1-Weekday-036000_M1_102</th>\n",
       "      <th>OF_C1-Weekday-038700_M1_103</th>\n",
       "      <th>OF_C1-Weekday-040200_M1_104</th>\n",
       "      <th>OF_C1-Weekday-041700_M1_105</th>\n",
       "      <th>OF_C1-Weekday-043100_M1_106</th>\n",
       "      <th>OF_C1-Weekday-044600_M1_107</th>\n",
       "      <th>OF_C1-Weekday-046100_M1_108</th>\n",
       "      <th>OF_C1-Weekday-047600_M1_109</th>\n",
       "      <th>...</th>\n",
       "      <th>OH_C1-Weekday-SDon-137500_M101_130</th>\n",
       "      <th>OH_C1-Weekday-SDon-139000_M101_134</th>\n",
       "      <th>OH_C1-Weekday-SDon-140000_M101_113</th>\n",
       "      <th>OH_C1-Weekday-SDon-141000_M101_136</th>\n",
       "      <th>OH_C1-Weekday-SDon-142000_M101_116</th>\n",
       "      <th>OH_C1-Weekday-SDon-143000_M101_138</th>\n",
       "      <th>OH_C1-Weekday-SDon-145000_M101_140</th>\n",
       "      <th>OH_C1-Weekday-SDon-146500_M101_137</th>\n",
       "      <th>OH_C1-Weekday-SDon-148000_M101_139</th>\n",
       "      <th>OH_C1-Weekday-SDon-149500_M101_133</th>\n",
       "    </tr>\n",
       "  </thead>\n",
       "  <tbody>\n",
       "    <tr>\n",
       "      <th>0</th>\n",
       "      <td>(-73.984339, 40.74585199999984, -73.9838990000...</td>\n",
       "      <td>2.679389</td>\n",
       "      <td>278.0</td>\n",
       "      <td>278.0</td>\n",
       "      <td>278.0</td>\n",
       "      <td>278.0</td>\n",
       "      <td>278.0</td>\n",
       "      <td>278.0</td>\n",
       "      <td>278.0</td>\n",
       "      <td>278.0</td>\n",
       "      <td>...</td>\n",
       "      <td>NaN</td>\n",
       "      <td>NaN</td>\n",
       "      <td>NaN</td>\n",
       "      <td>NaN</td>\n",
       "      <td>NaN</td>\n",
       "      <td>NaN</td>\n",
       "      <td>NaN</td>\n",
       "      <td>NaN</td>\n",
       "      <td>NaN</td>\n",
       "      <td>NaN</td>\n",
       "    </tr>\n",
       "    <tr>\n",
       "      <th>1</th>\n",
       "      <td>(-73.963729, 40.77698199999983, -73.9637890000...</td>\n",
       "      <td>4.287473</td>\n",
       "      <td>NaN</td>\n",
       "      <td>NaN</td>\n",
       "      <td>NaN</td>\n",
       "      <td>NaN</td>\n",
       "      <td>NaN</td>\n",
       "      <td>NaN</td>\n",
       "      <td>NaN</td>\n",
       "      <td>NaN</td>\n",
       "      <td>...</td>\n",
       "      <td>NaN</td>\n",
       "      <td>NaN</td>\n",
       "      <td>NaN</td>\n",
       "      <td>NaN</td>\n",
       "      <td>NaN</td>\n",
       "      <td>NaN</td>\n",
       "      <td>NaN</td>\n",
       "      <td>NaN</td>\n",
       "      <td>NaN</td>\n",
       "      <td>NaN</td>\n",
       "    </tr>\n",
       "    <tr>\n",
       "      <th>2</th>\n",
       "      <td>(-73.93826899999999, 40.817521999999855, -73.9...</td>\n",
       "      <td>3.968764</td>\n",
       "      <td>50.0</td>\n",
       "      <td>50.0</td>\n",
       "      <td>50.0</td>\n",
       "      <td>50.0</td>\n",
       "      <td>50.0</td>\n",
       "      <td>50.0</td>\n",
       "      <td>50.0</td>\n",
       "      <td>50.0</td>\n",
       "      <td>...</td>\n",
       "      <td>NaN</td>\n",
       "      <td>NaN</td>\n",
       "      <td>NaN</td>\n",
       "      <td>NaN</td>\n",
       "      <td>NaN</td>\n",
       "      <td>NaN</td>\n",
       "      <td>NaN</td>\n",
       "      <td>NaN</td>\n",
       "      <td>NaN</td>\n",
       "      <td>NaN</td>\n",
       "    </tr>\n",
       "  </tbody>\n",
       "</table>\n",
       "<p>3 rows × 576 columns</p>\n",
       "</div>"
      ],
      "text/plain": [
       "                                                edge  speeds_3  \\\n",
       "0  (-73.984339, 40.74585199999984, -73.9838990000...  2.679389   \n",
       "1  (-73.963729, 40.77698199999983, -73.9637890000...  4.287473   \n",
       "2  (-73.93826899999999, 40.817521999999855, -73.9...  3.968764   \n",
       "\n",
       "   OF_C1-Weekday-036000_M1_102  OF_C1-Weekday-038700_M1_103  \\\n",
       "0                        278.0                        278.0   \n",
       "1                          NaN                          NaN   \n",
       "2                         50.0                         50.0   \n",
       "\n",
       "   OF_C1-Weekday-040200_M1_104  OF_C1-Weekday-041700_M1_105  \\\n",
       "0                        278.0                        278.0   \n",
       "1                          NaN                          NaN   \n",
       "2                         50.0                         50.0   \n",
       "\n",
       "   OF_C1-Weekday-043100_M1_106  OF_C1-Weekday-044600_M1_107  \\\n",
       "0                        278.0                        278.0   \n",
       "1                          NaN                          NaN   \n",
       "2                         50.0                         50.0   \n",
       "\n",
       "   OF_C1-Weekday-046100_M1_108  OF_C1-Weekday-047600_M1_109  ...  \\\n",
       "0                        278.0                        278.0  ...   \n",
       "1                          NaN                          NaN  ...   \n",
       "2                         50.0                         50.0  ...   \n",
       "\n",
       "   OH_C1-Weekday-SDon-137500_M101_130  OH_C1-Weekday-SDon-139000_M101_134  \\\n",
       "0                                 NaN                                 NaN   \n",
       "1                                 NaN                                 NaN   \n",
       "2                                 NaN                                 NaN   \n",
       "\n",
       "   OH_C1-Weekday-SDon-140000_M101_113  OH_C1-Weekday-SDon-141000_M101_136  \\\n",
       "0                                 NaN                                 NaN   \n",
       "1                                 NaN                                 NaN   \n",
       "2                                 NaN                                 NaN   \n",
       "\n",
       "   OH_C1-Weekday-SDon-142000_M101_116  OH_C1-Weekday-SDon-143000_M101_138  \\\n",
       "0                                 NaN                                 NaN   \n",
       "1                                 NaN                                 NaN   \n",
       "2                                 NaN                                 NaN   \n",
       "\n",
       "   OH_C1-Weekday-SDon-145000_M101_140  OH_C1-Weekday-SDon-146500_M101_137  \\\n",
       "0                                 NaN                                 NaN   \n",
       "1                                 NaN                                 NaN   \n",
       "2                                 NaN                                 NaN   \n",
       "\n",
       "   OH_C1-Weekday-SDon-148000_M101_139  OH_C1-Weekday-SDon-149500_M101_133  \n",
       "0                                 NaN                                 NaN  \n",
       "1                                 NaN                                 NaN  \n",
       "2                                 NaN                                 NaN  \n",
       "\n",
       "[3 rows x 576 columns]"
      ]
     },
     "metadata": {},
     "output_type": "display_data"
    }
   ],
   "source": [
    "trip_mg = speed_mg\n",
    "nx.set_edge_attributes(trip_mg, all_trip_attr_dict)\n",
    "trip_edges_gdf = graph_to_edge_gdf(trip_mg)\n",
    "trip_edges_gdf = trip_edges_gdf.reset_index()\n",
    "trip_edges_gdf = trip_edges_gdf.rename(columns={'index': 'edge'})\n",
    "trip_edges_gdf = trip_edges_gdf.drop(columns=['route_id', 'route_dir', 'speeds_0', 'speeds_1', 'speeds_2', 'geometry', 'length'])\n",
    "peek(trip_edges_gdf)"
   ]
  },
  {
   "cell_type": "code",
   "execution_count": 378,
   "id": "published-arnold",
   "metadata": {},
   "outputs": [
    {
     "name": "stdout",
     "output_type": "stream",
     "text": [
      "635\n"
     ]
    },
    {
     "data": {
      "text/html": [
       "<div>\n",
       "<style scoped>\n",
       "    .dataframe tbody tr th:only-of-type {\n",
       "        vertical-align: middle;\n",
       "    }\n",
       "\n",
       "    .dataframe tbody tr th {\n",
       "        vertical-align: top;\n",
       "    }\n",
       "\n",
       "    .dataframe thead th {\n",
       "        text-align: right;\n",
       "    }\n",
       "</style>\n",
       "<table border=\"1\" class=\"dataframe\">\n",
       "  <thead>\n",
       "    <tr style=\"text-align: right;\">\n",
       "      <th></th>\n",
       "      <th>index</th>\n",
       "      <th>route_id</th>\n",
       "      <th>route_dir</th>\n",
       "      <th>speeds_0</th>\n",
       "      <th>speeds_1</th>\n",
       "      <th>speeds_2</th>\n",
       "      <th>speeds_3</th>\n",
       "      <th>geometry</th>\n",
       "      <th>length</th>\n",
       "      <th>duration_0</th>\n",
       "      <th>duration_1</th>\n",
       "      <th>duration_2</th>\n",
       "    </tr>\n",
       "  </thead>\n",
       "  <tbody>\n",
       "    <tr>\n",
       "      <th>0</th>\n",
       "      <td>(-73.984339, 40.74585199999984, -73.9838990000...</td>\n",
       "      <td>M3</td>\n",
       "      <td>M3_0</td>\n",
       "      <td>3.836079</td>\n",
       "      <td>2.213677</td>\n",
       "      <td>2.102995</td>\n",
       "      <td>2.679389</td>\n",
       "      <td>LINESTRING (-73.98434 40.74585, -73.98390 40.7...</td>\n",
       "      <td>83.628942</td>\n",
       "      <td>21.800633</td>\n",
       "      <td>37.778295</td>\n",
       "      <td>39.766585</td>\n",
       "    </tr>\n",
       "    <tr>\n",
       "      <th>1</th>\n",
       "      <td>(-73.963729, 40.77698199999983, -73.9637890000...</td>\n",
       "      <td>M4</td>\n",
       "      <td>M4_1</td>\n",
       "      <td>6.052902</td>\n",
       "      <td>2.995238</td>\n",
       "      <td>1.924152</td>\n",
       "      <td>4.287473</td>\n",
       "      <td>LINESTRING (-73.96373 40.77698, -73.96379 40.7...</td>\n",
       "      <td>11.000000</td>\n",
       "      <td>1.817310</td>\n",
       "      <td>3.672496</td>\n",
       "      <td>5.716806</td>\n",
       "    </tr>\n",
       "    <tr>\n",
       "      <th>2</th>\n",
       "      <td>(-73.93826899999999, 40.817521999999855, -73.9...</td>\n",
       "      <td>M7</td>\n",
       "      <td>M7_0</td>\n",
       "      <td>5.261176</td>\n",
       "      <td>3.913188</td>\n",
       "      <td>2.970189</td>\n",
       "      <td>3.968764</td>\n",
       "      <td>LINESTRING (-73.93827 40.81752, -73.93803 40.8...</td>\n",
       "      <td>45.779035</td>\n",
       "      <td>8.701294</td>\n",
       "      <td>11.698653</td>\n",
       "      <td>15.412837</td>\n",
       "    </tr>\n",
       "  </tbody>\n",
       "</table>\n",
       "</div>"
      ],
      "text/plain": [
       "                                               index route_id route_dir  \\\n",
       "0  (-73.984339, 40.74585199999984, -73.9838990000...       M3      M3_0   \n",
       "1  (-73.963729, 40.77698199999983, -73.9637890000...       M4      M4_1   \n",
       "2  (-73.93826899999999, 40.817521999999855, -73.9...       M7      M7_0   \n",
       "\n",
       "   speeds_0  speeds_1  speeds_2  speeds_3  \\\n",
       "0  3.836079  2.213677  2.102995  2.679389   \n",
       "1  6.052902  2.995238  1.924152  4.287473   \n",
       "2  5.261176  3.913188  2.970189  3.968764   \n",
       "\n",
       "                                            geometry     length  duration_0  \\\n",
       "0  LINESTRING (-73.98434 40.74585, -73.98390 40.7...  83.628942   21.800633   \n",
       "1  LINESTRING (-73.96373 40.77698, -73.96379 40.7...  11.000000    1.817310   \n",
       "2  LINESTRING (-73.93827 40.81752, -73.93803 40.8...  45.779035    8.701294   \n",
       "\n",
       "   duration_1  duration_2  \n",
       "0   37.778295   39.766585  \n",
       "1    3.672496    5.716806  \n",
       "2   11.698653   15.412837  "
      ]
     },
     "metadata": {},
     "output_type": "display_data"
    }
   ],
   "source": [
    "ip_edges_gdf = speed_edges_gdf.reset_index()\n",
    "ip_edges_gdf['length'] = ip_edges_gdf['length'] * (0.11 / 0.000001)\n",
    "ip_edges_gdf['duration_0'] = ip_edges_gdf['length'] / ip_edges_gdf['speeds_0']\n",
    "ip_edges_gdf['duration_1'] = ip_edges_gdf['length'] / ip_edges_gdf['speeds_1']\n",
    "ip_edges_gdf['duration_2'] = ip_edges_gdf['length'] / ip_edges_gdf['speeds_2']\n",
    "ip_edges_gdf[['duration_0', 'duration_1', 'duration_2']] = ip_edges_gdf[['duration_0', 'duration_1', 'duration_2']].fillna(0)\n",
    "peek(ip_edges_gdf)"
   ]
  },
  {
   "cell_type": "code",
   "execution_count": 379,
   "id": "sixth-think",
   "metadata": {},
   "outputs": [
    {
     "name": "stdout",
     "output_type": "stream",
     "text": [
      "635\n"
     ]
    },
    {
     "data": {
      "text/html": [
       "<div>\n",
       "<style scoped>\n",
       "    .dataframe tbody tr th:only-of-type {\n",
       "        vertical-align: middle;\n",
       "    }\n",
       "\n",
       "    .dataframe tbody tr th {\n",
       "        vertical-align: top;\n",
       "    }\n",
       "\n",
       "    .dataframe thead th {\n",
       "        text-align: right;\n",
       "    }\n",
       "</style>\n",
       "<table border=\"1\" class=\"dataframe\">\n",
       "  <thead>\n",
       "    <tr style=\"text-align: right;\">\n",
       "      <th></th>\n",
       "      <th>OF_C1-Weekday-038700_M1_103</th>\n",
       "      <th>OF_C1-Weekday-040200_M1_104</th>\n",
       "      <th>OF_C1-Weekday-041700_M1_105</th>\n",
       "      <th>OF_C1-Weekday-043100_M1_106</th>\n",
       "      <th>OF_C1-Weekday-044600_M1_107</th>\n",
       "      <th>OF_C1-Weekday-046100_M1_108</th>\n",
       "      <th>OF_C1-Weekday-047600_M1_109</th>\n",
       "      <th>OF_C1-Weekday-049000_M1_101</th>\n",
       "      <th>OF_C1-Weekday-050600_M1_110</th>\n",
       "      <th>OF_C1-Weekday-051000_M1_111</th>\n",
       "      <th>...</th>\n",
       "      <th>OH_C1-Weekday-SDon-137500_M101_130</th>\n",
       "      <th>OH_C1-Weekday-SDon-139000_M101_134</th>\n",
       "      <th>OH_C1-Weekday-SDon-140000_M101_113</th>\n",
       "      <th>OH_C1-Weekday-SDon-141000_M101_136</th>\n",
       "      <th>OH_C1-Weekday-SDon-142000_M101_116</th>\n",
       "      <th>OH_C1-Weekday-SDon-143000_M101_138</th>\n",
       "      <th>OH_C1-Weekday-SDon-145000_M101_140</th>\n",
       "      <th>OH_C1-Weekday-SDon-146500_M101_137</th>\n",
       "      <th>OH_C1-Weekday-SDon-148000_M101_139</th>\n",
       "      <th>OH_C1-Weekday-SDon-149500_M101_133</th>\n",
       "    </tr>\n",
       "  </thead>\n",
       "  <tbody>\n",
       "    <tr>\n",
       "      <th>0</th>\n",
       "      <td>278.0</td>\n",
       "      <td>278.0</td>\n",
       "      <td>278.0</td>\n",
       "      <td>278.0</td>\n",
       "      <td>278.0</td>\n",
       "      <td>278.0</td>\n",
       "      <td>278.0</td>\n",
       "      <td>278.0</td>\n",
       "      <td>278.0</td>\n",
       "      <td>278.0</td>\n",
       "      <td>...</td>\n",
       "      <td>NaN</td>\n",
       "      <td>NaN</td>\n",
       "      <td>NaN</td>\n",
       "      <td>NaN</td>\n",
       "      <td>NaN</td>\n",
       "      <td>NaN</td>\n",
       "      <td>NaN</td>\n",
       "      <td>NaN</td>\n",
       "      <td>NaN</td>\n",
       "      <td>NaN</td>\n",
       "    </tr>\n",
       "    <tr>\n",
       "      <th>1</th>\n",
       "      <td>NaN</td>\n",
       "      <td>NaN</td>\n",
       "      <td>NaN</td>\n",
       "      <td>NaN</td>\n",
       "      <td>NaN</td>\n",
       "      <td>NaN</td>\n",
       "      <td>NaN</td>\n",
       "      <td>NaN</td>\n",
       "      <td>NaN</td>\n",
       "      <td>NaN</td>\n",
       "      <td>...</td>\n",
       "      <td>NaN</td>\n",
       "      <td>NaN</td>\n",
       "      <td>NaN</td>\n",
       "      <td>NaN</td>\n",
       "      <td>NaN</td>\n",
       "      <td>NaN</td>\n",
       "      <td>NaN</td>\n",
       "      <td>NaN</td>\n",
       "      <td>NaN</td>\n",
       "      <td>NaN</td>\n",
       "    </tr>\n",
       "    <tr>\n",
       "      <th>2</th>\n",
       "      <td>50.0</td>\n",
       "      <td>50.0</td>\n",
       "      <td>50.0</td>\n",
       "      <td>50.0</td>\n",
       "      <td>50.0</td>\n",
       "      <td>50.0</td>\n",
       "      <td>50.0</td>\n",
       "      <td>50.0</td>\n",
       "      <td>50.0</td>\n",
       "      <td>50.0</td>\n",
       "      <td>...</td>\n",
       "      <td>NaN</td>\n",
       "      <td>NaN</td>\n",
       "      <td>NaN</td>\n",
       "      <td>NaN</td>\n",
       "      <td>NaN</td>\n",
       "      <td>NaN</td>\n",
       "      <td>NaN</td>\n",
       "      <td>NaN</td>\n",
       "      <td>NaN</td>\n",
       "      <td>NaN</td>\n",
       "    </tr>\n",
       "  </tbody>\n",
       "</table>\n",
       "<p>3 rows × 573 columns</p>\n",
       "</div>"
      ],
      "text/plain": [
       "   OF_C1-Weekday-038700_M1_103  OF_C1-Weekday-040200_M1_104  \\\n",
       "0                        278.0                        278.0   \n",
       "1                          NaN                          NaN   \n",
       "2                         50.0                         50.0   \n",
       "\n",
       "   OF_C1-Weekday-041700_M1_105  OF_C1-Weekday-043100_M1_106  \\\n",
       "0                        278.0                        278.0   \n",
       "1                          NaN                          NaN   \n",
       "2                         50.0                         50.0   \n",
       "\n",
       "   OF_C1-Weekday-044600_M1_107  OF_C1-Weekday-046100_M1_108  \\\n",
       "0                        278.0                        278.0   \n",
       "1                          NaN                          NaN   \n",
       "2                         50.0                         50.0   \n",
       "\n",
       "   OF_C1-Weekday-047600_M1_109  OF_C1-Weekday-049000_M1_101  \\\n",
       "0                        278.0                        278.0   \n",
       "1                          NaN                          NaN   \n",
       "2                         50.0                         50.0   \n",
       "\n",
       "   OF_C1-Weekday-050600_M1_110  OF_C1-Weekday-051000_M1_111  ...  \\\n",
       "0                        278.0                        278.0  ...   \n",
       "1                          NaN                          NaN  ...   \n",
       "2                         50.0                         50.0  ...   \n",
       "\n",
       "   OH_C1-Weekday-SDon-137500_M101_130  OH_C1-Weekday-SDon-139000_M101_134  \\\n",
       "0                                 NaN                                 NaN   \n",
       "1                                 NaN                                 NaN   \n",
       "2                                 NaN                                 NaN   \n",
       "\n",
       "   OH_C1-Weekday-SDon-140000_M101_113  OH_C1-Weekday-SDon-141000_M101_136  \\\n",
       "0                                 NaN                                 NaN   \n",
       "1                                 NaN                                 NaN   \n",
       "2                                 NaN                                 NaN   \n",
       "\n",
       "   OH_C1-Weekday-SDon-142000_M101_116  OH_C1-Weekday-SDon-143000_M101_138  \\\n",
       "0                                 NaN                                 NaN   \n",
       "1                                 NaN                                 NaN   \n",
       "2                                 NaN                                 NaN   \n",
       "\n",
       "   OH_C1-Weekday-SDon-145000_M101_140  OH_C1-Weekday-SDon-146500_M101_137  \\\n",
       "0                                 NaN                                 NaN   \n",
       "1                                 NaN                                 NaN   \n",
       "2                                 NaN                                 NaN   \n",
       "\n",
       "   OH_C1-Weekday-SDon-148000_M101_139  OH_C1-Weekday-SDon-149500_M101_133  \n",
       "0                                 NaN                                 NaN  \n",
       "1                                 NaN                                 NaN  \n",
       "2                                 NaN                                 NaN  \n",
       "\n",
       "[3 rows x 573 columns]"
      ]
     },
     "metadata": {},
     "output_type": "display_data"
    }
   ],
   "source": [
    "edge_manifest = ip_edges_gdf[['index', 'speeds_0', 'speeds_1', 'speeds_2', 'length', 'duration_0', 'duration_1', 'duration_2']]\n",
    "edge_manifest = edge_manifest.rename(columns={'index': 'edge'})\n",
    "edge_manifest = edge_manifest.merge(trip_edges_gdf, left_on='edge', right_on='edge', how='left')\n",
    "peek(edge_manifest.iloc[:, 10:])"
   ]
  },
  {
   "cell_type": "code",
   "execution_count": 380,
   "id": "obvious-destruction",
   "metadata": {},
   "outputs": [],
   "source": [
    "def get_start_node(edge):\n",
    "    return edge[0:2]\n",
    "def get_end_node(edge):\n",
    "    return edge[2:]"
   ]
  },
  {
   "cell_type": "code",
   "execution_count": 381,
   "id": "fresh-litigation",
   "metadata": {},
   "outputs": [],
   "source": [
    "node_edge_manifest = edge_manifest[['edge']]\n",
    "node_edge_manifest['start'] = node_edge_manifest['edge'].apply(lambda x: get_start_node(x))\n",
    "node_edge_manifest['end'] = node_edge_manifest['edge'].apply(lambda x: get_end_node(x))\n",
    "\n",
    "start_nodes = list(set(node_edge_manifest['start']))\n",
    "end_nodes = list(set(node_edge_manifest['end']))\n",
    "nodes = list(set(start_nodes + end_nodes))\n",
    "node_manifest = pd.DataFrame(nodes)\n",
    "node_manifest['node'] = node_manifest.apply(lambda x: (x[0], x[1]), axis=1)\n",
    "node_manifest = node_manifest[['node']]\n",
    "\n",
    "node_edge_manifest['start'] = node_edge_manifest['start'].apply(lambda x: nodes.index(x))\n",
    "node_edge_manifest['end'] = node_edge_manifest['end'].apply(lambda x: nodes.index(x))\n",
    "node_edge_manifest = node_edge_manifest[['start', 'end']]"
   ]
  },
  {
   "cell_type": "code",
   "execution_count": 382,
   "id": "sustainable-projector",
   "metadata": {},
   "outputs": [],
   "source": [
    "node_latlon_df = pd.DataFrame(nodes, columns=['lon', 'lat'])\n",
    "ip_nodes_gdf = gpd.GeoDataFrame({}, geometry=gpd.points_from_xy(node_latlon_df['lon'], node_latlon_df['lat']), crs=CRS_LATLON)"
   ]
  },
  {
   "cell_type": "code",
   "execution_count": 383,
   "id": "professional-sierra",
   "metadata": {},
   "outputs": [],
   "source": [
    "def get_prev_edges(row, manifest):\n",
    "    start = row['start']\n",
    "    prev_edges = list(manifest[manifest['end'] == start].index)\n",
    "    return prev_edges"
   ]
  },
  {
   "cell_type": "code",
   "execution_count": 384,
   "id": "horizontal-philadelphia",
   "metadata": {},
   "outputs": [],
   "source": [
    "def get_next_edges(row, manifest):\n",
    "    end = row['end']\n",
    "    next_edges = list(manifest[manifest['start'] == end].index)\n",
    "    return next_edges"
   ]
  },
  {
   "cell_type": "code",
   "execution_count": 385,
   "id": "royal-joseph",
   "metadata": {},
   "outputs": [
    {
     "name": "stdout",
     "output_type": "stream",
     "text": [
      "635\n"
     ]
    },
    {
     "data": {
      "text/html": [
       "<div>\n",
       "<style scoped>\n",
       "    .dataframe tbody tr th:only-of-type {\n",
       "        vertical-align: middle;\n",
       "    }\n",
       "\n",
       "    .dataframe tbody tr th {\n",
       "        vertical-align: top;\n",
       "    }\n",
       "\n",
       "    .dataframe thead th {\n",
       "        text-align: right;\n",
       "    }\n",
       "</style>\n",
       "<table border=\"1\" class=\"dataframe\">\n",
       "  <thead>\n",
       "    <tr style=\"text-align: right;\">\n",
       "      <th></th>\n",
       "      <th>edge</th>\n",
       "      <th>start</th>\n",
       "      <th>end</th>\n",
       "      <th>prev</th>\n",
       "      <th>next</th>\n",
       "    </tr>\n",
       "  </thead>\n",
       "  <tbody>\n",
       "    <tr>\n",
       "      <th>0</th>\n",
       "      <td>0</td>\n",
       "      <td>3</td>\n",
       "      <td>118</td>\n",
       "      <td>[482]</td>\n",
       "      <td>[122]</td>\n",
       "    </tr>\n",
       "    <tr>\n",
       "      <th>1</th>\n",
       "      <td>1</td>\n",
       "      <td>1</td>\n",
       "      <td>166</td>\n",
       "      <td>[369]</td>\n",
       "      <td>[171]</td>\n",
       "    </tr>\n",
       "    <tr>\n",
       "      <th>2</th>\n",
       "      <td>2</td>\n",
       "      <td>2</td>\n",
       "      <td>404</td>\n",
       "      <td>[54]</td>\n",
       "      <td>[327]</td>\n",
       "    </tr>\n",
       "  </tbody>\n",
       "</table>\n",
       "</div>"
      ],
      "text/plain": [
       "   edge  start  end   prev   next\n",
       "0     0      3  118  [482]  [122]\n",
       "1     1      1  166  [369]  [171]\n",
       "2     2      2  404   [54]  [327]"
      ]
     },
     "metadata": {},
     "output_type": "display_data"
    }
   ],
   "source": [
    "edge_node_manifest = node_edge_manifest.reset_index().rename(columns={'index': 'edge'})\n",
    "edge_node_manifest['prev'] = [[] for i in range(len(edge_node_manifest))]\n",
    "edge_node_manifest['next'] = [[] for i in range(len(edge_node_manifest))]\n",
    "edge_node_manifest['prev'] = edge_node_manifest.apply(lambda x: get_prev_edges(x, edge_node_manifest), axis=1)\n",
    "edge_node_manifest['next'] = edge_node_manifest.apply(lambda x: get_next_edges(x, edge_node_manifest), axis=1)\n",
    "peek(edge_node_manifest)"
   ]
  },
  {
   "cell_type": "code",
   "execution_count": 386,
   "id": "fourth-membership",
   "metadata": {},
   "outputs": [],
   "source": [
    "prev_edges = list(edge_node_manifest['prev'])\n",
    "next_edges = list(edge_node_manifest['next'])\n",
    "start_nodes = list(edge_node_manifest['start'])"
   ]
  },
  {
   "cell_type": "code",
   "execution_count": 387,
   "id": "anonymous-serum",
   "metadata": {},
   "outputs": [],
   "source": [
    "def get_trip_df(trip_id):\n",
    "    trip_df = edge_manifest[[trip_id]]\n",
    "    trip_df = trip_df.dropna()\n",
    "    trip_df = trip_df.sort_values(by=[trip_id])\n",
    "    return trip_df"
   ]
  },
  {
   "cell_type": "code",
   "execution_count": 388,
   "id": "unsigned-arena",
   "metadata": {},
   "outputs": [],
   "source": [
    "#trip_df = get_trip_df('OF_C1-Weekday-036000_M1_102')\n",
    "#trip_edges = list(trip_df.index)\n",
    "#battery = 100\n",
    "#peek(trip_df)"
   ]
  },
  {
   "cell_type": "code",
   "execution_count": 389,
   "id": "third-plasma",
   "metadata": {},
   "outputs": [],
   "source": [
    "import gurobipy as gp\n",
    "from gurobipy import GRB"
   ]
  },
  {
   "cell_type": "code",
   "execution_count": 390,
   "id": "steady-dominican",
   "metadata": {},
   "outputs": [],
   "source": [
    "N_EDGES = len(edge_manifest)\n",
    "N_NODES = len(node_manifest)\n",
    "EDGE_COST_CABLE = 1 \n",
    "EDGE_POWER_SUPPLY = 1\n",
    "EDGE_POWER_DEMAND = 1.25\n",
    "NODE_TRANSMITTER_COST = 100"
   ]
  },
  {
   "cell_type": "code",
   "execution_count": 392,
   "id": "centered-lucas",
   "metadata": {},
   "outputs": [],
   "source": [
    "cable_costs = list(ip_edges_gdf['length'] * EDGE_COST_CABLE)\n",
    "edge_power_supplies = [list(ip_edges_gdf[f'duration_{h}'] * EDGE_POWER_SUPPLY) for h in range(3)]\n",
    "edge_power_demands = [list(ip_edges_gdf[f'duration_{h}'] * EDGE_POWER_DEMAND) for h in range(3)]\n",
    "power_costs = [1.68, 23.84, 23.84]"
   ]
  },
  {
   "cell_type": "code",
   "execution_count": 393,
   "id": "beautiful-raise",
   "metadata": {},
   "outputs": [],
   "source": [
    "def hash_trip(trip):\n",
    "    return ','.join([str(x) for x in trip])"
   ]
  },
  {
   "cell_type": "code",
   "execution_count": 394,
   "id": "composed-twelve",
   "metadata": {},
   "outputs": [
    {
     "data": {
      "text/plain": [
       "3"
      ]
     },
     "execution_count": 394,
     "metadata": {},
     "output_type": "execute_result"
    }
   ],
   "source": [
    "trip_ids = list(edge_manifest.columns[10:])\n",
    "trip_ids\n",
    "trips = []\n",
    "trip_hashes = set([])\n",
    "\n",
    "for trip_id in trip_ids:\n",
    "    trip_df = get_trip_df(trip_id)\n",
    "    trip = list(trip_df.index)\n",
    "    trip_hash = hash_trip(trip)\n",
    "    if trip_hash not in trip_hashes:\n",
    "        trips.append(trip)\n",
    "        trip_hashes.add(trip_hash)\n",
    "len(trips)"
   ]
  },
  {
   "cell_type": "code",
   "execution_count": 395,
   "id": "cooked-sarah",
   "metadata": {},
   "outputs": [],
   "source": [
    "model = gp.Model('example')\n",
    "\n",
    "x = model.addVars(N_EDGES, vtype=GRB.BINARY)\n",
    "y = model.addVars(N_NODES, vtype=GRB.BINARY)\n",
    "z = model.addVars(len(trips), vtype=GRB.BINARY)\n",
    "\n",
    "for k, trip in enumerate(trips):\n",
    "    for h in range(3):\n",
    "        power = np.sum([edge_power_supplies[h][i] for i in trip])\n",
    "        battery = power * 0.8\n",
    "        BATTERY_MAX = battery\n",
    "        BATTERY_MIN = power * 0.05\n",
    "\n",
    "        for j in range(1, len(trip)):\n",
    "            net_power = gp.quicksum(-edge_power_demands[h][i] + x[i] * edge_power_supplies[h][i] for i in trip[0:j])\n",
    "            model.addConstr(battery + net_power * z[k] >= BATTERY_MIN)\n",
    "            model.addConstr(battery + net_power * z[k] <= BATTERY_MAX)\n",
    "\n",
    "        for j in trip:\n",
    "            transmitter = y[start_nodes[j]]\n",
    "            prev_cable = gp.quicksum(x[i] for i in prev_edges[j])\n",
    "            model.addConstr(x[j] <= transmitter + prev_cable)\n",
    "\n",
    "model.addConstr(gp.quicksum(y[start_nodes[i]] * x[i] for i in range(N_EDGES)) == y.sum())\n",
    "model.addConstr(z.sum() >= len(trips))\n",
    "\n",
    "cable_cost = gp.quicksum((x[i] * cable_costs[i]) for i in range(N_EDGES))\n",
    "transmitter_cost = gp.quicksum((y[i] * NODE_TRANSMITTER_COST) for i in range(N_NODES))\n",
    "power_cost = gp.quicksum(edge_power_supplies[h][i] * x[i] * power_costs[h] for h in range(3) for i in range(N_EDGES))\n",
    "\n",
    "objective = cable_cost + transmitter_cost + power_cost\n",
    "model.setObjective(objective, GRB.MINIMIZE)"
   ]
  },
  {
   "cell_type": "code",
   "execution_count": 397,
   "id": "measured-battlefield",
   "metadata": {},
   "outputs": [
    {
     "name": "stdout",
     "output_type": "stream",
     "text": [
      "Set parameter MIPGap to value 0.05\n",
      "Gurobi Optimizer version 9.5.0 build v9.5.0rc5 (linux64)\n",
      "Thread count: 4 physical cores, 8 logical processors, using up to 8 threads\n",
      "Optimize a model with 1906 rows, 1263 columns and 5784 nonzeros\n",
      "Model fingerprint: 0x465b765a\n",
      "Model has 3793 quadratic constraints\n",
      "Variable types: 0 continuous, 1263 integer (1263 binary)\n",
      "Coefficient statistics:\n",
      "  Matrix range     [1e+00, 1e+00]\n",
      "  QMatrix range    [2e-01, 2e+02]\n",
      "  QLMatrix range   [1e+00, 8e+03]\n",
      "  Objective range  [2e+01, 8e+03]\n",
      "  Bounds range     [1e+00, 1e+00]\n",
      "  RHS range        [3e+00, 3e+00]\n",
      "  QRHS range       [2e+03, 5e+03]\n",
      "Presolved: 3291 rows, 1978 columns, 15180 nonzeros\n",
      "\n",
      "Continuing optimization...\n",
      "\n",
      "\n",
      "Cutting planes:\n",
      "  Gomory: 30\n",
      "  Lift-and-project: 19\n",
      "  Cover: 63\n",
      "  MIR: 10\n",
      "  StrongCG: 2\n",
      "  Flow cover: 1\n",
      "  Inf proof: 9\n",
      "  Zero half: 4\n",
      "  RLT: 3\n",
      "\n",
      "Explored 222593 nodes (5734521 simplex iterations) in 0.03 seconds (0.01 work units)\n",
      "Thread count was 8 (of 8 available processors)\n",
      "\n",
      "Solution count 10: 370126 370132 370137 ... 370255\n",
      "\n",
      "Optimal solution found (tolerance 5.00e-02)\n",
      "Best objective 3.701264026600e+05, best bound 3.699440009437e+05, gap 0.0493%\n",
      "370126.40266002074\n"
     ]
    }
   ],
   "source": [
    "model.update()\n",
    "model.Params.MIPGap = 0.05\n",
    "model.optimize()\n",
    "print(model.ObjVal)"
   ]
  },
  {
   "cell_type": "code",
   "execution_count": 398,
   "id": "outdoor-immigration",
   "metadata": {},
   "outputs": [
    {
     "data": {
      "text/plain": [
       "283"
      ]
     },
     "execution_count": 398,
     "metadata": {},
     "output_type": "execute_result"
    }
   ],
   "source": [
    "opt_x = model.getAttr('X', model.getVars()[:N_EDGES])\n",
    "xdf = pd.DataFrame(opt_x, columns=['x'])\n",
    "len(xdf[xdf['x'] > 0])"
   ]
  },
  {
   "cell_type": "code",
   "execution_count": 399,
   "id": "molecular-vinyl",
   "metadata": {},
   "outputs": [
    {
     "data": {
      "text/plain": [
       "9"
      ]
     },
     "execution_count": 399,
     "metadata": {},
     "output_type": "execute_result"
    }
   ],
   "source": [
    "opt_y = model.getAttr('X', model.getVars()[N_EDGES:N_EDGES+N_NODES])\n",
    "ydf = pd.DataFrame(opt_y, columns=['y'])\n",
    "len(ydf[ydf['y'] > 0])"
   ]
  },
  {
   "cell_type": "code",
   "execution_count": 400,
   "id": "prospective-technology",
   "metadata": {},
   "outputs": [],
   "source": [
    "def plot_results(xdf, ydf):\n",
    "    fig, ax = plt.subplots(figsize=(15, 15))\n",
    "    \n",
    "    mxdf = ip_edges_gdf.merge(xdf, left_index=True, right_index=True, how='left')\n",
    "    mxdf.plot(ax=ax, column='x', cmap='Blues', zorder=2, linewidth=3, legend=True)\n",
    "    \n",
    "    mydf = ip_nodes_gdf.merge(ydf, left_index=True, right_index=True, how='left')\n",
    "    mydf = mydf[mydf['y'] == 1]\n",
    "    mydf.plot(ax=ax, color='C1', zorder=3, markersize=30)\n",
    "    \n",
    "    ax.set_facecolor('#777')"
   ]
  },
  {
   "cell_type": "code",
   "execution_count": 401,
   "id": "pediatric-subsection",
   "metadata": {},
   "outputs": [
    {
     "data": {
      "image/png": "[encoded data removed]",
      "text/plain": [
       "<Figure size 1080x1080 with 2 Axes>"
      ]
     },
     "metadata": {
      "needs_background": "light"
     },
     "output_type": "display_data"
    }
   ],
   "source": [
    "plot_results(xdf, ydf)"
   ]
  },
  {
   "cell_type": "code",
   "execution_count": null,
   "id": "statistical-japanese",
   "metadata": {},
   "outputs": [],
   "source": []
  },
  {
   "cell_type": "code",
   "execution_count": null,
   "id": "novel-oxygen",
   "metadata": {},
   "outputs": [],
   "source": []
  }
 ],
 "metadata": {
  "kernelspec": {
   "display_name": "Python 3",
   "language": "python",
   "name": "python3"
  },
  "language_info": {
   "codemirror_mode": {
    "name": "ipython",
    "version": 3
   },
   "file_extension": ".py",
   "mimetype": "text/x-python",
   "name": "python",
   "nbconvert_exporter": "python",
   "pygments_lexer": "ipython3",
   "version": "3.7.6"
  }
 },
 "nbformat": 4,
 "nbformat_minor": 5
}
