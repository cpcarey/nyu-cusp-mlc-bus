{
 "cells": [
  {
   "cell_type": "code",
   "execution_count": 1,
   "id": "inside-wallpaper",
   "metadata": {},
   "outputs": [],
   "source": [
    "# \n"
   ]
  },
  {
   "cell_type": "code",
   "execution_count": 2,
   "id": "moved-sterling",
   "metadata": {},
   "outputs": [
    {
     "name": "stderr",
     "output_type": "stream",
     "text": [
      "/home/chriscarey/miniconda3/envs/mlc/lib/python3.7/site-packages/geopandas/_compat.py:53: UserWarning: The installed version of PyGEOS is too old (0.5 installed, 0.8 required), and thus GeoPandas will not use PyGEOS.\n",
      "  UserWarning,\n"
     ]
    }
   ],
   "source": [
    "import geopandas as gpd\n",
    "import json\n",
    "import matplotlib\n",
    "import matplotlib.cm as cm\n",
    "import matplotlib.colors as colors\n",
    "from datetime import timedelta\n",
    "import matplotlib.pyplot as plt\n",
    "import networkx as nx\n",
    "from shapely.geometry import Point\n",
    "from shapely.geometry import LineString\n",
    "from shapely.geometry import MultiLineString\n",
    "import numpy as np\n",
    "import numpy as npm\n",
    "import osmnx as ox\n",
    "import math\n",
    "import pandas as pd\n",
    "from shapely.ops import snap\n",
    "from tqdm import tqdm\n",
    "import re\n",
    "\n",
    "import warnings\n",
    "warnings.filterwarnings('ignore')\n",
    "%matplotlib inline"
   ]
  },
  {
   "cell_type": "code",
   "execution_count": 3,
   "id": "unable-mouth",
   "metadata": {},
   "outputs": [],
   "source": [
    "CRS_LATLON = 'EPSG:4326'\n",
    "DATA_DIR = '../../data'\n",
    "EXPORTS_DIR = f'{DATA_DIR}/exports'"
   ]
  },
  {
   "cell_type": "code",
   "execution_count": 4,
   "id": "legislative-shuttle",
   "metadata": {},
   "outputs": [],
   "source": [
    "def peek(df):\n",
    "    print(len(df))\n",
    "    display(df.iloc[0:3])"
   ]
  },
  {
   "cell_type": "code",
   "execution_count": 5,
   "id": "worldwide-spoke",
   "metadata": {},
   "outputs": [
    {
     "name": "stdout",
     "output_type": "stream",
     "text": [
      "1590\n"
     ]
    },
    {
     "data": {
      "text/html": [
       "<div>\n",
       "<style scoped>\n",
       "    .dataframe tbody tr th:only-of-type {\n",
       "        vertical-align: middle;\n",
       "    }\n",
       "\n",
       "    .dataframe tbody tr th {\n",
       "        vertical-align: top;\n",
       "    }\n",
       "\n",
       "    .dataframe thead th {\n",
       "        text-align: right;\n",
       "    }\n",
       "</style>\n",
       "<table border=\"1\" class=\"dataframe\">\n",
       "  <thead>\n",
       "    <tr style=\"text-align: right;\">\n",
       "      <th></th>\n",
       "      <th>stop_name</th>\n",
       "      <th>stop_lat</th>\n",
       "      <th>stop_lon</th>\n",
       "      <th>M1</th>\n",
       "      <th>M10</th>\n",
       "      <th>M100</th>\n",
       "      <th>M101</th>\n",
       "      <th>M102</th>\n",
       "      <th>M103</th>\n",
       "      <th>M104</th>\n",
       "      <th>...</th>\n",
       "      <th>M5</th>\n",
       "      <th>M50</th>\n",
       "      <th>M55</th>\n",
       "      <th>M57</th>\n",
       "      <th>M66</th>\n",
       "      <th>M7</th>\n",
       "      <th>M72</th>\n",
       "      <th>M8</th>\n",
       "      <th>M9</th>\n",
       "      <th>M96</th>\n",
       "    </tr>\n",
       "    <tr>\n",
       "      <th>stop_id</th>\n",
       "      <th></th>\n",
       "      <th></th>\n",
       "      <th></th>\n",
       "      <th></th>\n",
       "      <th></th>\n",
       "      <th></th>\n",
       "      <th></th>\n",
       "      <th></th>\n",
       "      <th></th>\n",
       "      <th></th>\n",
       "      <th></th>\n",
       "      <th></th>\n",
       "      <th></th>\n",
       "      <th></th>\n",
       "      <th></th>\n",
       "      <th></th>\n",
       "      <th></th>\n",
       "      <th></th>\n",
       "      <th></th>\n",
       "      <th></th>\n",
       "      <th></th>\n",
       "    </tr>\n",
       "  </thead>\n",
       "  <tbody>\n",
       "    <tr>\n",
       "      <th>400001</th>\n",
       "      <td>4 AV/E 10 ST</td>\n",
       "      <td>40.731342</td>\n",
       "      <td>-73.990292</td>\n",
       "      <td>POINT (-73.99037 40.73135)</td>\n",
       "      <td>NaN</td>\n",
       "      <td>NaN</td>\n",
       "      <td>NaN</td>\n",
       "      <td>NaN</td>\n",
       "      <td>NaN</td>\n",
       "      <td>NaN</td>\n",
       "      <td>...</td>\n",
       "      <td>NaN</td>\n",
       "      <td>NaN</td>\n",
       "      <td>NaN</td>\n",
       "      <td>NaN</td>\n",
       "      <td>NaN</td>\n",
       "      <td>NaN</td>\n",
       "      <td>NaN</td>\n",
       "      <td>NaN</td>\n",
       "      <td>NaN</td>\n",
       "      <td>NaN</td>\n",
       "    </tr>\n",
       "    <tr>\n",
       "      <th>400002</th>\n",
       "      <td>4 AV/E 12 ST</td>\n",
       "      <td>40.732608</td>\n",
       "      <td>-73.989958</td>\n",
       "      <td>POINT (-73.99006 40.73262)</td>\n",
       "      <td>NaN</td>\n",
       "      <td>NaN</td>\n",
       "      <td>NaN</td>\n",
       "      <td>NaN</td>\n",
       "      <td>NaN</td>\n",
       "      <td>NaN</td>\n",
       "      <td>...</td>\n",
       "      <td>NaN</td>\n",
       "      <td>NaN</td>\n",
       "      <td>NaN</td>\n",
       "      <td>NaN</td>\n",
       "      <td>NaN</td>\n",
       "      <td>NaN</td>\n",
       "      <td>NaN</td>\n",
       "      <td>NaN</td>\n",
       "      <td>NaN</td>\n",
       "      <td>NaN</td>\n",
       "    </tr>\n",
       "    <tr>\n",
       "      <th>400003</th>\n",
       "      <td>4 AV/E 13 ST</td>\n",
       "      <td>40.733936</td>\n",
       "      <td>-73.989720</td>\n",
       "      <td>POINT (-73.98985 40.73394)</td>\n",
       "      <td>NaN</td>\n",
       "      <td>NaN</td>\n",
       "      <td>NaN</td>\n",
       "      <td>NaN</td>\n",
       "      <td>NaN</td>\n",
       "      <td>NaN</td>\n",
       "      <td>...</td>\n",
       "      <td>NaN</td>\n",
       "      <td>NaN</td>\n",
       "      <td>NaN</td>\n",
       "      <td>NaN</td>\n",
       "      <td>NaN</td>\n",
       "      <td>NaN</td>\n",
       "      <td>NaN</td>\n",
       "      <td>NaN</td>\n",
       "      <td>NaN</td>\n",
       "      <td>NaN</td>\n",
       "    </tr>\n",
       "  </tbody>\n",
       "</table>\n",
       "<p>3 rows × 35 columns</p>\n",
       "</div>"
      ],
      "text/plain": [
       "            stop_name   stop_lat   stop_lon                          M1  M10  \\\n",
       "stop_id                                                                        \n",
       "400001   4 AV/E 10 ST  40.731342 -73.990292  POINT (-73.99037 40.73135)  NaN   \n",
       "400002   4 AV/E 12 ST  40.732608 -73.989958  POINT (-73.99006 40.73262)  NaN   \n",
       "400003   4 AV/E 13 ST  40.733936 -73.989720  POINT (-73.98985 40.73394)  NaN   \n",
       "\n",
       "         M100 M101 M102 M103 M104  ...   M5  M50  M55  M57  M66   M7  M72  \\\n",
       "stop_id                            ...                                      \n",
       "400001    NaN  NaN  NaN  NaN  NaN  ...  NaN  NaN  NaN  NaN  NaN  NaN  NaN   \n",
       "400002    NaN  NaN  NaN  NaN  NaN  ...  NaN  NaN  NaN  NaN  NaN  NaN  NaN   \n",
       "400003    NaN  NaN  NaN  NaN  NaN  ...  NaN  NaN  NaN  NaN  NaN  NaN  NaN   \n",
       "\n",
       "          M8   M9  M96  \n",
       "stop_id                 \n",
       "400001   NaN  NaN  NaN  \n",
       "400002   NaN  NaN  NaN  \n",
       "400003   NaN  NaN  NaN  \n",
       "\n",
       "[3 rows x 35 columns]"
      ]
     },
     "metadata": {},
     "output_type": "display_data"
    }
   ],
   "source": [
    "stops_nodes_df = pd.read_csv(f'{EXPORTS_DIR}/csv/manhattan/stops_nodes.csv')\n",
    "stops_nodes_df = stops_nodes_df.set_index('stop_id')\n",
    "peek(stops_nodes_df)"
   ]
  },
  {
   "cell_type": "code",
   "execution_count": 6,
   "id": "environmental-juvenile",
   "metadata": {},
   "outputs": [],
   "source": [
    "route_ids = list(stops_nodes_df.columns[3:])"
   ]
  },
  {
   "cell_type": "code",
   "execution_count": 7,
   "id": "cutting-puppy",
   "metadata": {},
   "outputs": [],
   "source": [
    "def graph_to_node_gdf(G):\n",
    "    \"\"\"Converts the given graph to a GeoDataFrame of its nodes.\"\"\"\n",
    "    nodes, data = zip(*G.nodes(data=True))\n",
    "    geom = [Point(node[0], node[1]) for node in nodes]\n",
    "    nodes_gdf = gpd.GeoDataFrame(data,\n",
    "                                 index=list(nodes),\n",
    "                                 crs=CRS_LATLON,\n",
    "                                 geometry=geom)\n",
    "    return nodes_gdf"
   ]
  },
  {
   "cell_type": "code",
   "execution_count": 8,
   "id": "composite-apache",
   "metadata": {},
   "outputs": [],
   "source": [
    "def graph_to_edge_gdf(G):\n",
    "    \"\"\"Converts the given graph to a GeoDataFrame of its edges.\"\"\"\n",
    "    u, v, data = zip(*G.edges(data=True))\n",
    "    edges = list(zip(u, v))\n",
    "    attrs = nx.get_edge_attributes(G, 'speed')\n",
    "    geom = [\n",
    "        LineString((Point(edge[0][0],\n",
    "                          edge[0][1]), Point(edge[1][0], edge[1][1])))\n",
    "        for edge in edges\n",
    "    ]\n",
    "    edge_index = [(edge[0] + edge[1]) for edge in edges]\n",
    "    edges_gdf = gpd.GeoDataFrame(data,\n",
    "                                 index=edge_index,\n",
    "                                 crs=CRS_LATLON,\n",
    "                                 geometry=list(geom))\n",
    "    edges_gdf['length'] = edges_gdf.geometry.length\n",
    "    edges_gdf = edges_gdf.drop(columns={\n",
    "        'route_shor',\n",
    "        'route_long',\n",
    "        'color',\n",
    "        'ShpName',\n",
    "        'Wkb',\n",
    "        'Wkt',\n",
    "        'Json',\n",
    "    }, errors='ignore')\n",
    "    return edges_gdf"
   ]
  },
  {
   "cell_type": "code",
   "execution_count": 9,
   "id": "likely-yemen",
   "metadata": {},
   "outputs": [],
   "source": [
    "def get_node(mg, point):\n",
    "    threshold = 0.00001\n",
    "    for node in route_mg.nodes():\n",
    "        if abs(node[0] - point[0]) < threshold and abs(node[1] - point[1]) < threshold:\n",
    "            return node\n",
    "    return None"
   ]
  },
  {
   "cell_type": "code",
   "execution_count": 10,
   "id": "moderate-bangkok",
   "metadata": {},
   "outputs": [],
   "source": [
    "route_mgs = []\n",
    "\n",
    "for route_id in route_ids:\n",
    "    route_mg = nx.read_shp(f'{EXPORTS_DIR}/shp/manhattan/routes/{route_id}.shp', simplify=False)\n",
    "    route_mg.graph['crs'] = CRS_LATLON\n",
    "    route_mgs.append(route_mg)"
   ]
  },
  {
   "cell_type": "code",
   "execution_count": 11,
   "id": "median-climate",
   "metadata": {},
   "outputs": [],
   "source": [
    "all_routes_mg = route_mgs[0]\n",
    "\n",
    "for i, route_mg in enumerate(route_mgs[1:]):\n",
    "    all_routes_mg = nx.compose(all_routes_mg, route_mg)"
   ]
  },
  {
   "cell_type": "code",
   "execution_count": 12,
   "id": "aware-subcommittee",
   "metadata": {},
   "outputs": [],
   "source": [
    "import pickle\n",
    "f = open(f'{EXPORTS_DIR}/pkl/avg_speed_attr_dict.pkl', 'rb')\n",
    "avg_speed_attr_dict = pickle.load(f)\n",
    "f.close()"
   ]
  },
  {
   "cell_type": "code",
   "execution_count": 13,
   "id": "controversial-browse",
   "metadata": {},
   "outputs": [],
   "source": [
    "f = open(f'{EXPORTS_DIR}/pkl/all_trip_attr_dict.pkl', 'rb')\n",
    "all_trip_attr_dict = pickle.load(f)\n",
    "f.close()"
   ]
  },
  {
   "cell_type": "code",
   "execution_count": 14,
   "id": "static-rouge",
   "metadata": {},
   "outputs": [],
   "source": [
    "nx.set_edge_attributes(all_routes_mg, avg_speed_attr_dict)"
   ]
  },
  {
   "cell_type": "code",
   "execution_count": 15,
   "id": "generic-daily",
   "metadata": {},
   "outputs": [],
   "source": [
    "all_nodes_gdf = graph_to_node_gdf(all_routes_mg)\n",
    "all_edges_gdf = graph_to_edge_gdf(all_routes_mg)"
   ]
  },
  {
   "cell_type": "code",
   "execution_count": 16,
   "id": "honest-blood",
   "metadata": {},
   "outputs": [],
   "source": [
    "edges = ((edge[0], edge[1]) for edge in all_routes_mg.edges(data=True) if 'speeds_0' in edge[2])\n",
    "speed_mg = all_routes_mg.edge_subgraph(edges)\n",
    "nx.set_edge_attributes(speed_mg, avg_speed_attr_dict)"
   ]
  },
  {
   "cell_type": "code",
   "execution_count": 17,
   "id": "academic-british",
   "metadata": {},
   "outputs": [],
   "source": [
    "speed_edges_gdf = graph_to_edge_gdf(speed_mg)"
   ]
  },
  {
   "cell_type": "code",
   "execution_count": 18,
   "id": "spoken-washington",
   "metadata": {},
   "outputs": [
    {
     "data": {
      "image/png": "[encoded data removed]",
      "text/plain": [
       "<Figure size 720x720 with 2 Axes>"
      ]
     },
     "metadata": {
      "needs_background": "light"
     },
     "output_type": "display_data"
    }
   ],
   "source": [
    "fig, ax = plt.subplots(figsize=(10, 10))\n",
    "speed_edges_gdf.plot(ax=ax, column='speeds_0', cmap='RdBu', zorder=2, linewidth=3, legend=True)\n",
    "ax.set_facecolor('#777')"
   ]
  },
  {
   "cell_type": "code",
   "execution_count": 19,
   "id": "exact-cemetery",
   "metadata": {},
   "outputs": [
    {
     "name": "stdout",
     "output_type": "stream",
     "text": [
      "319\n"
     ]
    },
    {
     "data": {
      "text/html": [
       "<div>\n",
       "<style scoped>\n",
       "    .dataframe tbody tr th:only-of-type {\n",
       "        vertical-align: middle;\n",
       "    }\n",
       "\n",
       "    .dataframe tbody tr th {\n",
       "        vertical-align: top;\n",
       "    }\n",
       "\n",
       "    .dataframe thead th {\n",
       "        text-align: right;\n",
       "    }\n",
       "</style>\n",
       "<table border=\"1\" class=\"dataframe\">\n",
       "  <thead>\n",
       "    <tr style=\"text-align: right;\">\n",
       "      <th></th>\n",
       "      <th>edge</th>\n",
       "      <th>OF_C1-Weekday-036000_M1_102</th>\n",
       "      <th>OF_C1-Weekday-038700_M1_103</th>\n",
       "      <th>OF_C1-Weekday-040200_M1_104</th>\n",
       "      <th>OF_C1-Weekday-041700_M1_105</th>\n",
       "      <th>OF_C1-Weekday-043100_M1_106</th>\n",
       "      <th>OF_C1-Weekday-044600_M1_107</th>\n",
       "      <th>OF_C1-Weekday-046100_M1_108</th>\n",
       "      <th>OF_C1-Weekday-047600_M1_109</th>\n",
       "      <th>OF_C1-Weekday-049000_M1_101</th>\n",
       "      <th>...</th>\n",
       "      <th>MQ_C1-Weekday-101100_M57_465</th>\n",
       "      <th>MQ_C1-Weekday-104100_M57_459</th>\n",
       "      <th>MQ_C1-Weekday-105100_M57_464</th>\n",
       "      <th>MQ_C1-Weekday-107100_M57_461</th>\n",
       "      <th>MQ_C1-Weekday-108100_M57_460</th>\n",
       "      <th>MQ_C1-Weekday-111100_M57_465</th>\n",
       "      <th>MQ_C1-Weekday-117100_M57_461</th>\n",
       "      <th>MQ_C1-Weekday-121100_M57_465</th>\n",
       "      <th>MQ_C1-Weekday-133500_M57_465</th>\n",
       "      <th>MQ_C1-Weekday-142500_M57_465</th>\n",
       "    </tr>\n",
       "  </thead>\n",
       "  <tbody>\n",
       "    <tr>\n",
       "      <th>0</th>\n",
       "      <td>(-73.98112, 40.75027, -73.98067, 40.7509)</td>\n",
       "      <td>85.0</td>\n",
       "      <td>85.0</td>\n",
       "      <td>85.0</td>\n",
       "      <td>85.0</td>\n",
       "      <td>85.0</td>\n",
       "      <td>85.0</td>\n",
       "      <td>85.0</td>\n",
       "      <td>85.0</td>\n",
       "      <td>85.0</td>\n",
       "      <td>...</td>\n",
       "      <td>NaN</td>\n",
       "      <td>NaN</td>\n",
       "      <td>NaN</td>\n",
       "      <td>NaN</td>\n",
       "      <td>NaN</td>\n",
       "      <td>NaN</td>\n",
       "      <td>NaN</td>\n",
       "      <td>NaN</td>\n",
       "      <td>NaN</td>\n",
       "      <td>NaN</td>\n",
       "    </tr>\n",
       "    <tr>\n",
       "      <th>1</th>\n",
       "      <td>(-73.98067, 40.7509, -73.98022, 40.75151)</td>\n",
       "      <td>86.0</td>\n",
       "      <td>86.0</td>\n",
       "      <td>86.0</td>\n",
       "      <td>86.0</td>\n",
       "      <td>86.0</td>\n",
       "      <td>86.0</td>\n",
       "      <td>86.0</td>\n",
       "      <td>86.0</td>\n",
       "      <td>86.0</td>\n",
       "      <td>...</td>\n",
       "      <td>NaN</td>\n",
       "      <td>NaN</td>\n",
       "      <td>NaN</td>\n",
       "      <td>NaN</td>\n",
       "      <td>NaN</td>\n",
       "      <td>NaN</td>\n",
       "      <td>NaN</td>\n",
       "      <td>NaN</td>\n",
       "      <td>NaN</td>\n",
       "      <td>NaN</td>\n",
       "    </tr>\n",
       "    <tr>\n",
       "      <th>2</th>\n",
       "      <td>(-73.97669, 40.76411, -73.97612, 40.76386)</td>\n",
       "      <td>NaN</td>\n",
       "      <td>NaN</td>\n",
       "      <td>NaN</td>\n",
       "      <td>NaN</td>\n",
       "      <td>NaN</td>\n",
       "      <td>NaN</td>\n",
       "      <td>NaN</td>\n",
       "      <td>NaN</td>\n",
       "      <td>NaN</td>\n",
       "      <td>...</td>\n",
       "      <td>45.0</td>\n",
       "      <td>45.0</td>\n",
       "      <td>45.0</td>\n",
       "      <td>45.0</td>\n",
       "      <td>45.0</td>\n",
       "      <td>45.0</td>\n",
       "      <td>45.0</td>\n",
       "      <td>45.0</td>\n",
       "      <td>45.0</td>\n",
       "      <td>45.0</td>\n",
       "    </tr>\n",
       "  </tbody>\n",
       "</table>\n",
       "<p>3 rows × 89 columns</p>\n",
       "</div>"
      ],
      "text/plain": [
       "                                         edge  OF_C1-Weekday-036000_M1_102  \\\n",
       "0   (-73.98112, 40.75027, -73.98067, 40.7509)                         85.0   \n",
       "1   (-73.98067, 40.7509, -73.98022, 40.75151)                         86.0   \n",
       "2  (-73.97669, 40.76411, -73.97612, 40.76386)                          NaN   \n",
       "\n",
       "   OF_C1-Weekday-038700_M1_103  OF_C1-Weekday-040200_M1_104  \\\n",
       "0                         85.0                         85.0   \n",
       "1                         86.0                         86.0   \n",
       "2                          NaN                          NaN   \n",
       "\n",
       "   OF_C1-Weekday-041700_M1_105  OF_C1-Weekday-043100_M1_106  \\\n",
       "0                         85.0                         85.0   \n",
       "1                         86.0                         86.0   \n",
       "2                          NaN                          NaN   \n",
       "\n",
       "   OF_C1-Weekday-044600_M1_107  OF_C1-Weekday-046100_M1_108  \\\n",
       "0                         85.0                         85.0   \n",
       "1                         86.0                         86.0   \n",
       "2                          NaN                          NaN   \n",
       "\n",
       "   OF_C1-Weekday-047600_M1_109  OF_C1-Weekday-049000_M1_101  ...  \\\n",
       "0                         85.0                         85.0  ...   \n",
       "1                         86.0                         86.0  ...   \n",
       "2                          NaN                          NaN  ...   \n",
       "\n",
       "   MQ_C1-Weekday-101100_M57_465  MQ_C1-Weekday-104100_M57_459  \\\n",
       "0                           NaN                           NaN   \n",
       "1                           NaN                           NaN   \n",
       "2                          45.0                          45.0   \n",
       "\n",
       "   MQ_C1-Weekday-105100_M57_464  MQ_C1-Weekday-107100_M57_461  \\\n",
       "0                           NaN                           NaN   \n",
       "1                           NaN                           NaN   \n",
       "2                          45.0                          45.0   \n",
       "\n",
       "   MQ_C1-Weekday-108100_M57_460  MQ_C1-Weekday-111100_M57_465  \\\n",
       "0                           NaN                           NaN   \n",
       "1                           NaN                           NaN   \n",
       "2                          45.0                          45.0   \n",
       "\n",
       "   MQ_C1-Weekday-117100_M57_461  MQ_C1-Weekday-121100_M57_465  \\\n",
       "0                           NaN                           NaN   \n",
       "1                           NaN                           NaN   \n",
       "2                          45.0                          45.0   \n",
       "\n",
       "   MQ_C1-Weekday-133500_M57_465  MQ_C1-Weekday-142500_M57_465  \n",
       "0                           NaN                           NaN  \n",
       "1                           NaN                           NaN  \n",
       "2                          45.0                          45.0  \n",
       "\n",
       "[3 rows x 89 columns]"
      ]
     },
     "metadata": {},
     "output_type": "display_data"
    }
   ],
   "source": [
    "trip_mg = speed_mg\n",
    "nx.set_edge_attributes(trip_mg, all_trip_attr_dict)\n",
    "trip_edges_gdf = graph_to_edge_gdf(trip_mg)\n",
    "trip_edges_gdf = trip_edges_gdf.reset_index()\n",
    "trip_edges_gdf = trip_edges_gdf.rename(columns={'index': 'edge'})\n",
    "trip_edges_gdf = trip_edges_gdf.drop(columns=['route_id', 'route_dir', 'speeds_0', 'speeds_1', 'speeds_2', 'geometry', 'length'], errors='ignore')\n",
    "peek(trip_edges_gdf)"
   ]
  },
  {
   "cell_type": "code",
   "execution_count": 20,
   "id": "advance-recognition",
   "metadata": {},
   "outputs": [
    {
     "name": "stdout",
     "output_type": "stream",
     "text": [
      "319\n"
     ]
    },
    {
     "data": {
      "text/html": [
       "<div>\n",
       "<style scoped>\n",
       "    .dataframe tbody tr th:only-of-type {\n",
       "        vertical-align: middle;\n",
       "    }\n",
       "\n",
       "    .dataframe tbody tr th {\n",
       "        vertical-align: top;\n",
       "    }\n",
       "\n",
       "    .dataframe thead th {\n",
       "        text-align: right;\n",
       "    }\n",
       "</style>\n",
       "<table border=\"1\" class=\"dataframe\">\n",
       "  <thead>\n",
       "    <tr style=\"text-align: right;\">\n",
       "      <th></th>\n",
       "      <th>index</th>\n",
       "      <th>route_id</th>\n",
       "      <th>route_dir</th>\n",
       "      <th>speeds_0</th>\n",
       "      <th>speeds_1</th>\n",
       "      <th>speeds_2</th>\n",
       "      <th>geometry</th>\n",
       "      <th>length</th>\n",
       "      <th>duration_0</th>\n",
       "      <th>duration_1</th>\n",
       "      <th>duration_2</th>\n",
       "    </tr>\n",
       "  </thead>\n",
       "  <tbody>\n",
       "    <tr>\n",
       "      <th>0</th>\n",
       "      <td>(-73.98112, 40.75027, -73.98067, 40.7509)</td>\n",
       "      <td>M4</td>\n",
       "      <td>M4_0</td>\n",
       "      <td>2.909634</td>\n",
       "      <td>2.001864</td>\n",
       "      <td>2.421374</td>\n",
       "      <td>LINESTRING (-73.98112 40.75027, -73.98067 40.7...</td>\n",
       "      <td>85.163020</td>\n",
       "      <td>29.269320</td>\n",
       "      <td>42.541871</td>\n",
       "      <td>35.171361</td>\n",
       "    </tr>\n",
       "    <tr>\n",
       "      <th>1</th>\n",
       "      <td>(-73.98067, 40.7509, -73.98022, 40.75151)</td>\n",
       "      <td>M4</td>\n",
       "      <td>M4_0</td>\n",
       "      <td>2.909634</td>\n",
       "      <td>2.001864</td>\n",
       "      <td>2.421374</td>\n",
       "      <td>LINESTRING (-73.98067 40.75090, -73.98022 40.7...</td>\n",
       "      <td>83.382612</td>\n",
       "      <td>28.657419</td>\n",
       "      <td>41.652496</td>\n",
       "      <td>34.436072</td>\n",
       "    </tr>\n",
       "    <tr>\n",
       "      <th>2</th>\n",
       "      <td>(-73.97669, 40.76411, -73.97612, 40.76386)</td>\n",
       "      <td>M57</td>\n",
       "      <td>M57_0</td>\n",
       "      <td>3.666894</td>\n",
       "      <td>1.953036</td>\n",
       "      <td>2.350320</td>\n",
       "      <td>LINESTRING (-73.97669 40.76411, -73.97612 40.7...</td>\n",
       "      <td>68.465612</td>\n",
       "      <td>18.671280</td>\n",
       "      <td>35.055996</td>\n",
       "      <td>29.130340</td>\n",
       "    </tr>\n",
       "  </tbody>\n",
       "</table>\n",
       "</div>"
      ],
      "text/plain": [
       "                                        index route_id route_dir  speeds_0  \\\n",
       "0   (-73.98112, 40.75027, -73.98067, 40.7509)       M4      M4_0  2.909634   \n",
       "1   (-73.98067, 40.7509, -73.98022, 40.75151)       M4      M4_0  2.909634   \n",
       "2  (-73.97669, 40.76411, -73.97612, 40.76386)      M57     M57_0  3.666894   \n",
       "\n",
       "   speeds_1  speeds_2                                           geometry  \\\n",
       "0  2.001864  2.421374  LINESTRING (-73.98112 40.75027, -73.98067 40.7...   \n",
       "1  2.001864  2.421374  LINESTRING (-73.98067 40.75090, -73.98022 40.7...   \n",
       "2  1.953036  2.350320  LINESTRING (-73.97669 40.76411, -73.97612 40.7...   \n",
       "\n",
       "      length  duration_0  duration_1  duration_2  \n",
       "0  85.163020   29.269320   42.541871   35.171361  \n",
       "1  83.382612   28.657419   41.652496   34.436072  \n",
       "2  68.465612   18.671280   35.055996   29.130340  "
      ]
     },
     "metadata": {},
     "output_type": "display_data"
    }
   ],
   "source": [
    "ip_edges_gdf = speed_edges_gdf.reset_index()\n",
    "ip_edges_gdf['length'] = ip_edges_gdf['length'] * (0.11 / 0.000001)\n",
    "ip_edges_gdf['duration_0'] = ip_edges_gdf['length'] / ip_edges_gdf['speeds_0']\n",
    "ip_edges_gdf['duration_1'] = ip_edges_gdf['length'] / ip_edges_gdf['speeds_1']\n",
    "ip_edges_gdf['duration_2'] = ip_edges_gdf['length'] / ip_edges_gdf['speeds_2']\n",
    "ip_edges_gdf[['duration_0', 'duration_1', 'duration_2']] = ip_edges_gdf[['duration_0', 'duration_1', 'duration_2']].fillna(0)\n",
    "peek(ip_edges_gdf)"
   ]
  },
  {
   "cell_type": "code",
   "execution_count": 21,
   "id": "appointed-membership",
   "metadata": {},
   "outputs": [
    {
     "name": "stdout",
     "output_type": "stream",
     "text": [
      "319\n"
     ]
    },
    {
     "data": {
      "text/html": [
       "<div>\n",
       "<style scoped>\n",
       "    .dataframe tbody tr th:only-of-type {\n",
       "        vertical-align: middle;\n",
       "    }\n",
       "\n",
       "    .dataframe tbody tr th {\n",
       "        vertical-align: top;\n",
       "    }\n",
       "\n",
       "    .dataframe thead th {\n",
       "        text-align: right;\n",
       "    }\n",
       "</style>\n",
       "<table border=\"1\" class=\"dataframe\">\n",
       "  <thead>\n",
       "    <tr style=\"text-align: right;\">\n",
       "      <th></th>\n",
       "      <th>OF_C1-Weekday-040200_M1_104</th>\n",
       "      <th>OF_C1-Weekday-041700_M1_105</th>\n",
       "      <th>OF_C1-Weekday-043100_M1_106</th>\n",
       "      <th>OF_C1-Weekday-044600_M1_107</th>\n",
       "      <th>OF_C1-Weekday-046100_M1_108</th>\n",
       "      <th>OF_C1-Weekday-047600_M1_109</th>\n",
       "      <th>OF_C1-Weekday-049000_M1_101</th>\n",
       "      <th>OF_C1-Weekday-051000_M1_111</th>\n",
       "      <th>OF_C1-Weekday-052700_M1_112</th>\n",
       "      <th>OF_C1-Weekday-053400_M1_113</th>\n",
       "      <th>...</th>\n",
       "      <th>MQ_C1-Weekday-101100_M57_465</th>\n",
       "      <th>MQ_C1-Weekday-104100_M57_459</th>\n",
       "      <th>MQ_C1-Weekday-105100_M57_464</th>\n",
       "      <th>MQ_C1-Weekday-107100_M57_461</th>\n",
       "      <th>MQ_C1-Weekday-108100_M57_460</th>\n",
       "      <th>MQ_C1-Weekday-111100_M57_465</th>\n",
       "      <th>MQ_C1-Weekday-117100_M57_461</th>\n",
       "      <th>MQ_C1-Weekday-121100_M57_465</th>\n",
       "      <th>MQ_C1-Weekday-133500_M57_465</th>\n",
       "      <th>MQ_C1-Weekday-142500_M57_465</th>\n",
       "    </tr>\n",
       "  </thead>\n",
       "  <tbody>\n",
       "    <tr>\n",
       "      <th>0</th>\n",
       "      <td>85.0</td>\n",
       "      <td>85.0</td>\n",
       "      <td>85.0</td>\n",
       "      <td>85.0</td>\n",
       "      <td>85.0</td>\n",
       "      <td>85.0</td>\n",
       "      <td>85.0</td>\n",
       "      <td>85.0</td>\n",
       "      <td>85.0</td>\n",
       "      <td>85.0</td>\n",
       "      <td>...</td>\n",
       "      <td>NaN</td>\n",
       "      <td>NaN</td>\n",
       "      <td>NaN</td>\n",
       "      <td>NaN</td>\n",
       "      <td>NaN</td>\n",
       "      <td>NaN</td>\n",
       "      <td>NaN</td>\n",
       "      <td>NaN</td>\n",
       "      <td>NaN</td>\n",
       "      <td>NaN</td>\n",
       "    </tr>\n",
       "    <tr>\n",
       "      <th>1</th>\n",
       "      <td>86.0</td>\n",
       "      <td>86.0</td>\n",
       "      <td>86.0</td>\n",
       "      <td>86.0</td>\n",
       "      <td>86.0</td>\n",
       "      <td>86.0</td>\n",
       "      <td>86.0</td>\n",
       "      <td>86.0</td>\n",
       "      <td>86.0</td>\n",
       "      <td>86.0</td>\n",
       "      <td>...</td>\n",
       "      <td>NaN</td>\n",
       "      <td>NaN</td>\n",
       "      <td>NaN</td>\n",
       "      <td>NaN</td>\n",
       "      <td>NaN</td>\n",
       "      <td>NaN</td>\n",
       "      <td>NaN</td>\n",
       "      <td>NaN</td>\n",
       "      <td>NaN</td>\n",
       "      <td>NaN</td>\n",
       "    </tr>\n",
       "    <tr>\n",
       "      <th>2</th>\n",
       "      <td>NaN</td>\n",
       "      <td>NaN</td>\n",
       "      <td>NaN</td>\n",
       "      <td>NaN</td>\n",
       "      <td>NaN</td>\n",
       "      <td>NaN</td>\n",
       "      <td>NaN</td>\n",
       "      <td>NaN</td>\n",
       "      <td>NaN</td>\n",
       "      <td>NaN</td>\n",
       "      <td>...</td>\n",
       "      <td>45.0</td>\n",
       "      <td>45.0</td>\n",
       "      <td>45.0</td>\n",
       "      <td>45.0</td>\n",
       "      <td>45.0</td>\n",
       "      <td>45.0</td>\n",
       "      <td>45.0</td>\n",
       "      <td>45.0</td>\n",
       "      <td>45.0</td>\n",
       "      <td>45.0</td>\n",
       "    </tr>\n",
       "  </tbody>\n",
       "</table>\n",
       "<p>3 rows × 86 columns</p>\n",
       "</div>"
      ],
      "text/plain": [
       "   OF_C1-Weekday-040200_M1_104  OF_C1-Weekday-041700_M1_105  \\\n",
       "0                         85.0                         85.0   \n",
       "1                         86.0                         86.0   \n",
       "2                          NaN                          NaN   \n",
       "\n",
       "   OF_C1-Weekday-043100_M1_106  OF_C1-Weekday-044600_M1_107  \\\n",
       "0                         85.0                         85.0   \n",
       "1                         86.0                         86.0   \n",
       "2                          NaN                          NaN   \n",
       "\n",
       "   OF_C1-Weekday-046100_M1_108  OF_C1-Weekday-047600_M1_109  \\\n",
       "0                         85.0                         85.0   \n",
       "1                         86.0                         86.0   \n",
       "2                          NaN                          NaN   \n",
       "\n",
       "   OF_C1-Weekday-049000_M1_101  OF_C1-Weekday-051000_M1_111  \\\n",
       "0                         85.0                         85.0   \n",
       "1                         86.0                         86.0   \n",
       "2                          NaN                          NaN   \n",
       "\n",
       "   OF_C1-Weekday-052700_M1_112  OF_C1-Weekday-053400_M1_113  ...  \\\n",
       "0                         85.0                         85.0  ...   \n",
       "1                         86.0                         86.0  ...   \n",
       "2                          NaN                          NaN  ...   \n",
       "\n",
       "   MQ_C1-Weekday-101100_M57_465  MQ_C1-Weekday-104100_M57_459  \\\n",
       "0                           NaN                           NaN   \n",
       "1                           NaN                           NaN   \n",
       "2                          45.0                          45.0   \n",
       "\n",
       "   MQ_C1-Weekday-105100_M57_464  MQ_C1-Weekday-107100_M57_461  \\\n",
       "0                           NaN                           NaN   \n",
       "1                           NaN                           NaN   \n",
       "2                          45.0                          45.0   \n",
       "\n",
       "   MQ_C1-Weekday-108100_M57_460  MQ_C1-Weekday-111100_M57_465  \\\n",
       "0                           NaN                           NaN   \n",
       "1                           NaN                           NaN   \n",
       "2                          45.0                          45.0   \n",
       "\n",
       "   MQ_C1-Weekday-117100_M57_461  MQ_C1-Weekday-121100_M57_465  \\\n",
       "0                           NaN                           NaN   \n",
       "1                           NaN                           NaN   \n",
       "2                          45.0                          45.0   \n",
       "\n",
       "   MQ_C1-Weekday-133500_M57_465  MQ_C1-Weekday-142500_M57_465  \n",
       "0                           NaN                           NaN  \n",
       "1                           NaN                           NaN  \n",
       "2                          45.0                          45.0  \n",
       "\n",
       "[3 rows x 86 columns]"
      ]
     },
     "metadata": {},
     "output_type": "display_data"
    }
   ],
   "source": [
    "edge_manifest = ip_edges_gdf[['index', 'speeds_0', 'speeds_1', 'speeds_2', 'length', 'duration_0', 'duration_1', 'duration_2']]\n",
    "edge_manifest = edge_manifest.rename(columns={'index': 'edge'})\n",
    "edge_manifest = edge_manifest.merge(trip_edges_gdf, left_on='edge', right_on='edge', how='left')\n",
    "peek(edge_manifest.iloc[:, 10:])"
   ]
  },
  {
   "cell_type": "code",
   "execution_count": 22,
   "id": "absent-warning",
   "metadata": {},
   "outputs": [],
   "source": [
    "def get_start_node(edge):\n",
    "    return edge[0:2]\n",
    "def get_end_node(edge):\n",
    "    return edge[2:]"
   ]
  },
  {
   "cell_type": "code",
   "execution_count": 23,
   "id": "compound-satin",
   "metadata": {},
   "outputs": [],
   "source": [
    "node_edge_manifest = edge_manifest[['edge']]\n",
    "node_edge_manifest['start'] = node_edge_manifest['edge'].apply(lambda x: get_start_node(x))\n",
    "node_edge_manifest['end'] = node_edge_manifest['edge'].apply(lambda x: get_end_node(x))\n",
    "\n",
    "start_nodes = list(set(node_edge_manifest['start']))\n",
    "end_nodes = list(set(node_edge_manifest['end']))\n",
    "nodes = list(set(start_nodes + end_nodes))\n",
    "node_manifest = pd.DataFrame(nodes)\n",
    "node_manifest['node'] = node_manifest.apply(lambda x: (x[0], x[1]), axis=1)\n",
    "node_manifest = node_manifest[['node']]\n",
    "\n",
    "node_edge_manifest['start'] = node_edge_manifest['start'].apply(lambda x: nodes.index(x))\n",
    "node_edge_manifest['end'] = node_edge_manifest['end'].apply(lambda x: nodes.index(x))\n",
    "node_edge_manifest = node_edge_manifest[['start', 'end']]"
   ]
  },
  {
   "cell_type": "code",
   "execution_count": 24,
   "id": "younger-national",
   "metadata": {},
   "outputs": [],
   "source": [
    "node_latlon_df = pd.DataFrame(nodes, columns=['lon', 'lat'])\n",
    "ip_nodes_gdf = gpd.GeoDataFrame({}, geometry=gpd.points_from_xy(node_latlon_df['lon'], node_latlon_df['lat']), crs=CRS_LATLON)"
   ]
  },
  {
   "cell_type": "code",
   "execution_count": 25,
   "id": "stock-locking",
   "metadata": {},
   "outputs": [],
   "source": [
    "def get_prev_edges(row, manifest):\n",
    "    start = row['start']\n",
    "    prev_edges = list(manifest[manifest['end'] == start].index)\n",
    "    return prev_edges"
   ]
  },
  {
   "cell_type": "code",
   "execution_count": 26,
   "id": "valued-beginning",
   "metadata": {},
   "outputs": [],
   "source": [
    "def get_next_edges(row, manifest):\n",
    "    end = row['end']\n",
    "    next_edges = list(manifest[manifest['start'] == end].index)\n",
    "    return next_edges"
   ]
  },
  {
   "cell_type": "code",
   "execution_count": 27,
   "id": "frozen-spirit",
   "metadata": {},
   "outputs": [
    {
     "name": "stdout",
     "output_type": "stream",
     "text": [
      "319\n"
     ]
    },
    {
     "data": {
      "text/html": [
       "<div>\n",
       "<style scoped>\n",
       "    .dataframe tbody tr th:only-of-type {\n",
       "        vertical-align: middle;\n",
       "    }\n",
       "\n",
       "    .dataframe tbody tr th {\n",
       "        vertical-align: top;\n",
       "    }\n",
       "\n",
       "    .dataframe thead th {\n",
       "        text-align: right;\n",
       "    }\n",
       "</style>\n",
       "<table border=\"1\" class=\"dataframe\">\n",
       "  <thead>\n",
       "    <tr style=\"text-align: right;\">\n",
       "      <th></th>\n",
       "      <th>edge</th>\n",
       "      <th>start</th>\n",
       "      <th>end</th>\n",
       "      <th>prev</th>\n",
       "      <th>next</th>\n",
       "    </tr>\n",
       "  </thead>\n",
       "  <tbody>\n",
       "    <tr>\n",
       "      <th>0</th>\n",
       "      <td>0</td>\n",
       "      <td>271</td>\n",
       "      <td>272</td>\n",
       "      <td>[83]</td>\n",
       "      <td>[1]</td>\n",
       "    </tr>\n",
       "    <tr>\n",
       "      <th>1</th>\n",
       "      <td>1</td>\n",
       "      <td>272</td>\n",
       "      <td>267</td>\n",
       "      <td>[0]</td>\n",
       "      <td>[301]</td>\n",
       "    </tr>\n",
       "    <tr>\n",
       "      <th>2</th>\n",
       "      <td>2</td>\n",
       "      <td>0</td>\n",
       "      <td>81</td>\n",
       "      <td>[22]</td>\n",
       "      <td>[138]</td>\n",
       "    </tr>\n",
       "  </tbody>\n",
       "</table>\n",
       "</div>"
      ],
      "text/plain": [
       "   edge  start  end  prev   next\n",
       "0     0    271  272  [83]    [1]\n",
       "1     1    272  267   [0]  [301]\n",
       "2     2      0   81  [22]  [138]"
      ]
     },
     "metadata": {},
     "output_type": "display_data"
    }
   ],
   "source": [
    "edge_node_manifest = node_edge_manifest.reset_index().rename(columns={'index': 'edge'})\n",
    "edge_node_manifest['prev'] = [[] for i in range(len(edge_node_manifest))]\n",
    "edge_node_manifest['next'] = [[] for i in range(len(edge_node_manifest))]\n",
    "edge_node_manifest['prev'] = edge_node_manifest.apply(lambda x: get_prev_edges(x, edge_node_manifest), axis=1)\n",
    "edge_node_manifest['next'] = edge_node_manifest.apply(lambda x: get_next_edges(x, edge_node_manifest), axis=1)\n",
    "peek(edge_node_manifest)"
   ]
  },
  {
   "cell_type": "code",
   "execution_count": 28,
   "id": "swedish-landing",
   "metadata": {},
   "outputs": [],
   "source": [
    "prev_edges = list(edge_node_manifest['prev'])\n",
    "next_edges = list(edge_node_manifest['next'])\n",
    "start_nodes = list(edge_node_manifest['start'])"
   ]
  },
  {
   "cell_type": "code",
   "execution_count": 29,
   "id": "entertaining-driving",
   "metadata": {},
   "outputs": [],
   "source": [
    "def get_trip_df(trip_id):\n",
    "    trip_df = edge_manifest[[trip_id]]\n",
    "    trip_df = trip_df.dropna()\n",
    "    trip_df = trip_df.sort_values(by=[trip_id])\n",
    "    return trip_df"
   ]
  },
  {
   "cell_type": "code",
   "execution_count": 30,
   "id": "balanced-overall",
   "metadata": {},
   "outputs": [],
   "source": [
    "import gurobipy as gp\n",
    "from gurobipy import GRB"
   ]
  },
  {
   "cell_type": "code",
   "execution_count": 31,
   "id": "former-amendment",
   "metadata": {},
   "outputs": [],
   "source": [
    "N_EDGES = len(edge_manifest)\n",
    "N_NODES = len(node_manifest)\n",
    "EDGE_COST_CABLE = 1 \n",
    "EDGE_POWER_SUPPLY = 1\n",
    "EDGE_POWER_DEMAND = 1.25\n",
    "NODE_TRANSMITTER_COST = 1000"
   ]
  },
  {
   "cell_type": "code",
   "execution_count": 32,
   "id": "cardiac-craft",
   "metadata": {},
   "outputs": [],
   "source": [
    "cable_costs = list(ip_edges_gdf['length'] * EDGE_COST_CABLE)\n",
    "edge_power_supplies = [list(ip_edges_gdf[f'duration_{h}'] * EDGE_POWER_SUPPLY) for h in range(3)]\n",
    "edge_power_demands = [list(ip_edges_gdf[f'duration_{h}'] * EDGE_POWER_DEMAND) for h in range(3)]\n",
    "power_costs = [1.68, 23.84, 23.84]"
   ]
  },
  {
   "cell_type": "code",
   "execution_count": 33,
   "id": "gorgeous-draft",
   "metadata": {},
   "outputs": [],
   "source": [
    "def hash_trip(trip):\n",
    "    return ','.join([str(x) for x in trip])"
   ]
  },
  {
   "cell_type": "code",
   "execution_count": 34,
   "id": "spoken-alaska",
   "metadata": {},
   "outputs": [
    {
     "data": {
      "text/plain": [
       "2"
      ]
     },
     "execution_count": 34,
     "metadata": {},
     "output_type": "execute_result"
    }
   ],
   "source": [
    "trip_ids = list(edge_manifest.columns[10:])\n",
    "trip_ids\n",
    "trips = []\n",
    "trip_hashes = set([])\n",
    "\n",
    "for trip_id in trip_ids:\n",
    "    trip_df = get_trip_df(trip_id)\n",
    "    trip = list(trip_df.index)\n",
    "    trip_hash = hash_trip(trip)\n",
    "    if trip_hash not in trip_hashes:\n",
    "        trips.append(trip)\n",
    "        trip_hashes.add(trip_hash)\n",
    "len(trips)"
   ]
  },
  {
   "cell_type": "code",
   "execution_count": 35,
   "id": "capable-stewart",
   "metadata": {},
   "outputs": [],
   "source": [
    "HOURS = 1"
   ]
  },
  {
   "cell_type": "code",
   "execution_count": 36,
   "id": "accomplished-ordering",
   "metadata": {},
   "outputs": [
    {
     "name": "stdout",
     "output_type": "stream",
     "text": [
      "Set parameter Username\n",
      "Academic license - for non-commercial use only - expires 2022-02-01\n"
     ]
    }
   ],
   "source": [
    "model = gp.Model('example')\n",
    "\n",
    "x = model.addVars(N_EDGES, vtype=GRB.BINARY)\n",
    "y = model.addVars(N_NODES, vtype=GRB.BINARY)\n",
    "z = model.addVars(len(trips), vtype=GRB.BINARY)\n",
    "\n",
    "for k, trip in enumerate(trips):\n",
    "    for h in range(3):\n",
    "        power = np.sum([edge_power_supplies[h][i] for i in trip])\n",
    "        battery = power * 0.8\n",
    "        BATTERY_MAX = battery\n",
    "        BATTERY_MIN = power * 0.05\n",
    "\n",
    "        for j in range(1, len(trip)):\n",
    "            net_power = gp.quicksum(-edge_power_demands[h][i] + x[i] * edge_power_supplies[h][i] for i in trip[0:j])\n",
    "            model.addConstr(battery + net_power * z[k] >= BATTERY_MIN)\n",
    "            model.addConstr(battery + net_power * z[k] <= BATTERY_MAX)\n",
    "\n",
    "        for j in trip:\n",
    "            transmitter = y[start_nodes[j]]\n",
    "            prev_cable = gp.quicksum(x[i] for i in prev_edges[j])\n",
    "            model.addConstr(x[j] <= transmitter + prev_cable)\n",
    "\n",
    "model.addConstr(gp.quicksum(y[start_nodes[i]] * x[i] for i in range(N_EDGES)) == y.sum())\n",
    "model.addConstr(z.sum() >= len(trips))\n",
    "\n",
    "cable_cost = gp.quicksum((x[i] * cable_costs[i]) for i in range(N_EDGES))\n",
    "transmitter_cost = gp.quicksum((y[i] * NODE_TRANSMITTER_COST) for i in range(N_NODES))\n",
    "power_cost = gp.quicksum(edge_power_supplies[h][i] * x[i] * power_costs[h] for h in range(3) for i in range(N_EDGES))\n",
    "\n",
    "objective = cable_cost + transmitter_cost + power_cost\n",
    "model.setObjective(objective, GRB.MINIMIZE)"
   ]
  },
  {
   "cell_type": "code",
   "execution_count": 37,
   "id": "alpha-politics",
   "metadata": {},
   "outputs": [
    {
     "name": "stdout",
     "output_type": "stream",
     "text": [
      "Set parameter MIPGap to value 0.05\n",
      "Gurobi Optimizer version 9.5.0 build v9.5.0rc5 (linux64)\n",
      "Thread count: 4 physical cores, 8 logical processors, using up to 8 threads\n",
      "Optimize a model with 958 rows, 641 columns and 2873 nonzeros\n",
      "Model fingerprint: 0x5d16f2f2\n",
      "Model has 1903 quadratic constraints\n",
      "Variable types: 0 continuous, 641 integer (641 binary)\n",
      "Coefficient statistics:\n",
      "  Matrix range     [1e+00, 1e+00]\n",
      "  QMatrix range    [7e-01, 1e+02]\n",
      "  QLMatrix range   [1e+00, 7e+03]\n",
      "  Objective range  [5e+01, 6e+03]\n",
      "  Bounds range     [1e+00, 1e+00]\n",
      "  RHS range        [2e+00, 2e+00]\n",
      "  QRHS range       [1e+03, 4e+03]\n",
      "Sparsify removed 61490 nonzeros (93%)\n",
      "Presolve added 0 rows and 44 columns\n",
      "Presolve removed 232 rows and 0 columns\n",
      "Presolve time: 0.08s\n",
      "Presolved: 1684 rows, 1004 columns, 7223 nonzeros\n",
      "Variable types: 46 continuous, 958 integer (958 binary)\n",
      "Found heuristic solution: objective 210817.69773\n",
      "\n",
      "Root relaxation: objective 1.858427e+05, 682 iterations, 0.01 seconds (0.02 work units)\n",
      "\n",
      "    Nodes    |    Current Node    |     Objective Bounds      |     Work\n",
      " Expl Unexpl |  Obj  Depth IntInf | Incumbent    BestBd   Gap | It/Node Time\n",
      "\n",
      "     0     0 185842.651    0  312 210817.698 185842.651  11.8%     -    0s\n",
      "H    0     0                    196958.26776 185842.651  5.64%     -    0s\n",
      "H    0     0                    189120.74710 185842.651  1.73%     -    0s\n",
      "\n",
      "Cutting planes:\n",
      "  Gomory: 2\n",
      "\n",
      "Explored 1 nodes (1213 simplex iterations) in 0.21 seconds (0.20 work units)\n",
      "Thread count was 8 (of 8 available processors)\n",
      "\n",
      "Solution count 3: 189121 196958 210818 \n",
      "\n",
      "Optimal solution found (tolerance 5.00e-02)\n",
      "Best objective 1.891207470998e+05, best bound 1.867354541697e+05, gap 1.2613%\n",
      "189120.74709980743\n"
     ]
    }
   ],
   "source": [
    "model.update()\n",
    "model.Params.MIPGap = 0.05\n",
    "model.optimize()\n",
    "print(model.ObjVal)"
   ]
  },
  {
   "cell_type": "code",
   "execution_count": 38,
   "id": "waiting-invitation",
   "metadata": {},
   "outputs": [
    {
     "data": {
      "text/plain": [
       "153"
      ]
     },
     "execution_count": 38,
     "metadata": {},
     "output_type": "execute_result"
    }
   ],
   "source": [
    "opt_x = model.getAttr('X', model.getVars()[:N_EDGES])\n",
    "xdf = pd.DataFrame(opt_x, columns=['x'])\n",
    "len(xdf[xdf['x'] > 0])"
   ]
  },
  {
   "cell_type": "code",
   "execution_count": 39,
   "id": "intellectual-alexander",
   "metadata": {},
   "outputs": [
    {
     "data": {
      "text/plain": [
       "3"
      ]
     },
     "execution_count": 39,
     "metadata": {},
     "output_type": "execute_result"
    }
   ],
   "source": [
    "opt_y = model.getAttr('X', model.getVars()[N_EDGES:N_EDGES+N_NODES])\n",
    "ydf = pd.DataFrame(opt_y, columns=['y'])\n",
    "len(ydf[ydf['y'] > 0])"
   ]
  },
  {
   "cell_type": "code",
   "execution_count": 40,
   "id": "engaging-prophet",
   "metadata": {},
   "outputs": [],
   "source": [
    "def plot_results(xdf, ydf):\n",
    "    fig, ax = plt.subplots(figsize=(15, 15))\n",
    "    \n",
    "    mxdf = ip_edges_gdf.merge(xdf, left_index=True, right_index=True, how='left')\n",
    "    mxdf.plot(ax=ax, column='x', cmap='Blues', zorder=2, linewidth=3, legend=True)\n",
    "    \n",
    "    mydf = ip_nodes_gdf.merge(ydf, left_index=True, right_index=True, how='left')\n",
    "    mydf = mydf[mydf['y'] == 1]\n",
    "    mydf.plot(ax=ax, color='C1', zorder=3, markersize=30)\n",
    "    \n",
    "    ax.set_facecolor('#777')"
   ]
  },
  {
   "cell_type": "code",
   "execution_count": 41,
   "id": "frank-print",
   "metadata": {},
   "outputs": [
    {
     "data": {
      "image/png": "[encoded data removed]",
      "text/plain": [
       "<Figure size 1080x1080 with 2 Axes>"
      ]
     },
     "metadata": {
      "needs_background": "light"
     },
     "output_type": "display_data"
    }
   ],
   "source": [
    "plot_results(xdf, ydf)"
   ]
  },
  {
   "cell_type": "code",
   "execution_count": null,
   "id": "other-graphic",
   "metadata": {},
   "outputs": [],
   "source": []
  },
  {
   "cell_type": "code",
   "execution_count": null,
   "id": "adult-performance",
   "metadata": {},
   "outputs": [],
   "source": []
  },
  {
   "cell_type": "code",
   "execution_count": null,
   "id": "ecological-cradle",
   "metadata": {},
   "outputs": [],
   "source": []
  }
 ],
 "metadata": {
  "kernelspec": {
   "display_name": "Python 3",
   "language": "python",
   "name": "python3"
  },
  "language_info": {
   "codemirror_mode": {
    "name": "ipython",
    "version": 3
   },
   "file_extension": ".py",
   "mimetype": "text/x-python",
   "name": "python",
   "nbconvert_exporter": "python",
   "pygments_lexer": "ipython3",
   "version": "3.7.6"
  }
 },
 "nbformat": 4,
 "nbformat_minor": 5
}
