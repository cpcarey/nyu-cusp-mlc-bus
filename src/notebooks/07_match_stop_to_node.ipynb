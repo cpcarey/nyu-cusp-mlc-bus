{
 "cells": [
  {
   "cell_type": "code",
   "execution_count": 2,
   "id": "economic-headline",
   "metadata": {},
   "outputs": [],
   "source": [
    "# This file plots the elevation gradients of bus route road segments with a\n",
    "# red/blue diverging color map to indicate uphill (red) and downhill (blue)\n",
    "# slopes."
   ]
  },
  {
   "cell_type": "code",
   "execution_count": 435,
   "id": "ultimate-finder",
   "metadata": {},
   "outputs": [],
   "source": [
    "from os import listdir\n",
    "from rtree.index import Index as RTreeIndex\n",
    "from shapely.geometry import LineString\n",
    "from shapely.geometry import MultiLineString\n",
    "from shapely.geometry import Point\n",
    "from shapely.ops import snap\n",
    "from tqdm import tqdm\n",
    "import geopandas as gpd\n",
    "import json\n",
    "import matplotlib\n",
    "import matplotlib.cm as cm\n",
    "import matplotlib.colors as colors\n",
    "import matplotlib.pyplot as plt\n",
    "import networkx as nx\n",
    "import numpy as np\n",
    "import numpy as npm\n",
    "import osmnx as ox\n",
    "import pandas as pd\n",
    "import re\n",
    "import shapely\n",
    "\n",
    "import warnings\n",
    "warnings.filterwarnings('ignore')\n",
    "%matplotlib inline"
   ]
  },
  {
   "cell_type": "code",
   "execution_count": 436,
   "id": "higher-appearance",
   "metadata": {},
   "outputs": [],
   "source": [
    "CRS_LATLON = 'EPSG:4326'\n",
    "DATA_DIR = '../../data'\n",
    "EXPORTS_DIR = f'{DATA_DIR}/exports'"
   ]
  },
  {
   "cell_type": "code",
   "execution_count": 437,
   "id": "convinced-monte",
   "metadata": {},
   "outputs": [],
   "source": [
    "def peek(df):\n",
    "    print(len(df))\n",
    "    display(df.iloc[0:3])"
   ]
  },
  {
   "cell_type": "code",
   "execution_count": 502,
   "id": "placed-perception",
   "metadata": {},
   "outputs": [
    {
     "name": "stdout",
     "output_type": "stream",
     "text": [
      "1808\n"
     ]
    },
    {
     "data": {
      "text/html": [
       "<div>\n",
       "<style scoped>\n",
       "    .dataframe tbody tr th:only-of-type {\n",
       "        vertical-align: middle;\n",
       "    }\n",
       "\n",
       "    .dataframe tbody tr th {\n",
       "        vertical-align: top;\n",
       "    }\n",
       "\n",
       "    .dataframe thead th {\n",
       "        text-align: right;\n",
       "    }\n",
       "</style>\n",
       "<table border=\"1\" class=\"dataframe\">\n",
       "  <thead>\n",
       "    <tr style=\"text-align: right;\">\n",
       "      <th></th>\n",
       "      <th>stop_name</th>\n",
       "      <th>stop_desc</th>\n",
       "      <th>stop_lat</th>\n",
       "      <th>stop_lon</th>\n",
       "      <th>zone_id</th>\n",
       "      <th>stop_url</th>\n",
       "      <th>location_type</th>\n",
       "      <th>parent_station</th>\n",
       "      <th>node</th>\n",
       "    </tr>\n",
       "    <tr>\n",
       "      <th>stop_id</th>\n",
       "      <th></th>\n",
       "      <th></th>\n",
       "      <th></th>\n",
       "      <th></th>\n",
       "      <th></th>\n",
       "      <th></th>\n",
       "      <th></th>\n",
       "      <th></th>\n",
       "      <th></th>\n",
       "    </tr>\n",
       "  </thead>\n",
       "  <tbody>\n",
       "    <tr>\n",
       "      <th>400001</th>\n",
       "      <td>4 AV/E 10 ST</td>\n",
       "      <td>NaN</td>\n",
       "      <td>40.731342</td>\n",
       "      <td>-73.990292</td>\n",
       "      <td>NaN</td>\n",
       "      <td>NaN</td>\n",
       "      <td>0</td>\n",
       "      <td>NaN</td>\n",
       "      <td>None</td>\n",
       "    </tr>\n",
       "    <tr>\n",
       "      <th>400002</th>\n",
       "      <td>4 AV/E 12 ST</td>\n",
       "      <td>NaN</td>\n",
       "      <td>40.732608</td>\n",
       "      <td>-73.989958</td>\n",
       "      <td>NaN</td>\n",
       "      <td>NaN</td>\n",
       "      <td>0</td>\n",
       "      <td>NaN</td>\n",
       "      <td>None</td>\n",
       "    </tr>\n",
       "    <tr>\n",
       "      <th>400003</th>\n",
       "      <td>4 AV/E 13 ST</td>\n",
       "      <td>NaN</td>\n",
       "      <td>40.733936</td>\n",
       "      <td>-73.989720</td>\n",
       "      <td>NaN</td>\n",
       "      <td>NaN</td>\n",
       "      <td>0</td>\n",
       "      <td>NaN</td>\n",
       "      <td>None</td>\n",
       "    </tr>\n",
       "  </tbody>\n",
       "</table>\n",
       "</div>"
      ],
      "text/plain": [
       "            stop_name  stop_desc   stop_lat   stop_lon  zone_id  stop_url  \\\n",
       "stop_id                                                                     \n",
       "400001   4 AV/E 10 ST        NaN  40.731342 -73.990292      NaN       NaN   \n",
       "400002   4 AV/E 12 ST        NaN  40.732608 -73.989958      NaN       NaN   \n",
       "400003   4 AV/E 13 ST        NaN  40.733936 -73.989720      NaN       NaN   \n",
       "\n",
       "         location_type  parent_station  node  \n",
       "stop_id                                       \n",
       "400001               0             NaN  None  \n",
       "400002               0             NaN  None  \n",
       "400003               0             NaN  None  "
      ]
     },
     "metadata": {},
     "output_type": "display_data"
    }
   ],
   "source": [
    "stops_df = pd.read_csv(f'{DATA_DIR}/gtfs/manhattan/stops.txt')\n",
    "stops_df = stops_df.set_index('stop_id')\n",
    "stops_df['node'] = None\n",
    "peek(stops_df)"
   ]
  },
  {
   "cell_type": "code",
   "execution_count": 503,
   "id": "smaller-petersburg",
   "metadata": {},
   "outputs": [],
   "source": [
    "trip_stop_sequence_dict = {}\n",
    "with open(f'{EXPORTS_DIR}/json/manhattan/trip_stop_sequence_dict.json', 'r') as fp:\n",
    "    trip_stop_sequence_dict = json.load(fp)"
   ]
  },
  {
   "cell_type": "code",
   "execution_count": 504,
   "id": "identified-imaging",
   "metadata": {},
   "outputs": [],
   "source": [
    "def get_edge(edge, route_ox):\n",
    "    u = route_ox.nodes[edge[0]]\n",
    "    v = route_ox.nodes[edge[1]]\n",
    "#    return ((u['x'], u['y']), (v['x'], v['y']))\n",
    "    return ((np.round(u['x'], 5), np.round(u['y'], 5)), (np.round(v['x'], 5), np.round(v['y'], 5)))"
   ]
  },
  {
   "cell_type": "code",
   "execution_count": 505,
   "id": "adolescent-assignment",
   "metadata": {},
   "outputs": [],
   "source": [
    "route_ids = ['M1_0', 'M1_1']#, 'M2', 'M57']\n",
    "from pathlib import Path"
   ]
  },
  {
   "cell_type": "code",
   "execution_count": 506,
   "id": "administrative-attendance",
   "metadata": {},
   "outputs": [],
   "source": [
    "for route_id in route_ids:\n",
    "    route_ox = ox.load_graphml(f'{EXPORTS_DIR}/graphml/manhattan/routes/{route_id}.graphml')\n",
    "    edges = [get_edge(e, route_ox) for e in list(route_ox.edges)]\n",
    "    route_dg = nx.DiGraph()\n",
    "    route_dg.add_edges_from(edges)\n",
    "    Path(f'{EXPORTS_DIR}/hybrid/manhattan/routes/').mkdir(parents=True, exist_ok=True)\n",
    "    nx.write_graphml(route_dg, f'{EXPORTS_DIR}/hybrid/manhattan/routes/{route_id}.graphml')"
   ]
  },
  {
   "cell_type": "code",
   "execution_count": 507,
   "id": "stock-bulletin",
   "metadata": {},
   "outputs": [],
   "source": [
    "#route_ids = listdir(f'{EXPORTS_DIR}/hybrid/manhattan/routes')\n",
    "#route_ids = [f.split('.')[0] for f in route_ids]\n",
    "#route_ids = list(set([f for f in route_ids if re.match('M\\d+$', f)]))\n",
    "#route_ids.sort()"
   ]
  },
  {
   "cell_type": "code",
   "execution_count": 508,
   "id": "charming-bloom",
   "metadata": {},
   "outputs": [],
   "source": [
    "import ast\n",
    "\n",
    "route_mgs = []\n",
    "\n",
    "for route_id in route_ids:\n",
    "    route_mg = nx.read_graphml(f'{EXPORTS_DIR}/hybrid/manhattan/routes/{route_id}.graphml')\n",
    "    \n",
    "    g = nx.DiGraph()\n",
    "    edges = [(ast.literal_eval(e[0]), ast.literal_eval(e[1])) for e in route_mg.edges]\n",
    "    g.add_edges_from(edges)\n",
    "    g.graph['crs'] = CRS_LATLON\n",
    "    route_mgs.append(g)"
   ]
  },
  {
   "cell_type": "code",
   "execution_count": 509,
   "id": "classified-trick",
   "metadata": {},
   "outputs": [],
   "source": [
    "def closest_node(station, nodes):\n",
    "    \"\"\"Returns the closest node of the given nodes to the given station.\"\"\"\n",
    "    min_node = None\n",
    "    min_dist = 100\n",
    "    for node in nodes:\n",
    "        dist = station.distance(node)\n",
    "        if dist < min_dist:\n",
    "            min_dist = dist\n",
    "            min_node = node\n",
    "    return Point(min_node.x, min_node.y)"
   ]
  },
  {
   "cell_type": "code",
   "execution_count": 510,
   "id": "prescribed-samuel",
   "metadata": {},
   "outputs": [],
   "source": [
    "def fill_nodes(route_id, sequence_id, route_mg):\n",
    "    full_key = f'{route_id}_{sequence_id}'\n",
    "    \n",
    "    route_keys = [k for k in trip_stop_sequence_dict.keys() if k.startswith(f'{route_id},') and 'SDon' not in k and k.endswith(f',{sequence_id}')]\n",
    "    route_sdon_keys = [k for k in trip_stop_sequence_dict.keys() if k.startswith(f'{route_id},') and 'SDon' in k and k.endswith(f',{sequence_id}')]\n",
    "    \n",
    "    route_stops = [trip_stop_sequence_dict[k] for k in route_keys]\n",
    "    route_stops = [item for sublist in route_stops for item in sublist]\n",
    "    \n",
    "    route_sdon_stops = [trip_stop_sequence_dict[k] for k in route_sdon_keys]\n",
    "    route_sdon_stops = [item for sublist in route_sdon_stops for item in sublist]\n",
    "    \n",
    "    route_set = set([])\n",
    "    route_set_stops = []\n",
    "    for route_stop in route_stops:\n",
    "        if route_stop not in route_set:\n",
    "            route_set_stops.append(route_stop)\n",
    "            \n",
    "    route_sdon_set = set([])\n",
    "    route_sdon_set_stops = []\n",
    "    for route_sdon_stop in route_sdon_stops:\n",
    "        if route_sdon_stop not in route_sdon_set:\n",
    "            route_sdon_set_stops.append(route_sdon_stop)\n",
    "    \n",
    "    route_rows = [stops_df.loc[s] for s in route_set_stops]\n",
    "    route_lats = [r['stop_lat'] for r in route_rows]\n",
    "    route_lons = [r['stop_lon'] for r in route_rows]\n",
    "    \n",
    "    route_sdon_rows = [stops_df.loc[s] for s in route_sdon_set_stops]\n",
    "    route_sdon_lats = [r['stop_lat'] for r in route_sdon_rows]\n",
    "    route_sdon_lons = [r['stop_lon'] for r in route_sdon_rows]\n",
    "    \n",
    "    route_stops = route_set_stops\n",
    "    route_sdon_stops = route_sdon_set_stops\n",
    "    \n",
    "    print(f'{route_id}_{sequence_id}: {len(route_stops) + len(route_sdon_stops)}')\n",
    "    \n",
    "    stops_df[full_key] = None\n",
    "    if len(route_stops) + len(route_sdon_stops) == 0:\n",
    "        return False\n",
    "    \n",
    "    route_nodes = []\n",
    "    route_mg_nodes = [Point(n[0], n[1]) for n in route_mg.nodes()]\n",
    "    for i in range(len(route_stops)):\n",
    "        stop = Point(route_lons[i], route_lats[i])\n",
    "        route_nodes.append(closest_node(stop, route_mg_nodes))\n",
    "    \n",
    "    for i in range(len(route_nodes)):\n",
    "        #stops_df.loc[route_stops[i], 'node'] = route_nodes[i].wkt\n",
    "        #stops_df.loc[route_stops[i], route_id] = route_nodes[i].wkt\n",
    "        stops_df.loc[route_stops[i], 'node'] =   shapely.wkt.dumps(route_nodes[i], rounding_precision=5)\n",
    "        stops_df.loc[route_stops[i], full_key] = shapely.wkt.dumps(route_nodes[i], rounding_precision=5)\n",
    "        \n",
    "    route_sdon_nodes = []\n",
    "    route_sdon_mg_nodes = [Point(n[0], n[1]) for n in route_mg.nodes()]\n",
    "    for i in range(len(route_sdon_stops)):\n",
    "        stop = Point(route_sdon_lons[i], route_sdon_lats[i])\n",
    "        route_sdon_nodes.append(closest_node(stop, route_sdon_mg_nodes))\n",
    "    \n",
    "    for i in range(len(route_sdon_nodes)):\n",
    "        #stops_df.loc[route_sdon_stops[i], 'node'] = route_sdon_nodes[i].wkt\n",
    "        #stops_df.loc[route_sdon_stops[i], route_id] = route_sdon_nodes[i].wkt\n",
    "        stops_df.loc[route_sdon_stops[i], 'node'] =   shapely.wkt.dumps(route_sdon_nodes[i], rounding_precision=5)\n",
    "        stops_df.loc[route_sdon_stops[i], full_key] = shapely.wkt.dumps(route_sdon_nodes[i], rounding_precision=5)\n",
    "        \n",
    "    return True"
   ]
  },
  {
   "cell_type": "code",
   "execution_count": 511,
   "id": "buried-underwear",
   "metadata": {},
   "outputs": [
    {
     "name": "stdout",
     "output_type": "stream",
     "text": [
      "M1_0: 132\n",
      "M1_1: 132\n"
     ]
    }
   ],
   "source": [
    "valid_routes = []\n",
    "for i, route_id in enumerate(route_ids):\n",
    "    rid = route_id.split('_')[0]\n",
    "    sid = route_id.split('_')[1]\n",
    "    \n",
    "    if fill_nodes(rid, sid, route_mgs[i]):\n",
    "        valid_routes.append(route_id)"
   ]
  },
  {
   "cell_type": "code",
   "execution_count": 512,
   "id": "perfect-melbourne",
   "metadata": {},
   "outputs": [
    {
     "name": "stdout",
     "output_type": "stream",
     "text": [
      "132\n"
     ]
    },
    {
     "data": {
      "text/html": [
       "<div>\n",
       "<style scoped>\n",
       "    .dataframe tbody tr th:only-of-type {\n",
       "        vertical-align: middle;\n",
       "    }\n",
       "\n",
       "    .dataframe tbody tr th {\n",
       "        vertical-align: top;\n",
       "    }\n",
       "\n",
       "    .dataframe thead th {\n",
       "        text-align: right;\n",
       "    }\n",
       "</style>\n",
       "<table border=\"1\" class=\"dataframe\">\n",
       "  <thead>\n",
       "    <tr style=\"text-align: right;\">\n",
       "      <th></th>\n",
       "      <th>stop_name</th>\n",
       "      <th>stop_lat</th>\n",
       "      <th>stop_lon</th>\n",
       "      <th>M1_0</th>\n",
       "      <th>M1_1</th>\n",
       "    </tr>\n",
       "    <tr>\n",
       "      <th>stop_id</th>\n",
       "      <th></th>\n",
       "      <th></th>\n",
       "      <th></th>\n",
       "      <th></th>\n",
       "      <th></th>\n",
       "    </tr>\n",
       "  </thead>\n",
       "  <tbody>\n",
       "    <tr>\n",
       "      <th>400001</th>\n",
       "      <td>4 AV/E 10 ST</td>\n",
       "      <td>40.731342</td>\n",
       "      <td>-73.990292</td>\n",
       "      <td>POINT (-73.99240 40.73060)</td>\n",
       "      <td>None</td>\n",
       "    </tr>\n",
       "    <tr>\n",
       "      <th>400002</th>\n",
       "      <td>4 AV/E 12 ST</td>\n",
       "      <td>40.732608</td>\n",
       "      <td>-73.989958</td>\n",
       "      <td>POINT (-73.99240 40.73060)</td>\n",
       "      <td>None</td>\n",
       "    </tr>\n",
       "    <tr>\n",
       "      <th>400003</th>\n",
       "      <td>4 AV/E 13 ST</td>\n",
       "      <td>40.733936</td>\n",
       "      <td>-73.989720</td>\n",
       "      <td>POINT (-73.99240 40.73060)</td>\n",
       "      <td>None</td>\n",
       "    </tr>\n",
       "  </tbody>\n",
       "</table>\n",
       "</div>"
      ],
      "text/plain": [
       "            stop_name   stop_lat   stop_lon                        M1_0  M1_1\n",
       "stop_id                                                                      \n",
       "400001   4 AV/E 10 ST  40.731342 -73.990292  POINT (-73.99240 40.73060)  None\n",
       "400002   4 AV/E 12 ST  40.732608 -73.989958  POINT (-73.99240 40.73060)  None\n",
       "400003   4 AV/E 13 ST  40.733936 -73.989720  POINT (-73.99240 40.73060)  None"
      ]
     },
     "metadata": {},
     "output_type": "display_data"
    }
   ],
   "source": [
    "valid_stops_df = stops_df[~stops_df['node'].isna()]\n",
    "valid_stops_df = valid_stops_df.drop(columns=[\n",
    "    'location_type',\n",
    "    'node',\n",
    "    'parent_station',\n",
    "    'stop_desc',\n",
    "    'stop_url',\n",
    "    'zone_id',\n",
    "])\n",
    "peek(valid_stops_df)"
   ]
  },
  {
   "cell_type": "code",
   "execution_count": 513,
   "id": "together-grave",
   "metadata": {},
   "outputs": [],
   "source": [
    "valid_stops_df.to_csv(f'{DATA_DIR}/exports/csv/manhattan/stops_nodes.csv')"
   ]
  }
 ],
 "metadata": {
  "kernelspec": {
   "display_name": "Python 3",
   "language": "python",
   "name": "python3"
  },
  "language_info": {
   "codemirror_mode": {
    "name": "ipython",
    "version": 3
   },
   "file_extension": ".py",
   "mimetype": "text/x-python",
   "name": "python",
   "nbconvert_exporter": "python",
   "pygments_lexer": "ipython3",
   "version": "3.7.6"
  }
 },
 "nbformat": 4,
 "nbformat_minor": 5
}
