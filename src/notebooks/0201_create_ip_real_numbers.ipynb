{
 "cells": [
  {
   "cell_type": "code",
   "execution_count": 1,
   "id": "political-variance",
   "metadata": {},
   "outputs": [],
   "source": [
    "# \n"
   ]
  },
  {
   "cell_type": "code",
   "execution_count": 1,
   "id": "herbal-stevens",
   "metadata": {},
   "outputs": [
    {
     "name": "stderr",
     "output_type": "stream",
     "text": [
      "/home/chriscarey/miniconda3/envs/mlc/lib/python3.7/site-packages/geopandas/_compat.py:53: UserWarning: The installed version of PyGEOS is too old (0.5 installed, 0.8 required), and thus GeoPandas will not use PyGEOS.\n",
      "  UserWarning,\n"
     ]
    }
   ],
   "source": [
    "import geopandas as gpd\n",
    "import json\n",
    "import matplotlib\n",
    "import matplotlib.cm as cm\n",
    "import matplotlib.colors as colors\n",
    "from datetime import timedelta\n",
    "import matplotlib.pyplot as plt\n",
    "import networkx as nx\n",
    "from shapely.geometry import Point\n",
    "from shapely.geometry import LineString\n",
    "from shapely.geometry import MultiLineString\n",
    "import numpy as np\n",
    "import numpy as npm\n",
    "import osmnx as ox\n",
    "import math\n",
    "import pandas as pd\n",
    "from shapely.ops import snap\n",
    "from tqdm import tqdm\n",
    "import re\n",
    "\n",
    "import warnings\n",
    "warnings.filterwarnings('ignore')\n",
    "%matplotlib inline"
   ]
  },
  {
   "cell_type": "code",
   "execution_count": 2,
   "id": "antique-shield",
   "metadata": {},
   "outputs": [],
   "source": [
    "CRS_LATLON = 'EPSG:4326'\n",
    "DATA_DIR = '../../data'\n",
    "EXPORTS_DIR = f'{DATA_DIR}/exports'"
   ]
  },
  {
   "cell_type": "code",
   "execution_count": 3,
   "id": "failing-exception",
   "metadata": {},
   "outputs": [],
   "source": [
    "def peek(df):\n",
    "    print(len(df))\n",
    "    display(df.iloc[0:3])"
   ]
  },
  {
   "cell_type": "code",
   "execution_count": 4,
   "id": "political-incidence",
   "metadata": {},
   "outputs": [
    {
     "name": "stdout",
     "output_type": "stream",
     "text": [
      "1590\n"
     ]
    },
    {
     "data": {
      "text/html": [
       "<div>\n",
       "<style scoped>\n",
       "    .dataframe tbody tr th:only-of-type {\n",
       "        vertical-align: middle;\n",
       "    }\n",
       "\n",
       "    .dataframe tbody tr th {\n",
       "        vertical-align: top;\n",
       "    }\n",
       "\n",
       "    .dataframe thead th {\n",
       "        text-align: right;\n",
       "    }\n",
       "</style>\n",
       "<table border=\"1\" class=\"dataframe\">\n",
       "  <thead>\n",
       "    <tr style=\"text-align: right;\">\n",
       "      <th></th>\n",
       "      <th>stop_name</th>\n",
       "      <th>stop_lat</th>\n",
       "      <th>stop_lon</th>\n",
       "      <th>M1</th>\n",
       "      <th>M10</th>\n",
       "      <th>M100</th>\n",
       "      <th>M101</th>\n",
       "      <th>M102</th>\n",
       "      <th>M103</th>\n",
       "      <th>M104</th>\n",
       "      <th>...</th>\n",
       "      <th>M5</th>\n",
       "      <th>M50</th>\n",
       "      <th>M55</th>\n",
       "      <th>M57</th>\n",
       "      <th>M66</th>\n",
       "      <th>M7</th>\n",
       "      <th>M72</th>\n",
       "      <th>M8</th>\n",
       "      <th>M9</th>\n",
       "      <th>M96</th>\n",
       "    </tr>\n",
       "    <tr>\n",
       "      <th>stop_id</th>\n",
       "      <th></th>\n",
       "      <th></th>\n",
       "      <th></th>\n",
       "      <th></th>\n",
       "      <th></th>\n",
       "      <th></th>\n",
       "      <th></th>\n",
       "      <th></th>\n",
       "      <th></th>\n",
       "      <th></th>\n",
       "      <th></th>\n",
       "      <th></th>\n",
       "      <th></th>\n",
       "      <th></th>\n",
       "      <th></th>\n",
       "      <th></th>\n",
       "      <th></th>\n",
       "      <th></th>\n",
       "      <th></th>\n",
       "      <th></th>\n",
       "      <th></th>\n",
       "    </tr>\n",
       "  </thead>\n",
       "  <tbody>\n",
       "    <tr>\n",
       "      <th>400001</th>\n",
       "      <td>4 AV/E 10 ST</td>\n",
       "      <td>40.731342</td>\n",
       "      <td>-73.990292</td>\n",
       "      <td>POINT (-73.99037 40.73135)</td>\n",
       "      <td>NaN</td>\n",
       "      <td>NaN</td>\n",
       "      <td>NaN</td>\n",
       "      <td>NaN</td>\n",
       "      <td>NaN</td>\n",
       "      <td>NaN</td>\n",
       "      <td>...</td>\n",
       "      <td>NaN</td>\n",
       "      <td>NaN</td>\n",
       "      <td>NaN</td>\n",
       "      <td>NaN</td>\n",
       "      <td>NaN</td>\n",
       "      <td>NaN</td>\n",
       "      <td>NaN</td>\n",
       "      <td>NaN</td>\n",
       "      <td>NaN</td>\n",
       "      <td>NaN</td>\n",
       "    </tr>\n",
       "    <tr>\n",
       "      <th>400002</th>\n",
       "      <td>4 AV/E 12 ST</td>\n",
       "      <td>40.732608</td>\n",
       "      <td>-73.989958</td>\n",
       "      <td>POINT (-73.99006 40.73262)</td>\n",
       "      <td>NaN</td>\n",
       "      <td>NaN</td>\n",
       "      <td>NaN</td>\n",
       "      <td>NaN</td>\n",
       "      <td>NaN</td>\n",
       "      <td>NaN</td>\n",
       "      <td>...</td>\n",
       "      <td>NaN</td>\n",
       "      <td>NaN</td>\n",
       "      <td>NaN</td>\n",
       "      <td>NaN</td>\n",
       "      <td>NaN</td>\n",
       "      <td>NaN</td>\n",
       "      <td>NaN</td>\n",
       "      <td>NaN</td>\n",
       "      <td>NaN</td>\n",
       "      <td>NaN</td>\n",
       "    </tr>\n",
       "    <tr>\n",
       "      <th>400003</th>\n",
       "      <td>4 AV/E 13 ST</td>\n",
       "      <td>40.733936</td>\n",
       "      <td>-73.989720</td>\n",
       "      <td>POINT (-73.98985 40.73394)</td>\n",
       "      <td>NaN</td>\n",
       "      <td>NaN</td>\n",
       "      <td>NaN</td>\n",
       "      <td>NaN</td>\n",
       "      <td>NaN</td>\n",
       "      <td>NaN</td>\n",
       "      <td>...</td>\n",
       "      <td>NaN</td>\n",
       "      <td>NaN</td>\n",
       "      <td>NaN</td>\n",
       "      <td>NaN</td>\n",
       "      <td>NaN</td>\n",
       "      <td>NaN</td>\n",
       "      <td>NaN</td>\n",
       "      <td>NaN</td>\n",
       "      <td>NaN</td>\n",
       "      <td>NaN</td>\n",
       "    </tr>\n",
       "  </tbody>\n",
       "</table>\n",
       "<p>3 rows × 35 columns</p>\n",
       "</div>"
      ],
      "text/plain": [
       "            stop_name   stop_lat   stop_lon                          M1  M10  \\\n",
       "stop_id                                                                        \n",
       "400001   4 AV/E 10 ST  40.731342 -73.990292  POINT (-73.99037 40.73135)  NaN   \n",
       "400002   4 AV/E 12 ST  40.732608 -73.989958  POINT (-73.99006 40.73262)  NaN   \n",
       "400003   4 AV/E 13 ST  40.733936 -73.989720  POINT (-73.98985 40.73394)  NaN   \n",
       "\n",
       "         M100 M101 M102 M103 M104  ...   M5  M50  M55  M57  M66   M7  M72  \\\n",
       "stop_id                            ...                                      \n",
       "400001    NaN  NaN  NaN  NaN  NaN  ...  NaN  NaN  NaN  NaN  NaN  NaN  NaN   \n",
       "400002    NaN  NaN  NaN  NaN  NaN  ...  NaN  NaN  NaN  NaN  NaN  NaN  NaN   \n",
       "400003    NaN  NaN  NaN  NaN  NaN  ...  NaN  NaN  NaN  NaN  NaN  NaN  NaN   \n",
       "\n",
       "          M8   M9  M96  \n",
       "stop_id                 \n",
       "400001   NaN  NaN  NaN  \n",
       "400002   NaN  NaN  NaN  \n",
       "400003   NaN  NaN  NaN  \n",
       "\n",
       "[3 rows x 35 columns]"
      ]
     },
     "metadata": {},
     "output_type": "display_data"
    }
   ],
   "source": [
    "stops_nodes_df = pd.read_csv(f'{EXPORTS_DIR}/csv/manhattan/stops_nodes.csv')\n",
    "stops_nodes_df = stops_nodes_df.set_index('stop_id')\n",
    "peek(stops_nodes_df)"
   ]
  },
  {
   "cell_type": "code",
   "execution_count": 5,
   "id": "charged-mercury",
   "metadata": {},
   "outputs": [],
   "source": [
    "route_ids = list(stops_nodes_df.columns[3:])"
   ]
  },
  {
   "cell_type": "code",
   "execution_count": 6,
   "id": "official-huntington",
   "metadata": {},
   "outputs": [],
   "source": [
    "def graph_to_node_gdf(G):\n",
    "    \"\"\"Converts the given graph to a GeoDataFrame of its nodes.\"\"\"\n",
    "    nodes, data = zip(*G.nodes(data=True))\n",
    "    geom = [Point(node[0], node[1]) for node in nodes]\n",
    "    nodes_gdf = gpd.GeoDataFrame(data,\n",
    "                                 index=list(nodes),\n",
    "                                 crs=CRS_LATLON,\n",
    "                                 geometry=geom)\n",
    "    return nodes_gdf"
   ]
  },
  {
   "cell_type": "code",
   "execution_count": 7,
   "id": "verified-moderator",
   "metadata": {},
   "outputs": [],
   "source": [
    "def graph_to_edge_gdf(G):\n",
    "    \"\"\"Converts the given graph to a GeoDataFrame of its edges.\"\"\"\n",
    "    u, v, data = zip(*G.edges(data=True))\n",
    "    edges = list(zip(u, v))\n",
    "    attrs = nx.get_edge_attributes(G, 'speed')\n",
    "    geom = [\n",
    "        LineString((Point(edge[0][0],\n",
    "                          edge[0][1]), Point(edge[1][0], edge[1][1])))\n",
    "        for edge in edges\n",
    "    ]\n",
    "    edge_index = [(edge[0] + edge[1]) for edge in edges]\n",
    "    edges_gdf = gpd.GeoDataFrame(data,\n",
    "                                 index=edge_index,\n",
    "                                 crs=CRS_LATLON,\n",
    "                                 geometry=list(geom))\n",
    "    edges_gdf['length'] = edges_gdf.geometry.length\n",
    "    edges_gdf = edges_gdf.drop(columns={\n",
    "        'route_shor',\n",
    "        'route_long',\n",
    "        'color',\n",
    "        'ShpName',\n",
    "        'Wkb',\n",
    "        'Wkt',\n",
    "        'Json',\n",
    "    }, errors='ignore')\n",
    "    return edges_gdf"
   ]
  },
  {
   "cell_type": "code",
   "execution_count": 8,
   "id": "muslim-consideration",
   "metadata": {},
   "outputs": [],
   "source": [
    "def get_node(mg, point):\n",
    "    threshold = 0.00001\n",
    "    for node in route_mg.nodes():\n",
    "        if abs(node[0] - point[0]) < threshold and abs(node[1] - point[1]) < threshold:\n",
    "            return node\n",
    "    return None"
   ]
  },
  {
   "cell_type": "code",
   "execution_count": 9,
   "id": "focal-moment",
   "metadata": {},
   "outputs": [],
   "source": [
    "route_mgs = []\n",
    "\n",
    "for route_id in route_ids:\n",
    "    route_mg = nx.read_shp(f'{EXPORTS_DIR}/shp/manhattan/routes/{route_id}.shp', simplify=False)\n",
    "    route_mg.graph['crs'] = CRS_LATLON\n",
    "    route_mgs.append(route_mg)"
   ]
  },
  {
   "cell_type": "code",
   "execution_count": 10,
   "id": "graphic-david",
   "metadata": {},
   "outputs": [],
   "source": [
    "all_routes_mg = route_mgs[0]\n",
    "\n",
    "for i, route_mg in enumerate(route_mgs[1:]):\n",
    "    all_routes_mg = nx.compose(all_routes_mg, route_mg)"
   ]
  },
  {
   "cell_type": "code",
   "execution_count": 11,
   "id": "framed-walker",
   "metadata": {},
   "outputs": [],
   "source": [
    "import pickle\n",
    "f = open(f'{EXPORTS_DIR}/pkl/avg_speed_attr_dict.pkl', 'rb')\n",
    "avg_speed_attr_dict = pickle.load(f)\n",
    "f.close()"
   ]
  },
  {
   "cell_type": "code",
   "execution_count": 12,
   "id": "dedicated-lexington",
   "metadata": {},
   "outputs": [],
   "source": [
    "f = open(f'{EXPORTS_DIR}/pkl/all_trip_attr_dict.pkl', 'rb')\n",
    "all_trip_attr_dict = pickle.load(f)\n",
    "f.close()"
   ]
  },
  {
   "cell_type": "code",
   "execution_count": 13,
   "id": "electrical-coast",
   "metadata": {},
   "outputs": [],
   "source": [
    "nx.set_edge_attributes(all_routes_mg, avg_speed_attr_dict)"
   ]
  },
  {
   "cell_type": "code",
   "execution_count": 14,
   "id": "current-poverty",
   "metadata": {},
   "outputs": [],
   "source": [
    "all_nodes_gdf = graph_to_node_gdf(all_routes_mg)\n",
    "all_edges_gdf = graph_to_edge_gdf(all_routes_mg)"
   ]
  },
  {
   "cell_type": "code",
   "execution_count": 15,
   "id": "demographic-anatomy",
   "metadata": {},
   "outputs": [],
   "source": [
    "edges = ((edge[0], edge[1]) for edge in all_routes_mg.edges(data=True) if 'speeds_0' in edge[2])\n",
    "speed_mg = all_routes_mg.edge_subgraph(edges)\n",
    "nx.set_edge_attributes(speed_mg, avg_speed_attr_dict)"
   ]
  },
  {
   "cell_type": "code",
   "execution_count": 16,
   "id": "dirty-abraham",
   "metadata": {},
   "outputs": [],
   "source": [
    "speed_edges_gdf = graph_to_edge_gdf(speed_mg)"
   ]
  },
  {
   "cell_type": "code",
   "execution_count": 17,
   "id": "boring-wisconsin",
   "metadata": {},
   "outputs": [
    {
     "data": {
      "image/png": "[encoded data removed]",
      "text/plain": [
       "<Figure size 720x720 with 2 Axes>"
      ]
     },
     "metadata": {
      "needs_background": "light"
     },
     "output_type": "display_data"
    }
   ],
   "source": [
    "fig, ax = plt.subplots(figsize=(10, 10))\n",
    "speed_edges_gdf.plot(ax=ax, column='speeds_0', cmap='RdBu', zorder=2, linewidth=3, legend=True)\n",
    "ax.set_facecolor('#777')"
   ]
  },
  {
   "cell_type": "code",
   "execution_count": 18,
   "id": "extra-chinese",
   "metadata": {},
   "outputs": [
    {
     "name": "stdout",
     "output_type": "stream",
     "text": [
      "326\n"
     ]
    },
    {
     "data": {
      "text/html": [
       "<div>\n",
       "<style scoped>\n",
       "    .dataframe tbody tr th:only-of-type {\n",
       "        vertical-align: middle;\n",
       "    }\n",
       "\n",
       "    .dataframe tbody tr th {\n",
       "        vertical-align: top;\n",
       "    }\n",
       "\n",
       "    .dataframe thead th {\n",
       "        text-align: right;\n",
       "    }\n",
       "</style>\n",
       "<table border=\"1\" class=\"dataframe\">\n",
       "  <thead>\n",
       "    <tr style=\"text-align: right;\">\n",
       "      <th></th>\n",
       "      <th>edge</th>\n",
       "      <th>layer</th>\n",
       "      <th>path</th>\n",
       "      <th>OF_C1-Weekday-036000_M1_102</th>\n",
       "      <th>OF_C1-Weekday-038700_M1_103</th>\n",
       "      <th>OF_C1-Weekday-040200_M1_104</th>\n",
       "      <th>OF_C1-Weekday-041700_M1_105</th>\n",
       "      <th>OF_C1-Weekday-043100_M1_106</th>\n",
       "      <th>OF_C1-Weekday-044600_M1_107</th>\n",
       "      <th>OF_C1-Weekday-046100_M1_108</th>\n",
       "      <th>...</th>\n",
       "      <th>MQ_C1-Weekday-101100_M57_465</th>\n",
       "      <th>MQ_C1-Weekday-104100_M57_459</th>\n",
       "      <th>MQ_C1-Weekday-105100_M57_464</th>\n",
       "      <th>MQ_C1-Weekday-107100_M57_461</th>\n",
       "      <th>MQ_C1-Weekday-108100_M57_460</th>\n",
       "      <th>MQ_C1-Weekday-111100_M57_465</th>\n",
       "      <th>MQ_C1-Weekday-117100_M57_461</th>\n",
       "      <th>MQ_C1-Weekday-121100_M57_465</th>\n",
       "      <th>MQ_C1-Weekday-133500_M57_465</th>\n",
       "      <th>MQ_C1-Weekday-142500_M57_465</th>\n",
       "    </tr>\n",
       "  </thead>\n",
       "  <tbody>\n",
       "    <tr>\n",
       "      <th>0</th>\n",
       "      <td>(-73.98112, 40.75027, -73.98067, 40.7509)</td>\n",
       "      <td>Intersection</td>\n",
       "      <td>C:/Users/cpcar/AppData/Local/Temp/processing_c...</td>\n",
       "      <td>85.0</td>\n",
       "      <td>85.0</td>\n",
       "      <td>85.0</td>\n",
       "      <td>85.0</td>\n",
       "      <td>85.0</td>\n",
       "      <td>85.0</td>\n",
       "      <td>85.0</td>\n",
       "      <td>...</td>\n",
       "      <td>NaN</td>\n",
       "      <td>NaN</td>\n",
       "      <td>NaN</td>\n",
       "      <td>NaN</td>\n",
       "      <td>NaN</td>\n",
       "      <td>NaN</td>\n",
       "      <td>NaN</td>\n",
       "      <td>NaN</td>\n",
       "      <td>NaN</td>\n",
       "      <td>NaN</td>\n",
       "    </tr>\n",
       "    <tr>\n",
       "      <th>1</th>\n",
       "      <td>(-73.98067, 40.7509, -73.98022, 40.75151)</td>\n",
       "      <td>Intersection</td>\n",
       "      <td>C:/Users/cpcar/AppData/Local/Temp/processing_c...</td>\n",
       "      <td>86.0</td>\n",
       "      <td>86.0</td>\n",
       "      <td>86.0</td>\n",
       "      <td>86.0</td>\n",
       "      <td>86.0</td>\n",
       "      <td>86.0</td>\n",
       "      <td>86.0</td>\n",
       "      <td>...</td>\n",
       "      <td>NaN</td>\n",
       "      <td>NaN</td>\n",
       "      <td>NaN</td>\n",
       "      <td>NaN</td>\n",
       "      <td>NaN</td>\n",
       "      <td>NaN</td>\n",
       "      <td>NaN</td>\n",
       "      <td>NaN</td>\n",
       "      <td>NaN</td>\n",
       "      <td>NaN</td>\n",
       "    </tr>\n",
       "    <tr>\n",
       "      <th>2</th>\n",
       "      <td>(-73.97669, 40.76411, -73.97612, 40.76386)</td>\n",
       "      <td>NaN</td>\n",
       "      <td>NaN</td>\n",
       "      <td>NaN</td>\n",
       "      <td>NaN</td>\n",
       "      <td>NaN</td>\n",
       "      <td>NaN</td>\n",
       "      <td>NaN</td>\n",
       "      <td>NaN</td>\n",
       "      <td>NaN</td>\n",
       "      <td>...</td>\n",
       "      <td>45.0</td>\n",
       "      <td>45.0</td>\n",
       "      <td>45.0</td>\n",
       "      <td>45.0</td>\n",
       "      <td>45.0</td>\n",
       "      <td>45.0</td>\n",
       "      <td>45.0</td>\n",
       "      <td>45.0</td>\n",
       "      <td>45.0</td>\n",
       "      <td>45.0</td>\n",
       "    </tr>\n",
       "  </tbody>\n",
       "</table>\n",
       "<p>3 rows × 91 columns</p>\n",
       "</div>"
      ],
      "text/plain": [
       "                                         edge         layer  \\\n",
       "0   (-73.98112, 40.75027, -73.98067, 40.7509)  Intersection   \n",
       "1   (-73.98067, 40.7509, -73.98022, 40.75151)  Intersection   \n",
       "2  (-73.97669, 40.76411, -73.97612, 40.76386)           NaN   \n",
       "\n",
       "                                                path  \\\n",
       "0  C:/Users/cpcar/AppData/Local/Temp/processing_c...   \n",
       "1  C:/Users/cpcar/AppData/Local/Temp/processing_c...   \n",
       "2                                                NaN   \n",
       "\n",
       "   OF_C1-Weekday-036000_M1_102  OF_C1-Weekday-038700_M1_103  \\\n",
       "0                         85.0                         85.0   \n",
       "1                         86.0                         86.0   \n",
       "2                          NaN                          NaN   \n",
       "\n",
       "   OF_C1-Weekday-040200_M1_104  OF_C1-Weekday-041700_M1_105  \\\n",
       "0                         85.0                         85.0   \n",
       "1                         86.0                         86.0   \n",
       "2                          NaN                          NaN   \n",
       "\n",
       "   OF_C1-Weekday-043100_M1_106  OF_C1-Weekday-044600_M1_107  \\\n",
       "0                         85.0                         85.0   \n",
       "1                         86.0                         86.0   \n",
       "2                          NaN                          NaN   \n",
       "\n",
       "   OF_C1-Weekday-046100_M1_108  ...  MQ_C1-Weekday-101100_M57_465  \\\n",
       "0                         85.0  ...                           NaN   \n",
       "1                         86.0  ...                           NaN   \n",
       "2                          NaN  ...                          45.0   \n",
       "\n",
       "   MQ_C1-Weekday-104100_M57_459  MQ_C1-Weekday-105100_M57_464  \\\n",
       "0                           NaN                           NaN   \n",
       "1                           NaN                           NaN   \n",
       "2                          45.0                          45.0   \n",
       "\n",
       "   MQ_C1-Weekday-107100_M57_461  MQ_C1-Weekday-108100_M57_460  \\\n",
       "0                           NaN                           NaN   \n",
       "1                           NaN                           NaN   \n",
       "2                          45.0                          45.0   \n",
       "\n",
       "   MQ_C1-Weekday-111100_M57_465  MQ_C1-Weekday-117100_M57_461  \\\n",
       "0                           NaN                           NaN   \n",
       "1                           NaN                           NaN   \n",
       "2                          45.0                          45.0   \n",
       "\n",
       "   MQ_C1-Weekday-121100_M57_465  MQ_C1-Weekday-133500_M57_465  \\\n",
       "0                           NaN                           NaN   \n",
       "1                           NaN                           NaN   \n",
       "2                          45.0                          45.0   \n",
       "\n",
       "   MQ_C1-Weekday-142500_M57_465  \n",
       "0                           NaN  \n",
       "1                           NaN  \n",
       "2                          45.0  \n",
       "\n",
       "[3 rows x 91 columns]"
      ]
     },
     "metadata": {},
     "output_type": "display_data"
    }
   ],
   "source": [
    "trip_mg = speed_mg\n",
    "nx.set_edge_attributes(trip_mg, all_trip_attr_dict)\n",
    "trip_edges_gdf = graph_to_edge_gdf(trip_mg)\n",
    "trip_edges_gdf = trip_edges_gdf.reset_index()\n",
    "trip_edges_gdf = trip_edges_gdf.rename(columns={'index': 'edge'})\n",
    "trip_edges_gdf = trip_edges_gdf.drop(columns=['route_id', 'route_dir', 'speeds_0', 'speeds_1', 'speeds_2', 'geometry', 'length'], errors='ignore')\n",
    "peek(trip_edges_gdf)"
   ]
  },
  {
   "cell_type": "code",
   "execution_count": 19,
   "id": "applied-circuit",
   "metadata": {},
   "outputs": [
    {
     "name": "stdout",
     "output_type": "stream",
     "text": [
      "326\n"
     ]
    },
    {
     "data": {
      "text/html": [
       "<div>\n",
       "<style scoped>\n",
       "    .dataframe tbody tr th:only-of-type {\n",
       "        vertical-align: middle;\n",
       "    }\n",
       "\n",
       "    .dataframe tbody tr th {\n",
       "        vertical-align: top;\n",
       "    }\n",
       "\n",
       "    .dataframe thead th {\n",
       "        text-align: right;\n",
       "    }\n",
       "</style>\n",
       "<table border=\"1\" class=\"dataframe\">\n",
       "  <thead>\n",
       "    <tr style=\"text-align: right;\">\n",
       "      <th></th>\n",
       "      <th>index</th>\n",
       "      <th>route_id</th>\n",
       "      <th>route_dir</th>\n",
       "      <th>layer</th>\n",
       "      <th>path</th>\n",
       "      <th>speeds_0</th>\n",
       "      <th>speeds_1</th>\n",
       "      <th>speeds_2</th>\n",
       "      <th>geometry</th>\n",
       "      <th>length</th>\n",
       "      <th>duration_0</th>\n",
       "      <th>duration_1</th>\n",
       "      <th>duration_2</th>\n",
       "    </tr>\n",
       "  </thead>\n",
       "  <tbody>\n",
       "    <tr>\n",
       "      <th>0</th>\n",
       "      <td>(-73.98112, 40.75027, -73.98067, 40.7509)</td>\n",
       "      <td>M4</td>\n",
       "      <td>M4_0</td>\n",
       "      <td>Intersection</td>\n",
       "      <td>C:/Users/cpcar/AppData/Local/Temp/processing_c...</td>\n",
       "      <td>2.909634</td>\n",
       "      <td>2.001864</td>\n",
       "      <td>2.421374</td>\n",
       "      <td>LINESTRING (-73.98112 40.75027, -73.98067 40.7...</td>\n",
       "      <td>85.163020</td>\n",
       "      <td>29.269320</td>\n",
       "      <td>42.541871</td>\n",
       "      <td>35.171361</td>\n",
       "    </tr>\n",
       "    <tr>\n",
       "      <th>1</th>\n",
       "      <td>(-73.98067, 40.7509, -73.98022, 40.75151)</td>\n",
       "      <td>M4</td>\n",
       "      <td>M4_0</td>\n",
       "      <td>Intersection</td>\n",
       "      <td>C:/Users/cpcar/AppData/Local/Temp/processing_c...</td>\n",
       "      <td>2.909634</td>\n",
       "      <td>2.001864</td>\n",
       "      <td>2.421374</td>\n",
       "      <td>LINESTRING (-73.98067 40.75090, -73.98022 40.7...</td>\n",
       "      <td>83.382612</td>\n",
       "      <td>28.657419</td>\n",
       "      <td>41.652496</td>\n",
       "      <td>34.436072</td>\n",
       "    </tr>\n",
       "    <tr>\n",
       "      <th>2</th>\n",
       "      <td>(-73.97669, 40.76411, -73.97612, 40.76386)</td>\n",
       "      <td>M57</td>\n",
       "      <td>M57_0</td>\n",
       "      <td>NaN</td>\n",
       "      <td>NaN</td>\n",
       "      <td>3.666894</td>\n",
       "      <td>1.953036</td>\n",
       "      <td>2.350320</td>\n",
       "      <td>LINESTRING (-73.97669 40.76411, -73.97612 40.7...</td>\n",
       "      <td>68.465612</td>\n",
       "      <td>18.671280</td>\n",
       "      <td>35.055996</td>\n",
       "      <td>29.130340</td>\n",
       "    </tr>\n",
       "  </tbody>\n",
       "</table>\n",
       "</div>"
      ],
      "text/plain": [
       "                                        index route_id route_dir  \\\n",
       "0   (-73.98112, 40.75027, -73.98067, 40.7509)       M4      M4_0   \n",
       "1   (-73.98067, 40.7509, -73.98022, 40.75151)       M4      M4_0   \n",
       "2  (-73.97669, 40.76411, -73.97612, 40.76386)      M57     M57_0   \n",
       "\n",
       "          layer                                               path  speeds_0  \\\n",
       "0  Intersection  C:/Users/cpcar/AppData/Local/Temp/processing_c...  2.909634   \n",
       "1  Intersection  C:/Users/cpcar/AppData/Local/Temp/processing_c...  2.909634   \n",
       "2           NaN                                                NaN  3.666894   \n",
       "\n",
       "   speeds_1  speeds_2                                           geometry  \\\n",
       "0  2.001864  2.421374  LINESTRING (-73.98112 40.75027, -73.98067 40.7...   \n",
       "1  2.001864  2.421374  LINESTRING (-73.98067 40.75090, -73.98022 40.7...   \n",
       "2  1.953036  2.350320  LINESTRING (-73.97669 40.76411, -73.97612 40.7...   \n",
       "\n",
       "      length  duration_0  duration_1  duration_2  \n",
       "0  85.163020   29.269320   42.541871   35.171361  \n",
       "1  83.382612   28.657419   41.652496   34.436072  \n",
       "2  68.465612   18.671280   35.055996   29.130340  "
      ]
     },
     "metadata": {},
     "output_type": "display_data"
    }
   ],
   "source": [
    "ip_edges_gdf = speed_edges_gdf.reset_index()\n",
    "ip_edges_gdf['length'] = ip_edges_gdf['length'] * (0.11 / 0.000001)\n",
    "ip_edges_gdf['duration_0'] = ip_edges_gdf['length'] / ip_edges_gdf['speeds_0']\n",
    "ip_edges_gdf['duration_1'] = ip_edges_gdf['length'] / ip_edges_gdf['speeds_1']\n",
    "ip_edges_gdf['duration_2'] = ip_edges_gdf['length'] / ip_edges_gdf['speeds_2']\n",
    "ip_edges_gdf[['duration_0', 'duration_1', 'duration_2']] = ip_edges_gdf[['duration_0', 'duration_1', 'duration_2']].fillna(0)\n",
    "peek(ip_edges_gdf)"
   ]
  },
  {
   "cell_type": "code",
   "execution_count": 20,
   "id": "static-summary",
   "metadata": {},
   "outputs": [
    {
     "name": "stdout",
     "output_type": "stream",
     "text": [
      "326\n"
     ]
    },
    {
     "data": {
      "text/html": [
       "<div>\n",
       "<style scoped>\n",
       "    .dataframe tbody tr th:only-of-type {\n",
       "        vertical-align: middle;\n",
       "    }\n",
       "\n",
       "    .dataframe tbody tr th {\n",
       "        vertical-align: top;\n",
       "    }\n",
       "\n",
       "    .dataframe thead th {\n",
       "        text-align: right;\n",
       "    }\n",
       "</style>\n",
       "<table border=\"1\" class=\"dataframe\">\n",
       "  <thead>\n",
       "    <tr style=\"text-align: right;\">\n",
       "      <th></th>\n",
       "      <th>OF_C1-Weekday-036000_M1_102</th>\n",
       "      <th>OF_C1-Weekday-038700_M1_103</th>\n",
       "      <th>OF_C1-Weekday-040200_M1_104</th>\n",
       "      <th>OF_C1-Weekday-041700_M1_105</th>\n",
       "      <th>OF_C1-Weekday-043100_M1_106</th>\n",
       "      <th>OF_C1-Weekday-044600_M1_107</th>\n",
       "      <th>OF_C1-Weekday-046100_M1_108</th>\n",
       "      <th>OF_C1-Weekday-047600_M1_109</th>\n",
       "      <th>OF_C1-Weekday-049000_M1_101</th>\n",
       "      <th>OF_C1-Weekday-051000_M1_111</th>\n",
       "      <th>...</th>\n",
       "      <th>MQ_C1-Weekday-101100_M57_465</th>\n",
       "      <th>MQ_C1-Weekday-104100_M57_459</th>\n",
       "      <th>MQ_C1-Weekday-105100_M57_464</th>\n",
       "      <th>MQ_C1-Weekday-107100_M57_461</th>\n",
       "      <th>MQ_C1-Weekday-108100_M57_460</th>\n",
       "      <th>MQ_C1-Weekday-111100_M57_465</th>\n",
       "      <th>MQ_C1-Weekday-117100_M57_461</th>\n",
       "      <th>MQ_C1-Weekday-121100_M57_465</th>\n",
       "      <th>MQ_C1-Weekday-133500_M57_465</th>\n",
       "      <th>MQ_C1-Weekday-142500_M57_465</th>\n",
       "    </tr>\n",
       "  </thead>\n",
       "  <tbody>\n",
       "    <tr>\n",
       "      <th>0</th>\n",
       "      <td>85.0</td>\n",
       "      <td>85.0</td>\n",
       "      <td>85.0</td>\n",
       "      <td>85.0</td>\n",
       "      <td>85.0</td>\n",
       "      <td>85.0</td>\n",
       "      <td>85.0</td>\n",
       "      <td>85.0</td>\n",
       "      <td>85.0</td>\n",
       "      <td>85.0</td>\n",
       "      <td>...</td>\n",
       "      <td>NaN</td>\n",
       "      <td>NaN</td>\n",
       "      <td>NaN</td>\n",
       "      <td>NaN</td>\n",
       "      <td>NaN</td>\n",
       "      <td>NaN</td>\n",
       "      <td>NaN</td>\n",
       "      <td>NaN</td>\n",
       "      <td>NaN</td>\n",
       "      <td>NaN</td>\n",
       "    </tr>\n",
       "    <tr>\n",
       "      <th>1</th>\n",
       "      <td>86.0</td>\n",
       "      <td>86.0</td>\n",
       "      <td>86.0</td>\n",
       "      <td>86.0</td>\n",
       "      <td>86.0</td>\n",
       "      <td>86.0</td>\n",
       "      <td>86.0</td>\n",
       "      <td>86.0</td>\n",
       "      <td>86.0</td>\n",
       "      <td>86.0</td>\n",
       "      <td>...</td>\n",
       "      <td>NaN</td>\n",
       "      <td>NaN</td>\n",
       "      <td>NaN</td>\n",
       "      <td>NaN</td>\n",
       "      <td>NaN</td>\n",
       "      <td>NaN</td>\n",
       "      <td>NaN</td>\n",
       "      <td>NaN</td>\n",
       "      <td>NaN</td>\n",
       "      <td>NaN</td>\n",
       "    </tr>\n",
       "    <tr>\n",
       "      <th>2</th>\n",
       "      <td>NaN</td>\n",
       "      <td>NaN</td>\n",
       "      <td>NaN</td>\n",
       "      <td>NaN</td>\n",
       "      <td>NaN</td>\n",
       "      <td>NaN</td>\n",
       "      <td>NaN</td>\n",
       "      <td>NaN</td>\n",
       "      <td>NaN</td>\n",
       "      <td>NaN</td>\n",
       "      <td>...</td>\n",
       "      <td>45.0</td>\n",
       "      <td>45.0</td>\n",
       "      <td>45.0</td>\n",
       "      <td>45.0</td>\n",
       "      <td>45.0</td>\n",
       "      <td>45.0</td>\n",
       "      <td>45.0</td>\n",
       "      <td>45.0</td>\n",
       "      <td>45.0</td>\n",
       "      <td>45.0</td>\n",
       "    </tr>\n",
       "  </tbody>\n",
       "</table>\n",
       "<p>3 rows × 88 columns</p>\n",
       "</div>"
      ],
      "text/plain": [
       "   OF_C1-Weekday-036000_M1_102  OF_C1-Weekday-038700_M1_103  \\\n",
       "0                         85.0                         85.0   \n",
       "1                         86.0                         86.0   \n",
       "2                          NaN                          NaN   \n",
       "\n",
       "   OF_C1-Weekday-040200_M1_104  OF_C1-Weekday-041700_M1_105  \\\n",
       "0                         85.0                         85.0   \n",
       "1                         86.0                         86.0   \n",
       "2                          NaN                          NaN   \n",
       "\n",
       "   OF_C1-Weekday-043100_M1_106  OF_C1-Weekday-044600_M1_107  \\\n",
       "0                         85.0                         85.0   \n",
       "1                         86.0                         86.0   \n",
       "2                          NaN                          NaN   \n",
       "\n",
       "   OF_C1-Weekday-046100_M1_108  OF_C1-Weekday-047600_M1_109  \\\n",
       "0                         85.0                         85.0   \n",
       "1                         86.0                         86.0   \n",
       "2                          NaN                          NaN   \n",
       "\n",
       "   OF_C1-Weekday-049000_M1_101  OF_C1-Weekday-051000_M1_111  ...  \\\n",
       "0                         85.0                         85.0  ...   \n",
       "1                         86.0                         86.0  ...   \n",
       "2                          NaN                          NaN  ...   \n",
       "\n",
       "   MQ_C1-Weekday-101100_M57_465  MQ_C1-Weekday-104100_M57_459  \\\n",
       "0                           NaN                           NaN   \n",
       "1                           NaN                           NaN   \n",
       "2                          45.0                          45.0   \n",
       "\n",
       "   MQ_C1-Weekday-105100_M57_464  MQ_C1-Weekday-107100_M57_461  \\\n",
       "0                           NaN                           NaN   \n",
       "1                           NaN                           NaN   \n",
       "2                          45.0                          45.0   \n",
       "\n",
       "   MQ_C1-Weekday-108100_M57_460  MQ_C1-Weekday-111100_M57_465  \\\n",
       "0                           NaN                           NaN   \n",
       "1                           NaN                           NaN   \n",
       "2                          45.0                          45.0   \n",
       "\n",
       "   MQ_C1-Weekday-117100_M57_461  MQ_C1-Weekday-121100_M57_465  \\\n",
       "0                           NaN                           NaN   \n",
       "1                           NaN                           NaN   \n",
       "2                          45.0                          45.0   \n",
       "\n",
       "   MQ_C1-Weekday-133500_M57_465  MQ_C1-Weekday-142500_M57_465  \n",
       "0                           NaN                           NaN  \n",
       "1                           NaN                           NaN  \n",
       "2                          45.0                          45.0  \n",
       "\n",
       "[3 rows x 88 columns]"
      ]
     },
     "metadata": {},
     "output_type": "display_data"
    }
   ],
   "source": [
    "edge_manifest = ip_edges_gdf[['index', 'speeds_0', 'speeds_1', 'speeds_2', 'length', 'duration_0', 'duration_1', 'duration_2']]\n",
    "edge_manifest = edge_manifest.rename(columns={'index': 'edge'})\n",
    "edge_manifest = edge_manifest.merge(trip_edges_gdf, left_on='edge', right_on='edge', how='left')\n",
    "peek(edge_manifest.iloc[:, 10:])"
   ]
  },
  {
   "cell_type": "code",
   "execution_count": 21,
   "id": "returning-combination",
   "metadata": {},
   "outputs": [],
   "source": [
    "def get_start_node(edge):\n",
    "    return edge[0:2]\n",
    "def get_end_node(edge):\n",
    "    return edge[2:]"
   ]
  },
  {
   "cell_type": "code",
   "execution_count": 22,
   "id": "liable-turtle",
   "metadata": {},
   "outputs": [],
   "source": [
    "node_edge_manifest = edge_manifest[['edge']]\n",
    "node_edge_manifest['start'] = node_edge_manifest['edge'].apply(lambda x: get_start_node(x))\n",
    "node_edge_manifest['end'] = node_edge_manifest['edge'].apply(lambda x: get_end_node(x))\n",
    "\n",
    "start_nodes = list(set(node_edge_manifest['start']))\n",
    "end_nodes = list(set(node_edge_manifest['end']))\n",
    "nodes = list(set(start_nodes + end_nodes))\n",
    "node_manifest = pd.DataFrame(nodes)\n",
    "node_manifest['node'] = node_manifest.apply(lambda x: (x[0], x[1]), axis=1)\n",
    "node_manifest = node_manifest[['node']]\n",
    "\n",
    "node_edge_manifest['start'] = node_edge_manifest['start'].apply(lambda x: nodes.index(x))\n",
    "node_edge_manifest['end'] = node_edge_manifest['end'].apply(lambda x: nodes.index(x))\n",
    "node_edge_manifest = node_edge_manifest[['start', 'end']]"
   ]
  },
  {
   "cell_type": "code",
   "execution_count": 23,
   "id": "dutch-trainer",
   "metadata": {},
   "outputs": [],
   "source": [
    "node_latlon_df = pd.DataFrame(nodes, columns=['lon', 'lat'])\n",
    "ip_nodes_gdf = gpd.GeoDataFrame({}, geometry=gpd.points_from_xy(node_latlon_df['lon'], node_latlon_df['lat']), crs=CRS_LATLON)"
   ]
  },
  {
   "cell_type": "code",
   "execution_count": 24,
   "id": "brutal-spirituality",
   "metadata": {},
   "outputs": [],
   "source": [
    "def get_prev_edges(row, manifest):\n",
    "    start = row['start']\n",
    "    prev_edges = list(manifest[manifest['end'] == start].index)\n",
    "    return prev_edges"
   ]
  },
  {
   "cell_type": "code",
   "execution_count": 25,
   "id": "driven-technical",
   "metadata": {},
   "outputs": [],
   "source": [
    "def get_next_edges(row, manifest):\n",
    "    end = row['end']\n",
    "    next_edges = list(manifest[manifest['start'] == end].index)\n",
    "    return next_edges"
   ]
  },
  {
   "cell_type": "code",
   "execution_count": 26,
   "id": "timely-metabolism",
   "metadata": {},
   "outputs": [
    {
     "name": "stdout",
     "output_type": "stream",
     "text": [
      "326\n"
     ]
    },
    {
     "data": {
      "text/html": [
       "<div>\n",
       "<style scoped>\n",
       "    .dataframe tbody tr th:only-of-type {\n",
       "        vertical-align: middle;\n",
       "    }\n",
       "\n",
       "    .dataframe tbody tr th {\n",
       "        vertical-align: top;\n",
       "    }\n",
       "\n",
       "    .dataframe thead th {\n",
       "        text-align: right;\n",
       "    }\n",
       "</style>\n",
       "<table border=\"1\" class=\"dataframe\">\n",
       "  <thead>\n",
       "    <tr style=\"text-align: right;\">\n",
       "      <th></th>\n",
       "      <th>edge</th>\n",
       "      <th>start</th>\n",
       "      <th>end</th>\n",
       "      <th>prev</th>\n",
       "      <th>next</th>\n",
       "    </tr>\n",
       "  </thead>\n",
       "  <tbody>\n",
       "    <tr>\n",
       "      <th>0</th>\n",
       "      <td>0</td>\n",
       "      <td>277</td>\n",
       "      <td>278</td>\n",
       "      <td>[85]</td>\n",
       "      <td>[1]</td>\n",
       "    </tr>\n",
       "    <tr>\n",
       "      <th>1</th>\n",
       "      <td>1</td>\n",
       "      <td>278</td>\n",
       "      <td>273</td>\n",
       "      <td>[0]</td>\n",
       "      <td>[307]</td>\n",
       "    </tr>\n",
       "    <tr>\n",
       "      <th>2</th>\n",
       "      <td>2</td>\n",
       "      <td>0</td>\n",
       "      <td>83</td>\n",
       "      <td>[23]</td>\n",
       "      <td>[141]</td>\n",
       "    </tr>\n",
       "  </tbody>\n",
       "</table>\n",
       "</div>"
      ],
      "text/plain": [
       "   edge  start  end  prev   next\n",
       "0     0    277  278  [85]    [1]\n",
       "1     1    278  273   [0]  [307]\n",
       "2     2      0   83  [23]  [141]"
      ]
     },
     "metadata": {},
     "output_type": "display_data"
    }
   ],
   "source": [
    "edge_node_manifest = node_edge_manifest.reset_index().rename(columns={'index': 'edge'})\n",
    "edge_node_manifest['prev'] = [[] for i in range(len(edge_node_manifest))]\n",
    "edge_node_manifest['next'] = [[] for i in range(len(edge_node_manifest))]\n",
    "edge_node_manifest['prev'] = edge_node_manifest.apply(lambda x: get_prev_edges(x, edge_node_manifest), axis=1)\n",
    "edge_node_manifest['next'] = edge_node_manifest.apply(lambda x: get_next_edges(x, edge_node_manifest), axis=1)\n",
    "peek(edge_node_manifest)"
   ]
  },
  {
   "cell_type": "code",
   "execution_count": 27,
   "id": "greatest-throw",
   "metadata": {},
   "outputs": [],
   "source": [
    "prev_edges = list(edge_node_manifest['prev'])\n",
    "next_edges = list(edge_node_manifest['next'])\n",
    "start_nodes = list(edge_node_manifest['start'])"
   ]
  },
  {
   "cell_type": "code",
   "execution_count": 28,
   "id": "nearby-herald",
   "metadata": {},
   "outputs": [],
   "source": [
    "def get_trip_df(trip_id):\n",
    "    trip_df = edge_manifest[[trip_id]]\n",
    "    trip_df = trip_df.dropna()\n",
    "    trip_df = trip_df.sort_values(by=[trip_id])\n",
    "    return trip_df"
   ]
  },
  {
   "cell_type": "code",
   "execution_count": 29,
   "id": "dangerous-wealth",
   "metadata": {},
   "outputs": [],
   "source": [
    "import gurobipy as gp\n",
    "from gurobipy import GRB"
   ]
  },
  {
   "cell_type": "code",
   "execution_count": 211,
   "id": "floppy-hobby",
   "metadata": {},
   "outputs": [],
   "source": [
    "N_EDGES = len(edge_manifest)\n",
    "N_NODES = len(node_manifest)\n",
    "EDGE_POWER_SUPPLY = 80 # kW\n",
    "EDGE_POWER_DEMAND = 0.003 # kWh/m\n",
    "EDGE_COST_CABLE = 500 # $/m\n",
    "NODE_TRANSMITTER_COST = 50000 # $/unit\n",
    "BATTERY_COST = 800 # $/kWh"
   ]
  },
  {
   "cell_type": "code",
   "execution_count": 212,
   "id": "stuffed-cathedral",
   "metadata": {},
   "outputs": [],
   "source": [
    "cable_costs = list(ip_edges_gdf['length'] * EDGE_COST_CABLE)\n",
    "\n",
    "edge_power_supplies = [list((ip_edges_gdf[f'duration_{h}'] / 60 / 60) * EDGE_POWER_SUPPLY) for h in range(3)]\n",
    "edge_power_demands = [list(ip_edges_gdf[f'length'] * EDGE_POWER_DEMAND) for h in range(3)]\n",
    "\n",
    "power_costs = [.00168, .002384, .002384] # $/kWh"
   ]
  },
  {
   "cell_type": "code",
   "execution_count": 213,
   "id": "artificial-alloy",
   "metadata": {},
   "outputs": [],
   "source": [
    "def hash_trip(trip):\n",
    "    return ','.join([str(x) for x in trip])"
   ]
  },
  {
   "cell_type": "code",
   "execution_count": 214,
   "id": "german-failure",
   "metadata": {},
   "outputs": [
    {
     "data": {
      "text/plain": [
       "2"
      ]
     },
     "execution_count": 214,
     "metadata": {},
     "output_type": "execute_result"
    }
   ],
   "source": [
    "trip_ids = list(edge_manifest.columns[10:])\n",
    "trip_ids\n",
    "trips = []\n",
    "trip_hashes = set([])\n",
    "\n",
    "for trip_id in trip_ids:\n",
    "    trip_df = get_trip_df(trip_id)\n",
    "    trip = list(trip_df.index)\n",
    "    trip_hash = hash_trip(trip)\n",
    "    if trip_hash not in trip_hashes:\n",
    "        trips.append(trip)\n",
    "        trip_hashes.add(trip_hash)\n",
    "len(trips)"
   ]
  },
  {
   "cell_type": "code",
   "execution_count": 215,
   "id": "regulated-province",
   "metadata": {},
   "outputs": [],
   "source": [
    "HOURS = 3"
   ]
  },
  {
   "cell_type": "code",
   "execution_count": 216,
   "id": "complimentary-token",
   "metadata": {},
   "outputs": [
    {
     "name": "stdout",
     "output_type": "stream",
     "text": [
      "20\n"
     ]
    }
   ],
   "source": [
    "BATTERY_SIZE = 20 # kWh\n",
    "print(BATTERY_SIZE)"
   ]
  },
  {
   "cell_type": "code",
   "execution_count": 273,
   "id": "driving-responsibility",
   "metadata": {},
   "outputs": [],
   "source": [
    "def create_model(name, power_costs=power_costs, node_transmitter_cost=NODE_TRANSMITTER_COST, battery_size=BATTERY_SIZE):\n",
    "    model = gp.Model(name)\n",
    "\n",
    "    x = model.addVars(N_EDGES, vtype=GRB.BINARY)\n",
    "    y = model.addVars(N_NODES, vtype=GRB.BINARY)\n",
    "    z = model.addVars(len(trips), vtype=GRB.BINARY)\n",
    "\n",
    "    for k, trip in enumerate(trips):\n",
    "        for h in range(3):\n",
    "            power = np.sum([edge_power_supplies[h][i] for i in trip])\n",
    "            power_supplied = np.sum([edge_power_supplies[h][i] for i in trip])\n",
    "            power_demanded = np.sum([edge_power_demands[h][i] for i in trip])\n",
    "            battery = battery_size\n",
    "            BATTERY_MAX = battery_size\n",
    "            BATTERY_MIN = BATTERY_MAX * 0.1\n",
    "\n",
    "            for j in range(1, len(trip)):\n",
    "                net_power = gp.quicksum(-edge_power_demands[h][i] + x[i] * edge_power_supplies[h][i] for i in trip[0:j])\n",
    "                model.addConstr(battery + net_power * z[k] >= BATTERY_MIN)\n",
    "                model.addConstr(battery + net_power * z[k] <= BATTERY_MAX)\n",
    "\n",
    "            for j in trip:\n",
    "                transmitter = y[start_nodes[j]]\n",
    "                prev_cable = gp.quicksum(x[i] for i in prev_edges[j])\n",
    "                model.addConstr(x[j] <= transmitter + prev_cable)\n",
    "\n",
    "    model.addConstr(gp.quicksum(y[start_nodes[i]] * x[i] for i in range(N_EDGES)) == y.sum())\n",
    "    model.addConstr(z.sum() >= len(trips))\n",
    "\n",
    "    cable_cost = gp.quicksum((x[i] * cable_costs[i]) for i in range(N_EDGES))\n",
    "    transmitter_cost = gp.quicksum((y[i] * node_transmitter_cost) for i in range(N_NODES))\n",
    "    power_cost = gp.quicksum(edge_power_supplies[h][i] * x[i] * power_costs[h] for h in range(3) for i in range(N_EDGES)) * 365 * 24 * 10 \n",
    "\n",
    "    objective = cable_cost + transmitter_cost + power_cost\n",
    "    model.setObjective(objective, GRB.MINIMIZE)\n",
    "    \n",
    "    model.params.outputflag = 0\n",
    "    model.update()\n",
    "    model.Params.MIPGap = 0.01\n",
    "    model.optimize()\n",
    "    return model"
   ]
  },
  {
   "cell_type": "code",
   "execution_count": 274,
   "id": "liberal-pricing",
   "metadata": {},
   "outputs": [],
   "source": [
    "def plot_model(model, ax=None):\n",
    "    opt_x = model.getAttr('X', model.getVars()[:N_EDGES])\n",
    "    xdf = pd.DataFrame(opt_x, columns=['x'])\n",
    "    \n",
    "    opt_y = model.getAttr('X', model.getVars()[N_EDGES:N_EDGES+N_NODES])\n",
    "    ydf = pd.DataFrame(opt_y, columns=['y'])\n",
    "    \n",
    "    plot_results(xdf, ydf, ax=ax)"
   ]
  },
  {
   "cell_type": "code",
   "execution_count": 275,
   "id": "olive-logic",
   "metadata": {},
   "outputs": [],
   "source": [
    "def plot_results(xdf, ydf, ax):\n",
    "    mxdf = ip_edges_gdf.merge(xdf, left_index=True, right_index=True, how='left')\n",
    "    mxdf.plot(ax=ax, column='x', cmap='Blues', zorder=2, linewidth=3)\n",
    "    \n",
    "    mydf = ip_nodes_gdf.merge(ydf, left_index=True, right_index=True, how='left')\n",
    "    mydf = mydf[mydf['y'] == 1]\n",
    "    mydf.plot(ax=ax, color='C1', zorder=3, markersize=30)\n",
    "    \n",
    "    ax.get_xaxis().set_visible(False)\n",
    "    ax.get_yaxis().set_visible(False)\n",
    "    \n",
    "    ax.set_facecolor('#777')"
   ]
  },
  {
   "cell_type": "code",
   "execution_count": 276,
   "id": "reduced-auckland",
   "metadata": {},
   "outputs": [],
   "source": [
    "def test_model(name, power_costs=power_costs, node_transmitter_cost=NODE_TRANSMITTER_COST, ax=None, battery_size=BATTERY_SIZE):\n",
    "    model = create_model(name, power_costs, node_transmitter_cost, battery_size)\n",
    "    print(model.ObjVal)\n",
    "    plot_model(model, ax=ax)"
   ]
  },
  {
   "cell_type": "code",
   "execution_count": 277,
   "id": "processed-archives",
   "metadata": {},
   "outputs": [],
   "source": [
    "#fig, ax = plt.subplots(figsize=(15, 15))\n",
    "#test_model('normal', ax=ax)"
   ]
  },
  {
   "cell_type": "code",
   "execution_count": 278,
   "id": "bearing-chancellor",
   "metadata": {},
   "outputs": [
    {
     "name": "stdout",
     "output_type": "stream",
     "text": [
      "6386575.14075423\n",
      "7874093.681438636\n"
     ]
    },
    {
     "data": {
      "image/png": "[encoded data removed]",
      "text/plain": [
       "<Figure size 1152x1152 with 2 Axes>"
      ]
     },
     "metadata": {
      "needs_background": "light"
     },
     "output_type": "display_data"
    }
   ],
   "source": [
    "fig, ax = plt.subplots(1, 2, figsize=(16, 16))\n",
    "\n",
    "power_costs_none = [.0168, .2384, .2384]\n",
    "power_costs_high = [.2384, .2384, .2384]\n",
    "\n",
    "test_model('PowerVariation_none', power_costs=power_costs_none, ax=ax[0])\n",
    "test_model('PowerVariation_high', power_costs=power_costs_high, ax=ax[1])\n",
    "plt.tight_layout()\n",
    "plt.show()"
   ]
  },
  {
   "cell_type": "code",
   "execution_count": 265,
   "id": "loaded-driver",
   "metadata": {},
   "outputs": [
    {
     "data": {
      "image/png": "[encoded data removed]",
      "text/plain": [
       "<Figure size 1152x1152 with 3 Axes>"
      ]
     },
     "metadata": {
      "needs_background": "light"
     },
     "output_type": "display_data"
    }
   ],
   "source": [
    "fig, ax = plt.subplots(1, 3, figsize=(16, 16))\n",
    "\n",
    "vmin = speed_edges_gdf[['speeds_0', 'speeds_1', 'speeds_2']].min().min()\n",
    "vmax = speed_edges_gdf[['speeds_0', 'speeds_1', 'speeds_2']].max().max()\n",
    "\n",
    "speed_edges_gdf.plot(ax=ax[0], column='speeds_0', cmap='RdBu', zorder=2, linewidth=3, vmin=vmin, vmax=vmax)\n",
    "speed_edges_gdf.plot(ax=ax[1], column='speeds_1', cmap='RdBu', zorder=2, linewidth=3, vmin=vmin, vmax=vmax)\n",
    "speed_edges_gdf.plot(ax=ax[2], column='speeds_2', cmap='RdBu', zorder=2, linewidth=3, vmin=vmin, vmax=vmax)\n",
    "ax[0].set_facecolor('#777')\n",
    "ax[1].set_facecolor('#777')\n",
    "ax[2].set_facecolor('#777')\n",
    "\n",
    "ax[0].get_xaxis().set_visible(False)\n",
    "ax[0].get_yaxis().set_visible(False)\n",
    "ax[1].get_xaxis().set_visible(False)\n",
    "ax[1].get_yaxis().set_visible(False)\n",
    "ax[2].get_xaxis().set_visible(False)\n",
    "ax[2].get_yaxis().set_visible(False)\n",
    "\n",
    "plt.tight_layout()\n",
    "plt.show()"
   ]
  },
  {
   "cell_type": "code",
   "execution_count": null,
   "id": "subject-pierce",
   "metadata": {},
   "outputs": [],
   "source": []
  }
 ],
 "metadata": {
  "kernelspec": {
   "display_name": "Python 3",
   "language": "python",
   "name": "python3"
  },
  "language_info": {
   "codemirror_mode": {
    "name": "ipython",
    "version": 3
   },
   "file_extension": ".py",
   "mimetype": "text/x-python",
   "name": "python",
   "nbconvert_exporter": "python",
   "pygments_lexer": "ipython3",
   "version": "3.7.6"
  }
 },
 "nbformat": 4,
 "nbformat_minor": 5
}
