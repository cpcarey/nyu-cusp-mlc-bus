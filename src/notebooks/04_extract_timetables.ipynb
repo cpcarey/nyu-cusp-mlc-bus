{
 "cells": [
  {
   "cell_type": "code",
   "execution_count": 1,
   "id": "duplicate-disease",
   "metadata": {},
   "outputs": [],
   "source": [
    "# This file plots the elevation gradients of bus route road segments with a\n",
    "# red/blue diverging color map to indicate uphill (red) and downhill (blue)\n",
    "# slopes."
   ]
  },
  {
   "cell_type": "code",
   "execution_count": 2,
   "id": "caring-electron",
   "metadata": {},
   "outputs": [],
   "source": [
    "import geopandas as gpd\n",
    "import json\n",
    "import matplotlib\n",
    "import matplotlib.cm as cm\n",
    "import matplotlib.colors as colors\n",
    "import matplotlib.pyplot as plt\n",
    "import networkx as nx\n",
    "import numpy as np\n",
    "import numpy as npm\n",
    "import osmnx as ox\n",
    "import pandas as pd\n",
    "from tqdm import tqdm\n",
    "\n",
    "import warnings\n",
    "warnings.filterwarnings('ignore')\n",
    "%matplotlib inline"
   ]
  },
  {
   "cell_type": "code",
   "execution_count": 3,
   "id": "final-nowhere",
   "metadata": {},
   "outputs": [],
   "source": [
    "CRS_LATLON = 'EPSG:4326'\n",
    "DATA_DIR = '../../data'\n",
    "EXPORTS_DIR = f'{DATA_DIR}/exports'"
   ]
  },
  {
   "cell_type": "code",
   "execution_count": 11,
   "id": "legendary-greenhouse",
   "metadata": {},
   "outputs": [],
   "source": [
    "def peek(df):\n",
    "    print(len(df))\n",
    "    display(df.iloc[0:3])"
   ]
  },
  {
   "cell_type": "code",
   "execution_count": 36,
   "id": "overall-uzbekistan",
   "metadata": {},
   "outputs": [],
   "source": [
    "routes_gdf = gpd.read_file(f'{DATA_DIR}/shp/manhattan/bus_routes_nyc_may2020.shp')\n",
    "routes_gdf = routes_gdf.to_crs(CRS_LATLON)\n",
    "stops_gdf = gpd.read_file(f'{DATA_DIR}/shp/manhattan/bus_stops_nyc_may2020.shp')\n",
    "stops_gdf = stops_gdf.to_crs(CRS_LATLON)"
   ]
  },
  {
   "cell_type": "code",
   "execution_count": 13,
   "id": "innocent-enzyme",
   "metadata": {},
   "outputs": [],
   "source": [
    "routes_df = pd.read_csv(f'{DATA_DIR}/gtfs/manhattan/routes.txt')"
   ]
  },
  {
   "cell_type": "code",
   "execution_count": 14,
   "id": "optimum-string",
   "metadata": {},
   "outputs": [
    {
     "name": "stdout",
     "output_type": "stream",
     "text": [
      "16\n"
     ]
    },
    {
     "data": {
      "text/html": [
       "<div>\n",
       "<style scoped>\n",
       "    .dataframe tbody tr th:only-of-type {\n",
       "        vertical-align: middle;\n",
       "    }\n",
       "\n",
       "    .dataframe tbody tr th {\n",
       "        vertical-align: top;\n",
       "    }\n",
       "\n",
       "    .dataframe thead th {\n",
       "        text-align: right;\n",
       "    }\n",
       "</style>\n",
       "<table border=\"1\" class=\"dataframe\">\n",
       "  <thead>\n",
       "    <tr style=\"text-align: right;\">\n",
       "      <th></th>\n",
       "      <th>service_id</th>\n",
       "      <th>monday</th>\n",
       "      <th>tuesday</th>\n",
       "      <th>wednesday</th>\n",
       "      <th>thursday</th>\n",
       "      <th>friday</th>\n",
       "      <th>saturday</th>\n",
       "      <th>sunday</th>\n",
       "      <th>start_date</th>\n",
       "      <th>end_date</th>\n",
       "    </tr>\n",
       "  </thead>\n",
       "  <tbody>\n",
       "    <tr>\n",
       "      <th>0</th>\n",
       "      <td>MQ_C1-Sunday</td>\n",
       "      <td>0</td>\n",
       "      <td>0</td>\n",
       "      <td>0</td>\n",
       "      <td>0</td>\n",
       "      <td>0</td>\n",
       "      <td>0</td>\n",
       "      <td>1</td>\n",
       "      <td>20210627</td>\n",
       "      <td>20210829</td>\n",
       "    </tr>\n",
       "    <tr>\n",
       "      <th>1</th>\n",
       "      <td>MQ_C1-Weekday-SDon</td>\n",
       "      <td>1</td>\n",
       "      <td>1</td>\n",
       "      <td>1</td>\n",
       "      <td>1</td>\n",
       "      <td>1</td>\n",
       "      <td>0</td>\n",
       "      <td>0</td>\n",
       "      <td>20210628</td>\n",
       "      <td>20210903</td>\n",
       "    </tr>\n",
       "    <tr>\n",
       "      <th>2</th>\n",
       "      <td>MQ_C1-Saturday</td>\n",
       "      <td>0</td>\n",
       "      <td>0</td>\n",
       "      <td>0</td>\n",
       "      <td>0</td>\n",
       "      <td>0</td>\n",
       "      <td>1</td>\n",
       "      <td>0</td>\n",
       "      <td>20210703</td>\n",
       "      <td>20210904</td>\n",
       "    </tr>\n",
       "  </tbody>\n",
       "</table>\n",
       "</div>"
      ],
      "text/plain": [
       "           service_id  monday  tuesday  wednesday  thursday  friday  saturday  \\\n",
       "0        MQ_C1-Sunday       0        0          0         0       0         0   \n",
       "1  MQ_C1-Weekday-SDon       1        1          1         1       1         0   \n",
       "2      MQ_C1-Saturday       0        0          0         0       0         1   \n",
       "\n",
       "   sunday  start_date  end_date  \n",
       "0       1    20210627  20210829  \n",
       "1       0    20210628  20210903  \n",
       "2       0    20210703  20210904  "
      ]
     },
     "metadata": {},
     "output_type": "display_data"
    }
   ],
   "source": [
    "calendar_df = pd.read_csv(f'{DATA_DIR}/gtfs/manhattan/calendar.txt')\n",
    "peek(calendar_df)"
   ]
  },
  {
   "cell_type": "code",
   "execution_count": 16,
   "id": "wired-physiology",
   "metadata": {},
   "outputs": [
    {
     "name": "stdout",
     "output_type": "stream",
     "text": [
      "934109\n"
     ]
    },
    {
     "data": {
      "text/html": [
       "<div>\n",
       "<style scoped>\n",
       "    .dataframe tbody tr th:only-of-type {\n",
       "        vertical-align: middle;\n",
       "    }\n",
       "\n",
       "    .dataframe tbody tr th {\n",
       "        vertical-align: top;\n",
       "    }\n",
       "\n",
       "    .dataframe thead th {\n",
       "        text-align: right;\n",
       "    }\n",
       "</style>\n",
       "<table border=\"1\" class=\"dataframe\">\n",
       "  <thead>\n",
       "    <tr style=\"text-align: right;\">\n",
       "      <th></th>\n",
       "      <th>trip_id</th>\n",
       "      <th>arrival_time</th>\n",
       "      <th>departure_time</th>\n",
       "      <th>stop_id</th>\n",
       "      <th>stop_sequence</th>\n",
       "      <th>pickup_type</th>\n",
       "      <th>drop_off_type</th>\n",
       "    </tr>\n",
       "  </thead>\n",
       "  <tbody>\n",
       "    <tr>\n",
       "      <th>0</th>\n",
       "      <td>MQ_C1-Weekday-032400_M57_451</td>\n",
       "      <td>05:24:00</td>\n",
       "      <td>05:24:00</td>\n",
       "      <td>400745</td>\n",
       "      <td>1</td>\n",
       "      <td>0</td>\n",
       "      <td>0</td>\n",
       "    </tr>\n",
       "    <tr>\n",
       "      <th>1</th>\n",
       "      <td>MQ_C1-Weekday-032400_M57_451</td>\n",
       "      <td>05:25:30</td>\n",
       "      <td>05:25:30</td>\n",
       "      <td>402233</td>\n",
       "      <td>2</td>\n",
       "      <td>0</td>\n",
       "      <td>0</td>\n",
       "    </tr>\n",
       "    <tr>\n",
       "      <th>2</th>\n",
       "      <td>MQ_C1-Weekday-032400_M57_451</td>\n",
       "      <td>05:26:44</td>\n",
       "      <td>05:26:44</td>\n",
       "      <td>403986</td>\n",
       "      <td>3</td>\n",
       "      <td>0</td>\n",
       "      <td>0</td>\n",
       "    </tr>\n",
       "  </tbody>\n",
       "</table>\n",
       "</div>"
      ],
      "text/plain": [
       "                        trip_id arrival_time departure_time  stop_id  \\\n",
       "0  MQ_C1-Weekday-032400_M57_451     05:24:00       05:24:00   400745   \n",
       "1  MQ_C1-Weekday-032400_M57_451     05:25:30       05:25:30   402233   \n",
       "2  MQ_C1-Weekday-032400_M57_451     05:26:44       05:26:44   403986   \n",
       "\n",
       "   stop_sequence  pickup_type  drop_off_type  \n",
       "0              1            0              0  \n",
       "1              2            0              0  \n",
       "2              3            0              0  "
      ]
     },
     "metadata": {},
     "output_type": "display_data"
    }
   ],
   "source": [
    "stop_times_df = pd.read_csv(f'{DATA_DIR}/gtfs/manhattan/stop_times.txt')\n",
    "peek(stop_times_df)"
   ]
  },
  {
   "cell_type": "code",
   "execution_count": 17,
   "id": "rubber-destiny",
   "metadata": {},
   "outputs": [
    {
     "name": "stdout",
     "output_type": "stream",
     "text": [
      "29055\n"
     ]
    },
    {
     "data": {
      "text/html": [
       "<div>\n",
       "<style scoped>\n",
       "    .dataframe tbody tr th:only-of-type {\n",
       "        vertical-align: middle;\n",
       "    }\n",
       "\n",
       "    .dataframe tbody tr th {\n",
       "        vertical-align: top;\n",
       "    }\n",
       "\n",
       "    .dataframe thead th {\n",
       "        text-align: right;\n",
       "    }\n",
       "</style>\n",
       "<table border=\"1\" class=\"dataframe\">\n",
       "  <thead>\n",
       "    <tr style=\"text-align: right;\">\n",
       "      <th></th>\n",
       "      <th>route_id</th>\n",
       "      <th>service_id</th>\n",
       "      <th>trip_id</th>\n",
       "      <th>trip_headsign</th>\n",
       "      <th>direction_id</th>\n",
       "      <th>shape_id</th>\n",
       "    </tr>\n",
       "  </thead>\n",
       "  <tbody>\n",
       "    <tr>\n",
       "      <th>0</th>\n",
       "      <td>M57</td>\n",
       "      <td>MQ_C1-Weekday</td>\n",
       "      <td>MQ_C1-Weekday-032400_M57_451</td>\n",
       "      <td>WEST SIDE BROADWAY-72 ST CROSSTOWN</td>\n",
       "      <td>1</td>\n",
       "      <td>M570110</td>\n",
       "    </tr>\n",
       "    <tr>\n",
       "      <th>1</th>\n",
       "      <td>M57</td>\n",
       "      <td>MQ_C1-Weekday</td>\n",
       "      <td>MQ_C1-Weekday-034000_M57_451</td>\n",
       "      <td>EAST SIDE YORK-60 ST CROSSTOWN</td>\n",
       "      <td>0</td>\n",
       "      <td>M570111</td>\n",
       "    </tr>\n",
       "    <tr>\n",
       "      <th>2</th>\n",
       "      <td>M57</td>\n",
       "      <td>MQ_C1-Weekday</td>\n",
       "      <td>MQ_C1-Weekday-037300_M57_451</td>\n",
       "      <td>WEST SIDE BROADWAY-72 ST CROSSTOWN</td>\n",
       "      <td>1</td>\n",
       "      <td>M570109</td>\n",
       "    </tr>\n",
       "  </tbody>\n",
       "</table>\n",
       "</div>"
      ],
      "text/plain": [
       "  route_id     service_id                       trip_id  \\\n",
       "0      M57  MQ_C1-Weekday  MQ_C1-Weekday-032400_M57_451   \n",
       "1      M57  MQ_C1-Weekday  MQ_C1-Weekday-034000_M57_451   \n",
       "2      M57  MQ_C1-Weekday  MQ_C1-Weekday-037300_M57_451   \n",
       "\n",
       "                        trip_headsign  direction_id shape_id  \n",
       "0  WEST SIDE BROADWAY-72 ST CROSSTOWN             1  M570110  \n",
       "1      EAST SIDE YORK-60 ST CROSSTOWN             0  M570111  \n",
       "2  WEST SIDE BROADWAY-72 ST CROSSTOWN             1  M570109  "
      ]
     },
     "metadata": {},
     "output_type": "display_data"
    }
   ],
   "source": [
    "trips_df = pd.read_csv(f'{DATA_DIR}/gtfs/manhattan/trips.txt')\n",
    "peek(trips_df)"
   ]
  },
  {
   "cell_type": "code",
   "execution_count": 18,
   "id": "tough-burns",
   "metadata": {},
   "outputs": [
    {
     "name": "stdout",
     "output_type": "stream",
     "text": [
      "505068\n"
     ]
    },
    {
     "data": {
      "text/html": [
       "<div>\n",
       "<style scoped>\n",
       "    .dataframe tbody tr th:only-of-type {\n",
       "        vertical-align: middle;\n",
       "    }\n",
       "\n",
       "    .dataframe tbody tr th {\n",
       "        vertical-align: top;\n",
       "    }\n",
       "\n",
       "    .dataframe thead th {\n",
       "        text-align: right;\n",
       "    }\n",
       "</style>\n",
       "<table border=\"1\" class=\"dataframe\">\n",
       "  <thead>\n",
       "    <tr style=\"text-align: right;\">\n",
       "      <th></th>\n",
       "      <th></th>\n",
       "      <th></th>\n",
       "      <th>trip_id</th>\n",
       "      <th>arrival_time</th>\n",
       "      <th>departure_time</th>\n",
       "      <th>stop_id</th>\n",
       "      <th>stop_sequence</th>\n",
       "      <th>pickup_type</th>\n",
       "      <th>drop_off_type</th>\n",
       "      <th>trip_headsign</th>\n",
       "      <th>shape_id</th>\n",
       "    </tr>\n",
       "    <tr>\n",
       "      <th>route_id</th>\n",
       "      <th>service_id</th>\n",
       "      <th>direction_id</th>\n",
       "      <th></th>\n",
       "      <th></th>\n",
       "      <th></th>\n",
       "      <th></th>\n",
       "      <th></th>\n",
       "      <th></th>\n",
       "      <th></th>\n",
       "      <th></th>\n",
       "      <th></th>\n",
       "    </tr>\n",
       "  </thead>\n",
       "  <tbody>\n",
       "    <tr>\n",
       "      <th rowspan=\"3\" valign=\"top\">M1</th>\n",
       "      <th rowspan=\"3\" valign=\"top\">OF_C1-Weekday</th>\n",
       "      <th>0</th>\n",
       "      <td>OF_C1-Weekday-033500_M1_101</td>\n",
       "      <td>05:35:00</td>\n",
       "      <td>05:35:00</td>\n",
       "      <td>400001</td>\n",
       "      <td>1</td>\n",
       "      <td>0</td>\n",
       "      <td>0</td>\n",
       "      <td>HARLEM 147 ST via MADISON AV</td>\n",
       "      <td>M010006</td>\n",
       "    </tr>\n",
       "    <tr>\n",
       "      <th>0</th>\n",
       "      <td>OF_C1-Weekday-033500_M1_101</td>\n",
       "      <td>05:35:36</td>\n",
       "      <td>05:35:36</td>\n",
       "      <td>400002</td>\n",
       "      <td>2</td>\n",
       "      <td>0</td>\n",
       "      <td>0</td>\n",
       "      <td>HARLEM 147 ST via MADISON AV</td>\n",
       "      <td>M010006</td>\n",
       "    </tr>\n",
       "    <tr>\n",
       "      <th>0</th>\n",
       "      <td>OF_C1-Weekday-033500_M1_101</td>\n",
       "      <td>05:36:14</td>\n",
       "      <td>05:36:14</td>\n",
       "      <td>400003</td>\n",
       "      <td>3</td>\n",
       "      <td>0</td>\n",
       "      <td>0</td>\n",
       "      <td>HARLEM 147 ST via MADISON AV</td>\n",
       "      <td>M010006</td>\n",
       "    </tr>\n",
       "  </tbody>\n",
       "</table>\n",
       "</div>"
      ],
      "text/plain": [
       "                                                         trip_id arrival_time  \\\n",
       "route_id service_id    direction_id                                             \n",
       "M1       OF_C1-Weekday 0             OF_C1-Weekday-033500_M1_101     05:35:00   \n",
       "                       0             OF_C1-Weekday-033500_M1_101     05:35:36   \n",
       "                       0             OF_C1-Weekday-033500_M1_101     05:36:14   \n",
       "\n",
       "                                    departure_time  stop_id  stop_sequence  \\\n",
       "route_id service_id    direction_id                                          \n",
       "M1       OF_C1-Weekday 0                  05:35:00   400001              1   \n",
       "                       0                  05:35:36   400002              2   \n",
       "                       0                  05:36:14   400003              3   \n",
       "\n",
       "                                     pickup_type  drop_off_type  \\\n",
       "route_id service_id    direction_id                               \n",
       "M1       OF_C1-Weekday 0                       0              0   \n",
       "                       0                       0              0   \n",
       "                       0                       0              0   \n",
       "\n",
       "                                                    trip_headsign shape_id  \n",
       "route_id service_id    direction_id                                         \n",
       "M1       OF_C1-Weekday 0             HARLEM 147 ST via MADISON AV  M010006  \n",
       "                       0             HARLEM 147 ST via MADISON AV  M010006  \n",
       "                       0             HARLEM 147 ST via MADISON AV  M010006  "
      ]
     },
     "metadata": {},
     "output_type": "display_data"
    }
   ],
   "source": [
    "timetable_df = stop_times_df.merge(trips_df, on='trip_id', how='inner')\n",
    "timetable_df = timetable_df[timetable_df['service_id'].str.contains('Weekday')]\n",
    "timetable_df = timetable_df.sort_values(by=['route_id', 'direction_id', 'trip_id', 'stop_sequence'])\n",
    "timetable_df = timetable_df.set_index(['route_id', 'service_id', 'direction_id'])\n",
    "peek(timetable_df)"
   ]
  },
  {
   "cell_type": "code",
   "execution_count": 19,
   "id": "binding-suspension",
   "metadata": {},
   "outputs": [],
   "source": [
    "routes = list(set(multiindex[0] for multiindex in timetable_df.index))\n",
    "routes.sort()"
   ]
  },
  {
   "cell_type": "code",
   "execution_count": 20,
   "id": "bizarre-execution",
   "metadata": {},
   "outputs": [],
   "source": [
    "services = list(set(multiindex[0:2] for multiindex in timetable_df.index))\n",
    "services.sort()"
   ]
  },
  {
   "cell_type": "code",
   "execution_count": 21,
   "id": "governmental-riding",
   "metadata": {},
   "outputs": [
    {
     "name": "stderr",
     "output_type": "stream",
     "text": [
      "100%|██████████| 505068/505068 [00:28<00:00, 17440.73it/s]\n"
     ]
    }
   ],
   "source": [
    "def hash_stop_sequence(stop_sequence):\n",
    "    return ','.join([str(i) for i in stop_sequence])\n",
    "\n",
    "def hash_multi_index(multi_index):\n",
    "    return ','.join([str(i) for i in multi_index])\n",
    "\n",
    "trip_stop_sequence_dict = {}\n",
    "trip_manifest = {}\n",
    "\n",
    "for multi_index in tqdm(timetable_df.index):\n",
    "    stop_dict = {}\n",
    "    stop_sequence_dict = {}\n",
    "    stop_sequence_set = set([''])\n",
    "    stop_sequence = []\n",
    "    stop_sequence_next_index = 0\n",
    "    hash_to_index_dict = {}\n",
    "    multi_index_hash = hash_multi_index(multi_index)\n",
    "    \n",
    "    if multi_index_hash in trip_manifest:\n",
    "        continue\n",
    "    \n",
    "    rows = list((timetable_df.loc[multi_index][['trip_id', 'stop_sequence', 'stop_id']]).iterrows())\n",
    "    for i, row in enumerate(rows):\n",
    "        trip_id, stop_index, stop_id = row[1]\n",
    "        \n",
    "        # Last row.\n",
    "        if i == len(rows) - 1:\n",
    "            stop_sequence.append(stop_id)\n",
    "        \n",
    "        if (stop_index == 1 or i == len(rows) - 1) and len(stop_sequence) > 0:\n",
    "            stop_sequence_hash = hash_stop_sequence(stop_sequence)\n",
    "            if stop_sequence_hash not in stop_sequence_set:\n",
    "                stop_sequence_set.add(stop_sequence_hash)\n",
    "                stop_sequence_dict[stop_sequence_next_index] = stop_sequence\n",
    "                hash_to_index_dict[stop_sequence_hash] = stop_sequence_next_index\n",
    "                stop_sequence_next_index += 1\n",
    "                \n",
    "            if multi_index_hash not in trip_manifest:\n",
    "                trip_manifest[multi_index_hash] = {}\n",
    "                \n",
    "            stop_sequence_index = hash_to_index_dict[stop_sequence_hash]\n",
    "            trip_manifest[multi_index_hash][trip_id] = stop_sequence_index\n",
    "            stop_sequence = []\n",
    "            \n",
    "        stop_sequence.append(stop_id)\n",
    "    trip_stop_sequence_dict[hash_multi_index(multi_index)] = stop_sequence_dict"
   ]
  },
  {
   "cell_type": "code",
   "execution_count": 40,
   "id": "painted-check",
   "metadata": {},
   "outputs": [],
   "source": [
    "timetable_df.to_csv(f'{EXPORTS_DIR}/csv/manhattan/timetable.csv', index=None)"
   ]
  },
  {
   "cell_type": "code",
   "execution_count": 41,
   "id": "dated-arrest",
   "metadata": {},
   "outputs": [],
   "source": [
    "with open(f'{EXPORTS_DIR}/json/manhattan/trip_stop_sequence_dict.json', 'w') as fp:\n",
    "    json.dump(trip_stop_sequence_dict, fp)\n",
    "with open(f'{EXPORTS_DIR}/json/manhattan/trip_manifest.json', 'w') as fp:\n",
    "    json.dump(trip_manifest, fp)"
   ]
  },
  {
   "cell_type": "code",
   "execution_count": 23,
   "id": "streaming-overhead",
   "metadata": {},
   "outputs": [
    {
     "name": "stdout",
     "output_type": "stream",
     "text": [
      "1808\n"
     ]
    },
    {
     "data": {
      "text/html": [
       "<div>\n",
       "<style scoped>\n",
       "    .dataframe tbody tr th:only-of-type {\n",
       "        vertical-align: middle;\n",
       "    }\n",
       "\n",
       "    .dataframe tbody tr th {\n",
       "        vertical-align: top;\n",
       "    }\n",
       "\n",
       "    .dataframe thead th {\n",
       "        text-align: right;\n",
       "    }\n",
       "</style>\n",
       "<table border=\"1\" class=\"dataframe\">\n",
       "  <thead>\n",
       "    <tr style=\"text-align: right;\">\n",
       "      <th></th>\n",
       "      <th>stop_id</th>\n",
       "      <th>stop_name</th>\n",
       "      <th>stop_desc</th>\n",
       "      <th>stop_lat</th>\n",
       "      <th>stop_lon</th>\n",
       "      <th>zone_id</th>\n",
       "      <th>stop_url</th>\n",
       "      <th>location_type</th>\n",
       "      <th>parent_station</th>\n",
       "    </tr>\n",
       "  </thead>\n",
       "  <tbody>\n",
       "    <tr>\n",
       "      <th>0</th>\n",
       "      <td>400001</td>\n",
       "      <td>4 AV/E 10 ST</td>\n",
       "      <td>NaN</td>\n",
       "      <td>40.731342</td>\n",
       "      <td>-73.990292</td>\n",
       "      <td>NaN</td>\n",
       "      <td>NaN</td>\n",
       "      <td>0</td>\n",
       "      <td>NaN</td>\n",
       "    </tr>\n",
       "    <tr>\n",
       "      <th>1</th>\n",
       "      <td>400002</td>\n",
       "      <td>4 AV/E 12 ST</td>\n",
       "      <td>NaN</td>\n",
       "      <td>40.732608</td>\n",
       "      <td>-73.989958</td>\n",
       "      <td>NaN</td>\n",
       "      <td>NaN</td>\n",
       "      <td>0</td>\n",
       "      <td>NaN</td>\n",
       "    </tr>\n",
       "    <tr>\n",
       "      <th>2</th>\n",
       "      <td>400003</td>\n",
       "      <td>4 AV/E 13 ST</td>\n",
       "      <td>NaN</td>\n",
       "      <td>40.733936</td>\n",
       "      <td>-73.989720</td>\n",
       "      <td>NaN</td>\n",
       "      <td>NaN</td>\n",
       "      <td>0</td>\n",
       "      <td>NaN</td>\n",
       "    </tr>\n",
       "  </tbody>\n",
       "</table>\n",
       "</div>"
      ],
      "text/plain": [
       "   stop_id     stop_name  stop_desc   stop_lat   stop_lon  zone_id  stop_url  \\\n",
       "0   400001  4 AV/E 10 ST        NaN  40.731342 -73.990292      NaN       NaN   \n",
       "1   400002  4 AV/E 12 ST        NaN  40.732608 -73.989958      NaN       NaN   \n",
       "2   400003  4 AV/E 13 ST        NaN  40.733936 -73.989720      NaN       NaN   \n",
       "\n",
       "   location_type  parent_station  \n",
       "0              0             NaN  \n",
       "1              0             NaN  \n",
       "2              0             NaN  "
      ]
     },
     "metadata": {},
     "output_type": "display_data"
    }
   ],
   "source": [
    "stops_df = pd.read_csv(f'{DATA_DIR}/gtfs/manhattan/stops.txt')\n",
    "peek(stops_df)"
   ]
  },
  {
   "cell_type": "code",
   "execution_count": 24,
   "id": "manufactured-intent",
   "metadata": {},
   "outputs": [
    {
     "name": "stdout",
     "output_type": "stream",
     "text": [
      "279\n"
     ]
    },
    {
     "data": {
      "text/html": [
       "<div>\n",
       "<style scoped>\n",
       "    .dataframe tbody tr th:only-of-type {\n",
       "        vertical-align: middle;\n",
       "    }\n",
       "\n",
       "    .dataframe tbody tr th {\n",
       "        vertical-align: top;\n",
       "    }\n",
       "\n",
       "    .dataframe thead th {\n",
       "        text-align: right;\n",
       "    }\n",
       "</style>\n",
       "<table border=\"1\" class=\"dataframe\">\n",
       "  <thead>\n",
       "    <tr style=\"text-align: right;\">\n",
       "      <th></th>\n",
       "      <th>route_id</th>\n",
       "      <th>agency_id</th>\n",
       "      <th>route_short_name</th>\n",
       "      <th>route_long_name</th>\n",
       "      <th>route_desc</th>\n",
       "      <th>route_type</th>\n",
       "      <th>route_color</th>\n",
       "      <th>route_text_color</th>\n",
       "    </tr>\n",
       "  </thead>\n",
       "  <tbody>\n",
       "    <tr>\n",
       "      <th>0</th>\n",
       "      <td>B1</td>\n",
       "      <td>MTA NYCT</td>\n",
       "      <td>B1</td>\n",
       "      <td>Bay Ridge - Manhattan Beach</td>\n",
       "      <td>via 86th St / Ocean Pkwy</td>\n",
       "      <td>3</td>\n",
       "      <td>00AEEF</td>\n",
       "      <td>FFFFFF</td>\n",
       "    </tr>\n",
       "    <tr>\n",
       "      <th>1</th>\n",
       "      <td>B11</td>\n",
       "      <td>MTA NYCT</td>\n",
       "      <td>B11</td>\n",
       "      <td>Sunset Park - Midwood</td>\n",
       "      <td>via 49th &amp; 50th St / Avenue J</td>\n",
       "      <td>3</td>\n",
       "      <td>006CB7</td>\n",
       "      <td>FFFFFF</td>\n",
       "    </tr>\n",
       "    <tr>\n",
       "      <th>2</th>\n",
       "      <td>B12</td>\n",
       "      <td>MTA NYCT</td>\n",
       "      <td>B12</td>\n",
       "      <td>Lefferts Gardens - East New York</td>\n",
       "      <td>via Clarkson Av / Empire Blvd / East New York Av</td>\n",
       "      <td>3</td>\n",
       "      <td>6CBE45</td>\n",
       "      <td>FFFFFF</td>\n",
       "    </tr>\n",
       "  </tbody>\n",
       "</table>\n",
       "</div>"
      ],
      "text/plain": [
       "  route_id agency_id route_short_name                   route_long_name  \\\n",
       "0       B1  MTA NYCT               B1       Bay Ridge - Manhattan Beach   \n",
       "1      B11  MTA NYCT              B11             Sunset Park - Midwood   \n",
       "2      B12  MTA NYCT              B12  Lefferts Gardens - East New York   \n",
       "\n",
       "                                         route_desc  route_type route_color  \\\n",
       "0                          via 86th St / Ocean Pkwy           3      00AEEF   \n",
       "1                     via 49th & 50th St / Avenue J           3      006CB7   \n",
       "2  via Clarkson Av / Empire Blvd / East New York Av           3      6CBE45   \n",
       "\n",
       "  route_text_color  \n",
       "0           FFFFFF  \n",
       "1           FFFFFF  \n",
       "2           FFFFFF  "
      ]
     },
     "metadata": {},
     "output_type": "display_data"
    }
   ],
   "source": [
    "routes_df = pd.read_csv(f'{DATA_DIR}/gtfs/manhattan/routes.txt')\n",
    "peek(routes_df)"
   ]
  },
  {
   "cell_type": "code",
   "execution_count": 25,
   "id": "another-permission",
   "metadata": {},
   "outputs": [
    {
     "name": "stdout",
     "output_type": "stream",
     "text": [
      "30275\n"
     ]
    },
    {
     "data": {
      "text/html": [
       "<div>\n",
       "<style scoped>\n",
       "    .dataframe tbody tr th:only-of-type {\n",
       "        vertical-align: middle;\n",
       "    }\n",
       "\n",
       "    .dataframe tbody tr th {\n",
       "        vertical-align: top;\n",
       "    }\n",
       "\n",
       "    .dataframe thead th {\n",
       "        text-align: right;\n",
       "    }\n",
       "</style>\n",
       "<table border=\"1\" class=\"dataframe\">\n",
       "  <thead>\n",
       "    <tr style=\"text-align: right;\">\n",
       "      <th></th>\n",
       "      <th>shape_id</th>\n",
       "      <th>shape_pt_lat</th>\n",
       "      <th>shape_pt_lon</th>\n",
       "      <th>shape_pt_sequence</th>\n",
       "    </tr>\n",
       "  </thead>\n",
       "  <tbody>\n",
       "    <tr>\n",
       "      <th>0</th>\n",
       "      <td>M010006</td>\n",
       "      <td>40.731353</td>\n",
       "      <td>-73.990370</td>\n",
       "      <td>10001</td>\n",
       "    </tr>\n",
       "    <tr>\n",
       "      <th>1</th>\n",
       "      <td>M010006</td>\n",
       "      <td>40.731982</td>\n",
       "      <td>-73.990209</td>\n",
       "      <td>10002</td>\n",
       "    </tr>\n",
       "    <tr>\n",
       "      <th>2</th>\n",
       "      <td>M010006</td>\n",
       "      <td>40.732621</td>\n",
       "      <td>-73.990059</td>\n",
       "      <td>10003</td>\n",
       "    </tr>\n",
       "  </tbody>\n",
       "</table>\n",
       "</div>"
      ],
      "text/plain": [
       "  shape_id  shape_pt_lat  shape_pt_lon  shape_pt_sequence\n",
       "0  M010006     40.731353    -73.990370              10001\n",
       "1  M010006     40.731982    -73.990209              10002\n",
       "2  M010006     40.732621    -73.990059              10003"
      ]
     },
     "metadata": {},
     "output_type": "display_data"
    }
   ],
   "source": [
    "shapes_df = pd.read_csv(f'{DATA_DIR}/gtfs/manhattan/shapes.txt')\n",
    "peek(shapes_df)"
   ]
  },
  {
   "cell_type": "code",
   "execution_count": 33,
   "id": "experimental-nylon",
   "metadata": {},
   "outputs": [],
   "source": [
    "m11_route_gdf = routes_gdf[routes_gdf['route_id'] == 'M11'].iloc[0:1]"
   ]
  },
  {
   "cell_type": "code",
   "execution_count": 34,
   "id": "smooth-shoot",
   "metadata": {},
   "outputs": [
    {
     "name": "stdout",
     "output_type": "stream",
     "text": [
      "1\n"
     ]
    },
    {
     "data": {
      "text/html": [
       "<div>\n",
       "<style scoped>\n",
       "    .dataframe tbody tr th:only-of-type {\n",
       "        vertical-align: middle;\n",
       "    }\n",
       "\n",
       "    .dataframe tbody tr th {\n",
       "        vertical-align: top;\n",
       "    }\n",
       "\n",
       "    .dataframe thead th {\n",
       "        text-align: right;\n",
       "    }\n",
       "</style>\n",
       "<table border=\"1\" class=\"dataframe\">\n",
       "  <thead>\n",
       "    <tr style=\"text-align: right;\">\n",
       "      <th></th>\n",
       "      <th>route_id</th>\n",
       "      <th>route_dir</th>\n",
       "      <th>route_shor</th>\n",
       "      <th>route_long</th>\n",
       "      <th>color</th>\n",
       "      <th>geometry</th>\n",
       "    </tr>\n",
       "  </thead>\n",
       "  <tbody>\n",
       "    <tr>\n",
       "      <th>14</th>\n",
       "      <td>M11</td>\n",
       "      <td>M11_0</td>\n",
       "      <td>M11</td>\n",
       "      <td>Riverbank Park &amp; Harlem - West Village</td>\n",
       "      <td>#FAA61A</td>\n",
       "      <td>MULTILINESTRING ((-74.00635 40.73694, -74.0064...</td>\n",
       "    </tr>\n",
       "  </tbody>\n",
       "</table>\n",
       "</div>"
      ],
      "text/plain": [
       "   route_id route_dir route_shor                              route_long  \\\n",
       "14      M11     M11_0        M11  Riverbank Park & Harlem - West Village   \n",
       "\n",
       "      color                                           geometry  \n",
       "14  #FAA61A  MULTILINESTRING ((-74.00635 40.73694, -74.0064...  "
      ]
     },
     "metadata": {},
     "output_type": "display_data"
    }
   ],
   "source": [
    "peek(m11_route_gdf)"
   ]
  },
  {
   "cell_type": "code",
   "execution_count": 35,
   "id": "standard-westminster",
   "metadata": {},
   "outputs": [
    {
     "data": {
      "image/png": "[encoded data removed]",
      "text/plain": [
       "<Figure size 720x720 with 1 Axes>"
      ]
     },
     "metadata": {
      "needs_background": "light"
     },
     "output_type": "display_data"
    }
   ],
   "source": [
    "fig, ax = plt.subplots(figsize=(10, 10))\n",
    "\n",
    "m11_route_gdf.plot(ax=ax)\n",
    "\n",
    "plt.show()"
   ]
  },
  {
   "cell_type": "code",
   "execution_count": null,
   "id": "pointed-clinic",
   "metadata": {},
   "outputs": [],
   "source": [
    "m11_geom = m11_gdf.iloc[0].geometry"
   ]
  },
  {
   "cell_type": "code",
   "execution_count": null,
   "id": "naval-liver",
   "metadata": {},
   "outputs": [],
   "source": [
    "list(m11_geom.geoms)"
   ]
  },
  {
   "cell_type": "code",
   "execution_count": null,
   "id": "universal-astrology",
   "metadata": {},
   "outputs": [],
   "source": []
  }
 ],
 "metadata": {
  "kernelspec": {
   "display_name": "Python 3",
   "language": "python",
   "name": "python3"
  },
  "language_info": {
   "codemirror_mode": {
    "name": "ipython",
    "version": 3
   },
   "file_extension": ".py",
   "mimetype": "text/x-python",
   "name": "python",
   "nbconvert_exporter": "python",
   "pygments_lexer": "ipython3",
   "version": "3.7.6"
  }
 },
 "nbformat": 4,
 "nbformat_minor": 5
}
